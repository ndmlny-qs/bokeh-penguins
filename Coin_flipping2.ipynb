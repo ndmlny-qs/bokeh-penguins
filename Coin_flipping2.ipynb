{
  "cells": [
    {
      "cell_type": "markdown",
      "metadata": {
        "originalKey": "b753aa78-8c86-47c3-a711-37cdc52d2c65",
        "showInput": false,
        "id": "WkKCIsMwAqfW"
      },
      "source": [
        "## Tutorial: Estimating heads rate of a coin"
      ]
    },
    {
      "cell_type": "markdown",
      "metadata": {
        "customInput": null,
        "originalKey": "21e11ae1-bef9-4a13-a07f-22f1a9d28093",
        "showInput": false,
        "id": "1jZYqmJtAqfZ"
      },
      "source": [
        "This tutorial demonstrates modeling and running inference on a simple coin-flipping\n",
        "model in Bean Machine. This should offer an accessible introduction to fundamental\n",
        "features of Bean Machine."
      ]
    },
    {
      "cell_type": "markdown",
      "metadata": {
        "originalKey": "a842303b-20af-44ab-8a24-f6224e1fb7d9",
        "showInput": false,
        "id": "y6rUJQ93Aqfa"
      },
      "source": [
        "## Problem"
      ]
    },
    {
      "cell_type": "markdown",
      "metadata": {
        "originalKey": "a842303b-20af-44ab-8a24-f6224e1fb7d9",
        "showInput": false,
        "id": "sWuERSCkAqfa"
      },
      "source": [
        "In this tutorial we consider the problem of estimating the probability of heads for a\n",
        "potentially biased coin. In this setup, we have flipped the coin a few times and\n",
        "recorded the results as training data. We're interested in learning about the coin's\n",
        "true heads rate."
      ]
    },
    {
      "cell_type": "markdown",
      "metadata": {
        "originalKey": "c38ce720-a973-4ca0-b9a1-4b0e9bc8c6df",
        "showInput": false,
        "id": "WH9QVMIkAqfb"
      },
      "source": [
        "## Prerequisites"
      ]
    },
    {
      "cell_type": "markdown",
      "metadata": {
        "originalKey": "c38ce720-a973-4ca0-b9a1-4b0e9bc8c6df",
        "showInput": false,
        "id": "wSBDD93qAqfb"
      },
      "source": [
        "Let's code this in Bean Machine! Import the Bean Machine library and some fundamental\n",
        "PyTorch classes."
      ]
    },
    {
      "cell_type": "code",
      "execution_count": 1,
      "metadata": {
        "colab": {
          "base_uri": "https://localhost:8080/"
        },
        "id": "MbjjW-66Aqfb",
        "outputId": "de59cbb3-2704-4dea-9178-9c96630a963a"
      },
      "outputs": [
        {
          "output_type": "stream",
          "name": "stdout",
          "text": [
            "Collecting beanmachine\n",
            "  Downloading beanmachine-0.1.1-cp37-cp37m-manylinux_2_17_x86_64.manylinux2014_x86_64.whl (966 kB)\n",
            "\u001b[?25l\r\u001b[K     |▍                               | 10 kB 22.7 MB/s eta 0:00:01\r\u001b[K     |▊                               | 20 kB 26.8 MB/s eta 0:00:01\r\u001b[K     |█                               | 30 kB 23.6 MB/s eta 0:00:01\r\u001b[K     |█▍                              | 40 kB 16.7 MB/s eta 0:00:01\r\u001b[K     |█▊                              | 51 kB 14.4 MB/s eta 0:00:01\r\u001b[K     |██                              | 61 kB 15.5 MB/s eta 0:00:01\r\u001b[K     |██▍                             | 71 kB 14.6 MB/s eta 0:00:01\r\u001b[K     |██▊                             | 81 kB 13.9 MB/s eta 0:00:01\r\u001b[K     |███                             | 92 kB 15.2 MB/s eta 0:00:01\r\u001b[K     |███▍                            | 102 kB 16.0 MB/s eta 0:00:01\r\u001b[K     |███▊                            | 112 kB 16.0 MB/s eta 0:00:01\r\u001b[K     |████                            | 122 kB 16.0 MB/s eta 0:00:01\r\u001b[K     |████▍                           | 133 kB 16.0 MB/s eta 0:00:01\r\u001b[K     |████▊                           | 143 kB 16.0 MB/s eta 0:00:01\r\u001b[K     |█████                           | 153 kB 16.0 MB/s eta 0:00:01\r\u001b[K     |█████▍                          | 163 kB 16.0 MB/s eta 0:00:01\r\u001b[K     |█████▊                          | 174 kB 16.0 MB/s eta 0:00:01\r\u001b[K     |██████                          | 184 kB 16.0 MB/s eta 0:00:01\r\u001b[K     |██████▍                         | 194 kB 16.0 MB/s eta 0:00:01\r\u001b[K     |██████▉                         | 204 kB 16.0 MB/s eta 0:00:01\r\u001b[K     |███████▏                        | 215 kB 16.0 MB/s eta 0:00:01\r\u001b[K     |███████▌                        | 225 kB 16.0 MB/s eta 0:00:01\r\u001b[K     |███████▉                        | 235 kB 16.0 MB/s eta 0:00:01\r\u001b[K     |████████▏                       | 245 kB 16.0 MB/s eta 0:00:01\r\u001b[K     |████████▌                       | 256 kB 16.0 MB/s eta 0:00:01\r\u001b[K     |████████▉                       | 266 kB 16.0 MB/s eta 0:00:01\r\u001b[K     |█████████▏                      | 276 kB 16.0 MB/s eta 0:00:01\r\u001b[K     |█████████▌                      | 286 kB 16.0 MB/s eta 0:00:01\r\u001b[K     |█████████▉                      | 296 kB 16.0 MB/s eta 0:00:01\r\u001b[K     |██████████▏                     | 307 kB 16.0 MB/s eta 0:00:01\r\u001b[K     |██████████▌                     | 317 kB 16.0 MB/s eta 0:00:01\r\u001b[K     |██████████▉                     | 327 kB 16.0 MB/s eta 0:00:01\r\u001b[K     |███████████▏                    | 337 kB 16.0 MB/s eta 0:00:01\r\u001b[K     |███████████▌                    | 348 kB 16.0 MB/s eta 0:00:01\r\u001b[K     |███████████▉                    | 358 kB 16.0 MB/s eta 0:00:01\r\u001b[K     |████████████▏                   | 368 kB 16.0 MB/s eta 0:00:01\r\u001b[K     |████████████▌                   | 378 kB 16.0 MB/s eta 0:00:01\r\u001b[K     |████████████▉                   | 389 kB 16.0 MB/s eta 0:00:01\r\u001b[K     |█████████████▎                  | 399 kB 16.0 MB/s eta 0:00:01\r\u001b[K     |█████████████▋                  | 409 kB 16.0 MB/s eta 0:00:01\r\u001b[K     |██████████████                  | 419 kB 16.0 MB/s eta 0:00:01\r\u001b[K     |██████████████▎                 | 430 kB 16.0 MB/s eta 0:00:01\r\u001b[K     |██████████████▋                 | 440 kB 16.0 MB/s eta 0:00:01\r\u001b[K     |███████████████                 | 450 kB 16.0 MB/s eta 0:00:01\r\u001b[K     |███████████████▎                | 460 kB 16.0 MB/s eta 0:00:01\r\u001b[K     |███████████████▋                | 471 kB 16.0 MB/s eta 0:00:01\r\u001b[K     |████████████████                | 481 kB 16.0 MB/s eta 0:00:01\r\u001b[K     |████████████████▎               | 491 kB 16.0 MB/s eta 0:00:01\r\u001b[K     |████████████████▋               | 501 kB 16.0 MB/s eta 0:00:01\r\u001b[K     |█████████████████               | 512 kB 16.0 MB/s eta 0:00:01\r\u001b[K     |█████████████████▎              | 522 kB 16.0 MB/s eta 0:00:01\r\u001b[K     |█████████████████▋              | 532 kB 16.0 MB/s eta 0:00:01\r\u001b[K     |██████████████████              | 542 kB 16.0 MB/s eta 0:00:01\r\u001b[K     |██████████████████▎             | 552 kB 16.0 MB/s eta 0:00:01\r\u001b[K     |██████████████████▋             | 563 kB 16.0 MB/s eta 0:00:01\r\u001b[K     |███████████████████             | 573 kB 16.0 MB/s eta 0:00:01\r\u001b[K     |███████████████████▎            | 583 kB 16.0 MB/s eta 0:00:01\r\u001b[K     |███████████████████▊            | 593 kB 16.0 MB/s eta 0:00:01\r\u001b[K     |████████████████████            | 604 kB 16.0 MB/s eta 0:00:01\r\u001b[K     |████████████████████▍           | 614 kB 16.0 MB/s eta 0:00:01\r\u001b[K     |████████████████████▊           | 624 kB 16.0 MB/s eta 0:00:01\r\u001b[K     |█████████████████████           | 634 kB 16.0 MB/s eta 0:00:01\r\u001b[K     |█████████████████████▍          | 645 kB 16.0 MB/s eta 0:00:01\r\u001b[K     |█████████████████████▊          | 655 kB 16.0 MB/s eta 0:00:01\r\u001b[K     |██████████████████████          | 665 kB 16.0 MB/s eta 0:00:01\r\u001b[K     |██████████████████████▍         | 675 kB 16.0 MB/s eta 0:00:01\r\u001b[K     |██████████████████████▊         | 686 kB 16.0 MB/s eta 0:00:01\r\u001b[K     |███████████████████████         | 696 kB 16.0 MB/s eta 0:00:01\r\u001b[K     |███████████████████████▍        | 706 kB 16.0 MB/s eta 0:00:01\r\u001b[K     |███████████████████████▊        | 716 kB 16.0 MB/s eta 0:00:01\r\u001b[K     |████████████████████████        | 727 kB 16.0 MB/s eta 0:00:01\r\u001b[K     |████████████████████████▍       | 737 kB 16.0 MB/s eta 0:00:01\r\u001b[K     |████████████████████████▊       | 747 kB 16.0 MB/s eta 0:00:01\r\u001b[K     |█████████████████████████       | 757 kB 16.0 MB/s eta 0:00:01\r\u001b[K     |█████████████████████████▍      | 768 kB 16.0 MB/s eta 0:00:01\r\u001b[K     |█████████████████████████▊      | 778 kB 16.0 MB/s eta 0:00:01\r\u001b[K     |██████████████████████████▏     | 788 kB 16.0 MB/s eta 0:00:01\r\u001b[K     |██████████████████████████▌     | 798 kB 16.0 MB/s eta 0:00:01\r\u001b[K     |██████████████████████████▉     | 808 kB 16.0 MB/s eta 0:00:01\r\u001b[K     |███████████████████████████▏    | 819 kB 16.0 MB/s eta 0:00:01\r\u001b[K     |███████████████████████████▌    | 829 kB 16.0 MB/s eta 0:00:01\r\u001b[K     |███████████████████████████▉    | 839 kB 16.0 MB/s eta 0:00:01\r\u001b[K     |████████████████████████████▏   | 849 kB 16.0 MB/s eta 0:00:01\r\u001b[K     |████████████████████████████▌   | 860 kB 16.0 MB/s eta 0:00:01\r\u001b[K     |████████████████████████████▉   | 870 kB 16.0 MB/s eta 0:00:01\r\u001b[K     |█████████████████████████████▏  | 880 kB 16.0 MB/s eta 0:00:01\r\u001b[K     |█████████████████████████████▌  | 890 kB 16.0 MB/s eta 0:00:01\r\u001b[K     |█████████████████████████████▉  | 901 kB 16.0 MB/s eta 0:00:01\r\u001b[K     |██████████████████████████████▏ | 911 kB 16.0 MB/s eta 0:00:01\r\u001b[K     |██████████████████████████████▌ | 921 kB 16.0 MB/s eta 0:00:01\r\u001b[K     |██████████████████████████████▉ | 931 kB 16.0 MB/s eta 0:00:01\r\u001b[K     |███████████████████████████████▏| 942 kB 16.0 MB/s eta 0:00:01\r\u001b[K     |███████████████████████████████▌| 952 kB 16.0 MB/s eta 0:00:01\r\u001b[K     |███████████████████████████████▉| 962 kB 16.0 MB/s eta 0:00:01\r\u001b[K     |████████████████████████████████| 966 kB 16.0 MB/s \n",
            "\u001b[?25hRequirement already satisfied: astor>=0.7.1 in /usr/local/lib/python3.7/dist-packages (from beanmachine) (0.8.1)\n",
            "Requirement already satisfied: scipy>=0.16 in /usr/local/lib/python3.7/dist-packages (from beanmachine) (1.4.1)\n",
            "Collecting botorch>=0.5.1\n",
            "  Downloading botorch-0.6.0-py3-none-any.whl (325 kB)\n",
            "\u001b[K     |████████████████████████████████| 325 kB 59.0 MB/s \n",
            "\u001b[?25hCollecting statsmodels>=0.12.0\n",
            "  Downloading statsmodels-0.13.2-cp37-cp37m-manylinux_2_17_x86_64.manylinux2014_x86_64.whl (9.8 MB)\n",
            "\u001b[K     |████████████████████████████████| 9.8 MB 9.7 MB/s \n",
            "\u001b[?25hCollecting flowtorch>=0.3\n",
            "  Downloading flowtorch-0.5-py3-none-any.whl (41 kB)\n",
            "\u001b[K     |████████████████████████████████| 41 kB 34 kB/s \n",
            "\u001b[?25hCollecting parameterized>=0.8.1\n",
            "  Downloading parameterized-0.8.1-py2.py3-none-any.whl (26 kB)\n",
            "Requirement already satisfied: plotly>=2.2.1 in /usr/local/lib/python3.7/dist-packages (from beanmachine) (5.5.0)\n",
            "Requirement already satisfied: torch>=1.9.0 in /usr/local/lib/python3.7/dist-packages (from beanmachine) (1.10.0+cu111)\n",
            "Collecting gpytorch>=1.3.0\n",
            "  Downloading gpytorch-1.6.0.tar.gz (310 kB)\n",
            "\u001b[K     |████████████████████████████████| 310 kB 47.3 MB/s \n",
            "\u001b[?25hRequirement already satisfied: arviz>=0.11.0 in /usr/local/lib/python3.7/dist-packages (from beanmachine) (0.11.4)\n",
            "Requirement already satisfied: tqdm>=4.46.0 in /usr/local/lib/python3.7/dist-packages (from beanmachine) (4.62.3)\n",
            "Collecting graphviz>=0.17\n",
            "  Downloading graphviz-0.19.1-py3-none-any.whl (46 kB)\n",
            "\u001b[K     |████████████████████████████████| 46 kB 3.7 MB/s \n",
            "\u001b[?25hRequirement already satisfied: pandas>=0.24.2 in /usr/local/lib/python3.7/dist-packages (from beanmachine) (1.3.5)\n",
            "Requirement already satisfied: xarray>=0.16.0 in /usr/local/lib/python3.7/dist-packages (from beanmachine) (0.18.2)\n",
            "Collecting black>=19.3b0\n",
            "  Downloading black-22.1.0-cp37-cp37m-manylinux_2_17_x86_64.manylinux2014_x86_64.whl (1.4 MB)\n",
            "\u001b[K     |████████████████████████████████| 1.4 MB 46.6 MB/s \n",
            "\u001b[?25hRequirement already satisfied: numpy>=1.18.1 in /usr/local/lib/python3.7/dist-packages (from beanmachine) (1.21.5)\n",
            "Requirement already satisfied: netcdf4 in /usr/local/lib/python3.7/dist-packages (from arviz>=0.11.0->beanmachine) (1.5.8)\n",
            "Requirement already satisfied: matplotlib>=3.0 in /usr/local/lib/python3.7/dist-packages (from arviz>=0.11.0->beanmachine) (3.2.2)\n",
            "Requirement already satisfied: setuptools>=38.4 in /usr/local/lib/python3.7/dist-packages (from arviz>=0.11.0->beanmachine) (57.4.0)\n",
            "Requirement already satisfied: typing-extensions<4,>=3.7.4.3 in /usr/local/lib/python3.7/dist-packages (from arviz>=0.11.0->beanmachine) (3.10.0.2)\n",
            "Requirement already satisfied: packaging in /usr/local/lib/python3.7/dist-packages (from arviz>=0.11.0->beanmachine) (21.3)\n",
            "Requirement already satisfied: tomli>=1.1.0 in /usr/local/lib/python3.7/dist-packages (from black>=19.3b0->beanmachine) (2.0.1)\n",
            "Collecting pathspec>=0.9.0\n",
            "  Downloading pathspec-0.9.0-py2.py3-none-any.whl (31 kB)\n",
            "Collecting click>=8.0.0\n",
            "  Downloading click-8.0.3-py3-none-any.whl (97 kB)\n",
            "\u001b[K     |████████████████████████████████| 97 kB 6.3 MB/s \n",
            "\u001b[?25hCollecting typed-ast>=1.4.2\n",
            "  Downloading typed_ast-1.5.2-cp37-cp37m-manylinux_2_5_x86_64.manylinux1_x86_64.manylinux_2_12_x86_64.manylinux2010_x86_64.whl (843 kB)\n",
            "\u001b[K     |████████████████████████████████| 843 kB 60.8 MB/s \n",
            "\u001b[?25hCollecting mypy-extensions>=0.4.3\n",
            "  Downloading mypy_extensions-0.4.3-py2.py3-none-any.whl (4.5 kB)\n",
            "Collecting platformdirs>=2\n",
            "  Downloading platformdirs-2.5.0-py3-none-any.whl (14 kB)\n",
            "Requirement already satisfied: importlib-metadata in /usr/local/lib/python3.7/dist-packages (from click>=8.0.0->black>=19.3b0->beanmachine) (4.11.0)\n",
            "Requirement already satisfied: pyparsing!=2.0.4,!=2.1.2,!=2.1.6,>=2.0.1 in /usr/local/lib/python3.7/dist-packages (from matplotlib>=3.0->arviz>=0.11.0->beanmachine) (3.0.7)\n",
            "Requirement already satisfied: cycler>=0.10 in /usr/local/lib/python3.7/dist-packages (from matplotlib>=3.0->arviz>=0.11.0->beanmachine) (0.11.0)\n",
            "Requirement already satisfied: python-dateutil>=2.1 in /usr/local/lib/python3.7/dist-packages (from matplotlib>=3.0->arviz>=0.11.0->beanmachine) (2.8.2)\n",
            "Requirement already satisfied: kiwisolver>=1.0.1 in /usr/local/lib/python3.7/dist-packages (from matplotlib>=3.0->arviz>=0.11.0->beanmachine) (1.3.2)\n",
            "Requirement already satisfied: pytz>=2017.3 in /usr/local/lib/python3.7/dist-packages (from pandas>=0.24.2->beanmachine) (2018.9)\n",
            "Requirement already satisfied: six in /usr/local/lib/python3.7/dist-packages (from plotly>=2.2.1->beanmachine) (1.15.0)\n",
            "Requirement already satisfied: tenacity>=6.2.0 in /usr/local/lib/python3.7/dist-packages (from plotly>=2.2.1->beanmachine) (8.0.1)\n",
            "Requirement already satisfied: patsy>=0.5.2 in /usr/local/lib/python3.7/dist-packages (from statsmodels>=0.12.0->beanmachine) (0.5.2)\n",
            "Requirement already satisfied: zipp>=0.5 in /usr/local/lib/python3.7/dist-packages (from importlib-metadata->click>=8.0.0->black>=19.3b0->beanmachine) (3.7.0)\n",
            "Requirement already satisfied: cftime in /usr/local/lib/python3.7/dist-packages (from netcdf4->arviz>=0.11.0->beanmachine) (1.5.2)\n",
            "Building wheels for collected packages: gpytorch\n",
            "  Building wheel for gpytorch (setup.py) ... \u001b[?25l\u001b[?25hdone\n",
            "  Created wheel for gpytorch: filename=gpytorch-1.6.0-py2.py3-none-any.whl size=509889 sha256=6f1c6028b0ed1c69507e7b0d2197f7e2b6b66cae08f28ee3afa1c886b82faa34\n",
            "  Stored in directory: /root/.cache/pip/wheels/66/b5/89/34c06ad393a6feb72b4cdde46d0f1c667f3e2632960f9df109\n",
            "Successfully built gpytorch\n",
            "Installing collected packages: typed-ast, platformdirs, pathspec, mypy-extensions, gpytorch, click, statsmodels, parameterized, graphviz, flowtorch, botorch, black, beanmachine\n",
            "  Attempting uninstall: click\n",
            "    Found existing installation: click 7.1.2\n",
            "    Uninstalling click-7.1.2:\n",
            "      Successfully uninstalled click-7.1.2\n",
            "  Attempting uninstall: statsmodels\n",
            "    Found existing installation: statsmodels 0.10.2\n",
            "    Uninstalling statsmodels-0.10.2:\n",
            "      Successfully uninstalled statsmodels-0.10.2\n",
            "  Attempting uninstall: graphviz\n",
            "    Found existing installation: graphviz 0.10.1\n",
            "    Uninstalling graphviz-0.10.1:\n",
            "      Successfully uninstalled graphviz-0.10.1\n",
            "\u001b[31mERROR: pip's dependency resolver does not currently take into account all the packages that are installed. This behaviour is the source of the following dependency conflicts.\n",
            "flask 1.1.4 requires click<8.0,>=5.1, but you have click 8.0.3 which is incompatible.\u001b[0m\n",
            "Successfully installed beanmachine-0.1.1 black-22.1.0 botorch-0.6.0 click-8.0.3 flowtorch-0.5 gpytorch-1.6.0 graphviz-0.19.1 mypy-extensions-0.4.3 parameterized-0.8.1 pathspec-0.9.0 platformdirs-2.5.0 statsmodels-0.13.2 typed-ast-1.5.2\n"
          ]
        }
      ],
      "source": [
        "import os\n",
        "import sys\n",
        "\n",
        "if \"google.colab\" in sys.modules and \"beanmachine\" not in sys.modules:\n",
        "    !pip install beanmachine\n",
        "    from google.colab import output\n",
        "    output.enable_custom_widget_manager()\n",
        "\n",
        "import beanmachine.ppl as bm\n",
        "import beanmachine.ppl.inference.monte_carlo_samples\n",
        "import matplotlib.pyplot as plt\n",
        "import pandas as pd\n",
        "import torch\n",
        "import torch.distributions as dist\n",
        "from torch import tensor\n",
        "from IPython.display import Markdown\n",
        "\n",
        "\n",
        "plt.rc(\"figure\", figsize=[8, 6])\n",
        "plt.rc(\"font\", size=14)\n",
        "plt.rc(\"lines\", linewidth=2.5)\n",
        "pd.set_option(\"display.precision\", 3)\n",
        "bm.seed(11)\n",
        "# for CI testing\n",
        "smoke_test = \"SANDCASTLE_NEXUS\" in os.environ or \"CI\" in os.environ"
      ]
    },
    {
      "cell_type": "markdown",
      "metadata": {
        "code_folding": [],
        "hidden_ranges": [],
        "originalKey": "26cded9e-0f06-4e11-8866-16450351fb70",
        "showInput": false,
        "id": "rl029tqIAqfd"
      },
      "source": [
        "## Model"
      ]
    },
    {
      "cell_type": "markdown",
      "metadata": {
        "code_folding": [],
        "hidden_ranges": [],
        "originalKey": "26cded9e-0f06-4e11-8866-16450351fb70",
        "showInput": false,
        "id": "_EuhRzQHAqfd"
      },
      "source": [
        "We have the following definitions.\n",
        "\n",
        "* $\\theta \\in [0, 1]$: Heads rate of the coin.\n",
        "* $y_i \\in \\{0, 1\\}$: Result of the $i$th coin flip. This is usually an observed value.\n",
        "* $N \\in \\mathbb{Z}^+$: Number of observed coin flips.\n",
        "\n",
        "We're interested in modeling:\n",
        "\n",
        "* $\\mathbb{P}(\\theta | \\{y_i\\}_{i=1}^N)$\n",
        "\n",
        "Solving this problem requires specifying a prior distribution for $\\theta$ and the\n",
        "relationship between thee unobserved random variable $\\theta$, and the observed random\n",
        "variables $\\{y_i\\}_{i=1}^N$. We can do this as follows:\n",
        "\n",
        "* $\\theta \\sim \\text{Beta}(2, 2)$\n",
        "* $y_i \\stackrel{iid}{\\sim} \\text{Bernoulli}(\\theta)$\n",
        "\n",
        "As a convention, we will consider an outcome of 1 from the Bernoulli distribution to\n",
        "represent heads and zero to represent tails. Here we chose to use a Beta distribution\n",
        "for the prior distribution for the coin's probability of heads, but in principle any\n",
        "distribution over $[0, 1]$ can be used.\n",
        "\n",
        "Let's visualize the particular Beta distribution used in this tutorial:"
      ]
    },
    {
      "cell_type": "code",
      "execution_count": 2,
      "metadata": {
        "colab": {
          "base_uri": "https://localhost:8080/",
          "height": 281
        },
        "id": "cL-08NL8Aqfe",
        "outputId": "87cbb7a5-8392-4c35-918e-9a9cfc2235d3"
      },
      "outputs": [
        {
          "output_type": "display_data",
          "data": {
            "image/png": "[encoded data removed]",
            "text/plain": [
              "<Figure size 432x288 with 1 Axes>"
            ]
          },
          "metadata": {
            "needs_background": "light"
          }
        }
      ],
      "source": [
        "thetas = torch.arange(0, 1, 0.01)\n",
        "plt.plot(thetas, dist.Beta(2, 2).log_prob(thetas).exp())\n",
        "plt.xlabel(r\"$\\theta$\")\n",
        "plt.ylabel(r\"$\\mathbb{P}(\\theta)$\");"
      ]
    },
    {
      "cell_type": "markdown",
      "metadata": {
        "originalKey": "46966e2f-fd4f-46be-9721-9f5672efa93a",
        "id": "yuIgUBoYAqff"
      },
      "source": [
        "We can implement this model in Bean Machine by defining random variable objects with the\n",
        "`@bm.random_variable` decorator. These functions behave differently than ordinary Python\n",
        "functions.\n",
        "\n",
        "<div\n",
        "  style={\n",
        "    {\n",
        "      background: \"#daeaf3\",\n",
        "      border_left: \"3px solid #2980b9\",\n",
        "      display: \"block\",\n",
        "      margin: \"16px 0\",\n",
        "      padding: \"12px\",\n",
        "    }\n",
        "  }\n",
        ">\n",
        "  Semantics for <code>@bm.random_variable</code> functions:\n",
        "  <ul>\n",
        "    <li>\n",
        "      They must return PyTorch <code>Distribution</code> objects.\n",
        "    </li>\n",
        "    <li>\n",
        "      Though they return distributions, callees actually receive a <i>sample</i> from\n",
        "      the distribution. The machinery for obtaining samples from distributions is\n",
        "      handled internally by Bean Machine.\n",
        "    </li>\n",
        "    <li>\n",
        "      Inference runs the model through many iterations. During a particular inference\n",
        "      iteration, a distinct random variable will correspond to exactly one sampled\n",
        "      value: <b>calls to the same random variable function with the same arguments will\n",
        "      receive the same sampled value within one inference iteration</b>. This makes it\n",
        "      easy for multiple components of your model to refer to the same logical random\n",
        "      variable.\n",
        "    </li>\n",
        "    <li>\n",
        "      Consequently, to define distinct random variables that correspond to different\n",
        "      sampled values during a particular inference iteration, an effective practice is\n",
        "      to add a dummy \"indexing\" parameter to the function. Distinct random variables can\n",
        "      be referred to with different values for this index.\n",
        "    </li>\n",
        "      <li>\n",
        "        Please see the documentation for more information about this decorator.\n",
        "      </li>\n",
        "  </ul>\n",
        "\n",
        "  Semantics for <code>@bm.random_variable</code> functions:\n",
        "  <ul>\n",
        "    <li>\n",
        "      This is a decorator that let's you treat deterministic code as if it's a Bean\n",
        "      Machine random variable. This is used to transform the results of one or more\n",
        "      random variables.\n",
        "    </li>\n",
        "    <li>\n",
        "      This follows the same naming practice as <code>@bm.random_variable</code> where\n",
        "      variables are distinguished by their argument call values.\n",
        "    </li>\n",
        "  </ul>\n",
        "</div>\n",
        "\n",
        "First, let's define our prior for the heads rate, $\\theta$, using this syntax:"
      ]
    },
    {
      "cell_type": "code",
      "execution_count": 3,
      "metadata": {
        "id": "yw6YIZ7hAqfg"
      },
      "outputs": [],
      "source": [
        "@bm.random_variable\n",
        "def theta():\n",
        "    return dist.Beta(2, 2)"
      ]
    },
    {
      "cell_type": "markdown",
      "metadata": {
        "originalKey": "890a8f74-3232-4c08-890b-d354b6258b8f",
        "id": "VyWH42jsAqfg"
      },
      "source": [
        "Similarly, let's define a random variables for the observed values, $y_i$:"
      ]
    },
    {
      "cell_type": "code",
      "execution_count": 4,
      "metadata": {
        "id": "jbELWnQ0Aqfh"
      },
      "outputs": [],
      "source": [
        "@bm.random_variable\n",
        "def y(i: int):\n",
        "    return dist.Bernoulli(theta())"
      ]
    },
    {
      "cell_type": "markdown",
      "metadata": {
        "originalKey": "8b26329d-8838-4d6f-beb0-76167db6b473",
        "id": "NCJMnfgiAqfh"
      },
      "source": [
        "The mathematical definitions map directly to the Python definitions.\n",
        "\n",
        "In contrast to `theta()`, notice that `y(i)` defines a dummy indexing parameter `i`.\n",
        "That's because `y(i)` is actually defining a _family_ of random variables -- one for\n",
        "each observed coin flip! This allows us to refer to specific observations as `y(0)`,\n",
        "`y(1)`, and so on.\n",
        "\n",
        "In the above examples, we've defined our random variable functions in the toplevel for\n",
        "convenience. It's worth noting that Bean Machine models can be packaged into Python\n",
        "classes and instantiated as needed. This essentially namespaces random variables defined\n",
        "within, since the `self` argument that each random variable receives will be associated\n",
        "with the distinct instantiated class that it's a part of. Example code is included as an\n",
        "illustration below; however, this tutorial will continue to use the toplevel\n",
        "definitions."
      ]
    },
    {
      "cell_type": "code",
      "execution_count": 5,
      "metadata": {
        "id": "Vuu2oxOsAqfh"
      },
      "outputs": [],
      "source": [
        "class HeadsRateModel(object):\n",
        "    @bm.random_variable\n",
        "    def theta(self):\n",
        "        return dist.Beta(2, 2)\n",
        "\n",
        "    @bm.random_variable\n",
        "    def y(self, i):\n",
        "        return dist.Bernoulli(self.theta())\n",
        "\n",
        "\n",
        "heads_rate_model = HeadsRateModel()"
      ]
    },
    {
      "cell_type": "markdown",
      "metadata": {
        "code_folding": [],
        "hidden_ranges": [],
        "originalKey": "b5de42ee-0e52-4870-967f-85eca6d2998c",
        "showInput": false,
        "id": "lSQwsJfDAqfi"
      },
      "source": [
        "## Data"
      ]
    },
    {
      "cell_type": "markdown",
      "metadata": {
        "code_folding": [],
        "hidden_ranges": [],
        "originalKey": "b5de42ee-0e52-4870-967f-85eca6d2998c",
        "showInput": false,
        "id": "RXAMdexuAqfi"
      },
      "source": [
        "With the model defined, we need to collect some observed data in order to learn about\n",
        "values of interest in our model.\n",
        "\n",
        "In this case, we will observe a few coin flips. For demonstrative purposes, we will use\n",
        "a synthetically generated dataset of observed values. In practice, you would flip a real\n",
        "coin and record observations instead.\n",
        "\n",
        "For our synthetic dataset, we will assume a true heads rate of $0.75$:"
      ]
    },
    {
      "cell_type": "code",
      "execution_count": 6,
      "metadata": {
        "id": "yrWHl-gIAqfi"
      },
      "outputs": [],
      "source": [
        "true_theta = 0.75\n",
        "true_y = dist.Bernoulli(true_theta)"
      ]
    },
    {
      "cell_type": "markdown",
      "metadata": {
        "originalKey": "f059b3b2-7b9e-414e-be1e-74bf90a7d034",
        "showInput": false,
        "id": "0FiavpPeAqfi"
      },
      "source": [
        "Now, we'll gather $10$ observations from flipping that coin."
      ]
    },
    {
      "cell_type": "code",
      "execution_count": 7,
      "metadata": {
        "id": "x71AjqG2Aqfj"
      },
      "outputs": [],
      "source": [
        "N = 10\n",
        "y_obs = true_y.sample((N,))"
      ]
    },
    {
      "cell_type": "code",
      "execution_count": 8,
      "metadata": {
        "colab": {
          "base_uri": "https://localhost:8080/"
        },
        "id": "DPdzJy1RAqfj",
        "outputId": "804426b1-9920-4639-c8ba-ebd7ebc68103"
      },
      "outputs": [
        {
          "output_type": "execute_result",
          "data": {
            "text/plain": [
              "tensor(1.)"
            ]
          },
          "metadata": {},
          "execution_count": 8
        }
      ],
      "source": [
        "y_obs[0]"
      ]
    },
    {
      "cell_type": "markdown",
      "metadata": {
        "originalKey": "a99a309f-a420-425e-8bd6-f84226523d00",
        "showInput": false,
        "id": "WGN-tc27Aqfj"
      },
      "source": [
        "Let's analyze the dataset:"
      ]
    },
    {
      "cell_type": "code",
      "execution_count": 9,
      "metadata": {
        "colab": {
          "base_uri": "https://localhost:8080/",
          "height": 281
        },
        "id": "OaG4st2YAqfj",
        "outputId": "7f379757-58d7-487b-cdb0-2e40d0d5deb1"
      },
      "outputs": [
        {
          "output_type": "display_data",
          "data": {
            "image/png": "[encoded data removed]",
            "text/plain": [
              "<Figure size 432x288 with 1 Axes>"
            ]
          },
          "metadata": {
            "needs_background": "light"
          }
        }
      ],
      "source": [
        "plt.hist(y_obs.numpy(), bins=2)\n",
        "plt.xticks([0.25, 0.75], [\"Tails\", \"Heads\"])\n",
        "plt.title(f\"Empirical heads rate: {y_obs.mean() :.2f}\");"
      ]
    },
    {
      "cell_type": "markdown",
      "metadata": {
        "originalKey": "3a9919f9-2470-451d-a54f-57dedff132ad",
        "showInput": false,
        "id": "E9m8lMzWAqfj"
      },
      "source": [
        "## Inference"
      ]
    },
    {
      "cell_type": "markdown",
      "metadata": {
        "originalKey": "3a9919f9-2470-451d-a54f-57dedff132ad",
        "showInput": false,
        "id": "6rKsb_eQAqfj"
      },
      "source": [
        "Inference is the process of combining _model_ and _data_ to obtain _insights_, in the\n",
        "form of probability distributions over values of interest. Bean Machine offers a\n",
        "powerful and general inference framework to enable fitting a arbitrary models to data.\n",
        "\n",
        "Our inference algorithms expect observations in the form of a dictionary. This\n",
        "dictionary should consist of `@bm.random_variable` invocations as keys, and tensor data\n",
        "as values. You can see this in the example below:"
      ]
    },
    {
      "cell_type": "code",
      "execution_count": 10,
      "metadata": {
        "id": "M6lrn0TYAqfj"
      },
      "outputs": [],
      "source": [
        "observations = {\n",
        "    y(0): y_obs[0],\n",
        "    y(1): y_obs[1],\n",
        "    y(2): y_obs[2],\n",
        "    y(3): y_obs[3],\n",
        "    y(4): y_obs[4],\n",
        "    y(5): y_obs[5],\n",
        "    y(6): y_obs[6],\n",
        "    y(7): y_obs[7],\n",
        "    y(8): y_obs[8],\n",
        "    y(9): y_obs[9],\n",
        "}"
      ]
    },
    {
      "cell_type": "markdown",
      "metadata": {
        "originalKey": "0d484369-36db-4472-8bf8-eac8d6742d52",
        "showInput": false,
        "id": "qPpbhkFrAqfk"
      },
      "source": [
        "Now, we're ready to run inference! For this very simple tutorial, we'll use the simple\n",
        "Metropolis-Hastings inference algorithm. Check out the documentation or other tutorials\n",
        "for more advanced examples!\n",
        "\n",
        "Running inference consists of a few arguments:\n",
        "\n",
        "| Name           | Usage                                                                                                    |\n",
        "| -------------- | -------------------------------------------------------------------------------------------------------- |\n",
        "| `queries`      | List of `@bm.random_variable` targets to fit posterior distributions for.                                |\n",
        "| `observations` | A dictionary of observations.                                                                            |\n",
        "| `num_samples`  | Number of Monte Carlo samples to approximate the posterior distributions for the variables in queries.   |\n",
        "| `num_chains`   | Number of separate inference runs to use. Multiple chains can help verify that inference ran correctly.  |\n",
        "\n",
        "Let's run inference:"
      ]
    },
    {
      "cell_type": "code",
      "execution_count": 11,
      "metadata": {
        "colab": {
          "base_uri": "https://localhost:8080/",
          "height": 145,
          "referenced_widgets": [
            "49a25591dac94dbc81daaff3ab503436",
            "a308b849b1d44b138dce90a6459e799c",
            "d766a8e963eb469f872650afc35df978",
            "de683a39de3446c7a32711b23cc25b50",
            "e341f0a73c56459297db2e783ade6d75",
            "feee3920fbd44086a02bb2db2b9946c3",
            "0f4e67ee7e6a42ea9bd4cb51d60dda1d",
            "1b1501fe2c0340069077be28ffaf8730",
            "d6f6d1c43abf42a9ac1d424509d42b60",
            "cfd78543afc644bdbeef07f76b734144",
            "59342a8a5c1b4112b9714ec2f2e446e2",
            "3eb1cfe4353d4498ae1ef62377fdeea0",
            "82189acab539464db46a500b76fbe953",
            "9152a0e62067421d99d7343f5efafdef",
            "893f8f13a50648f59748a0c1d723dd08",
            "1ee8b8858bcb4719a94c1a87f73a7547",
            "2af5552af1f84ac6b3686db3ff9be038",
            "6c0fedc8d2644469a09ee31c8863d902",
            "93a87d86f4a349429414152160027e4b",
            "a54bbdf13c944bfc8607b3fa07227db2",
            "7a91eed867f24ec4a81e1474371ccf1a",
            "cb71ada5a0644bd1a68506c74ede783b",
            "5403552ae38c41f8925a3e3fc5e0dbbc",
            "daf3cad8c75544a6b0b2fd1d4a12844f",
            "57e46a2999f74fa4878f2810e48e70e8",
            "9c159c3f2f6a4898ba0f4dc47d43fd6b",
            "0514b539f9684c349ff5fd9ebf2a709b",
            "bb73be74b54a4329b9b134aba6c7bdbf",
            "874e3f887f2749fca223fd1f4812f728",
            "6be98c5ffd2d4bd78198cc82c2420827",
            "db90dee38528495d977d4d60af01eb23",
            "443bd591e08b48fcbf30dc8eb3ec473f",
            "e8e979abb30b4f2fa1506b838d58db79",
            "1d19268eff2047b8b43964e4b63491fc",
            "ec8a47dc8c8a4cbf9e81230d55abc26e",
            "1caeb481670f4ace8cec7e7dcc8f9e29",
            "ef9de54dc29f4636acb1e3d45e3c8acc",
            "0390bda57d4c4630817ca82a0480fa5f",
            "84faaafe26eb4d798cdf314acae238f7",
            "a33caf9f7cda467789d035bb35c67583",
            "0d0f28f11b2041599068a001bca67d48",
            "fe8430a3a7c94413b8a2e23999cfa75b",
            "ff61196cf3a44feda8f33071ee1c9f95",
            "6ad037498237440c81cbb737a7a69b18"
          ]
        },
        "id": "OjHN9Cw5Aqfk",
        "outputId": "1da565f4-37cf-4b4b-ab72-9a412fae329c"
      },
      "outputs": [
        {
          "output_type": "display_data",
          "data": {
            "application/vnd.jupyter.widget-view+json": {
              "model_id": "49a25591dac94dbc81daaff3ab503436",
              "version_minor": 0,
              "version_major": 2
            },
            "text/plain": [
              "Samples collected:   0%|          | 0/1000 [00:00<?, ?it/s]"
            ]
          },
          "metadata": {
            "application/vnd.jupyter.widget-view+json": {
              "colab": {
                "custom_widget_manager": {
                  "url": "https://ssl.gstatic.com/colaboratory-static/widgets/colab-cdn-widget-manager/a8874ba6619b6106/manager.min.js"
                }
              }
            }
          }
        },
        {
          "output_type": "display_data",
          "data": {
            "application/vnd.jupyter.widget-view+json": {
              "model_id": "cb71ada5a0644bd1a68506c74ede783b",
              "version_minor": 0,
              "version_major": 2
            },
            "text/plain": [
              "Samples collected:   0%|          | 0/1000 [00:00<?, ?it/s]"
            ]
          },
          "metadata": {
            "application/vnd.jupyter.widget-view+json": {
              "colab": {
                "custom_widget_manager": {
                  "url": "https://ssl.gstatic.com/colaboratory-static/widgets/colab-cdn-widget-manager/a8874ba6619b6106/manager.min.js"
                }
              }
            }
          }
        },
        {
          "output_type": "display_data",
          "data": {
            "application/vnd.jupyter.widget-view+json": {
              "model_id": "e8e979abb30b4f2fa1506b838d58db79",
              "version_minor": 0,
              "version_major": 2
            },
            "text/plain": [
              "Samples collected:   0%|          | 0/1000 [00:00<?, ?it/s]"
            ]
          },
          "metadata": {
            "application/vnd.jupyter.widget-view+json": {
              "colab": {
                "custom_widget_manager": {
                  "url": "https://ssl.gstatic.com/colaboratory-static/widgets/colab-cdn-widget-manager/a8874ba6619b6106/manager.min.js"
                }
              }
            }
          }
        },
        {
          "output_type": "display_data",
          "data": {
            "application/vnd.jupyter.widget-view+json": {
              "model_id": "6ad037498237440c81cbb737a7a69b18",
              "version_minor": 0,
              "version_major": 2
            },
            "text/plain": [
              "Samples collected:   0%|          | 0/1000 [00:00<?, ?it/s]"
            ]
          },
          "metadata": {
            "application/vnd.jupyter.widget-view+json": {
              "colab": {
                "custom_widget_manager": {
                  "url": "https://ssl.gstatic.com/colaboratory-static/widgets/colab-cdn-widget-manager/a8874ba6619b6106/manager.min.js"
                }
              }
            }
          }
        }
      ],
      "source": [
        "num_samples = 2 if smoke_test else 1000\n",
        "\n",
        "samples = bm.SingleSiteAncestralMetropolisHastings().infer(\n",
        "    queries=[theta()],\n",
        "    observations=observations,\n",
        "    num_samples=num_samples,\n",
        "    num_chains=4,\n",
        ")"
      ]
    },
    {
      "cell_type": "markdown",
      "metadata": {
        "originalKey": "a71a97ad-11eb-4040-9fdf-06a45795a7bf",
        "id": "CNu6hTVFAqfk"
      },
      "source": [
        "## Analysis"
      ]
    },
    {
      "cell_type": "markdown",
      "metadata": {
        "originalKey": "0e6f9edd-228a-4f20-848c-2869a1551a00",
        "showInput": true,
        "id": "dl6IwL0hAqfk"
      },
      "source": [
        "`samples` now contains our inference results. Although we ran inference only to compute\n",
        "distributions for `theta()`, in general you can compute distributions for many variables\n",
        "at once. So, you have to index into this object using the random variable syntax we've\n",
        "seen several times. Here's an example:"
      ]
    },
    {
      "cell_type": "code",
      "execution_count": 12,
      "metadata": {
        "colab": {
          "base_uri": "https://localhost:8080/"
        },
        "id": "cxiCiF7eAqfk",
        "outputId": "b0059f38-e267-4c49-b6b1-2925d4d658f6"
      },
      "outputs": [
        {
          "output_type": "execute_result",
          "data": {
            "text/plain": [
              "tensor([[0.7710, 0.7710, 0.7710,  ..., 0.8267, 0.8267, 0.8086],\n",
              "        [0.2854, 0.2854, 0.7474,  ..., 0.7243, 0.7243, 0.7865],\n",
              "        [0.8248, 0.7088, 0.7088,  ..., 0.7886, 0.7886, 0.7886],\n",
              "        [0.6676, 0.7408, 0.6948,  ..., 0.7648, 0.7648, 0.7648]])"
            ]
          },
          "metadata": {},
          "execution_count": 12
        }
      ],
      "source": [
        "theta_for_four_chains = samples[theta()].detach()\n",
        "theta_for_four_chains"
      ]
    },
    {
      "cell_type": "markdown",
      "metadata": {
        "originalKey": "ffab83bc-1cb0-407c-b4f7-eb40134cdf85",
        "id": "IRGU6ZwNAqfk"
      },
      "source": [
        "Results from all four separate inference runs are stored in here. We'll use them later;\n",
        "for now, let's just examine one of these runs:"
      ]
    },
    {
      "cell_type": "code",
      "execution_count": 13,
      "metadata": {
        "colab": {
          "base_uri": "https://localhost:8080/",
          "height": 265
        },
        "id": "F2a-HyE9Aqfl",
        "outputId": "d5f09519-7ceb-4465-ce8d-d65a040aa124"
      },
      "outputs": [
        {
          "output_type": "display_data",
          "data": {
            "image/png": "[encoded data removed]",
            "text/plain": [
              "<Figure size 432x288 with 1 Axes>"
            ]
          },
          "metadata": {
            "needs_background": "light"
          }
        }
      ],
      "source": [
        "theta_for_first_chain = theta_for_four_chains[0]\n",
        "plt.hist(theta_for_first_chain.numpy())\n",
        "plt.axvline(true_theta, color=\"red\", label=f\"True theta = {true_theta :.03f}\")\n",
        "plt.axvline(\n",
        "    y_obs.mean(),\n",
        "    color=\"lightgreen\",\n",
        "    label=f\"Empirical heads rate = {y_obs.mean() :.03f}\",\n",
        ")\n",
        "plt.axvline(\n",
        "    theta_for_first_chain.mean(),\n",
        "    color=\"lightblue\",\n",
        "    label=f\"Posterior mean = {theta_for_first_chain.mean() :.03f}\",\n",
        ")\n",
        "plt.legend();"
      ]
    },
    {
      "cell_type": "markdown",
      "metadata": {
        "originalKey": "bfbac0fe-235c-426b-a82a-927486409853",
        "id": "xnvU1CCCAqfl"
      },
      "source": [
        "The graph above is based on pseudo-randomly generated data, so, the results can be\n",
        "varied by changing the seed. Typically, <!--\n",
        "  the true $\\theta$ will remain within the main non-zero probability part of the\n",
        "  histogram, but may not necessarily fall in the modal interval of the histogram. More\n",
        "  generally, for this particular problem, we can expect\n",
        "--> the mean of inferred distribution will be closer to 0.5 than the true $\\theta$. This\n",
        "is because 0.5 is the mean of our prior for $\\theta$.\n",
        "\n",
        "Bean Machine provides a Diagnostics package that provides helpful statistics about the\n",
        "result of the inference algorithm. We can query this information as follows:"
      ]
    },
    {
      "cell_type": "code",
      "execution_count": 14,
      "metadata": {
        "colab": {
          "base_uri": "https://localhost:8080/",
          "height": 61
        },
        "id": "KbQ1Kz20Aqfl",
        "outputId": "5b8599b2-29b7-4d1d-fbed-aeb2ee6d6afa"
      },
      "outputs": [
        {
          "output_type": "execute_result",
          "data": {
            "text/markdown": "|           |      avg |      std |     2.5% |     50% |   97.5% |   r_hat |   n_eff |\n|:----------|---------:|---------:|---------:|--------:|--------:|--------:|--------:|\n| theta()[] | 0.716072 | 0.115433 | 0.466249 | 0.73147 | 0.90287 |   1.003 | 1022.26 |",
            "text/plain": [
              "<IPython.core.display.Markdown object>"
            ]
          },
          "metadata": {},
          "execution_count": 14
        }
      ],
      "source": [
        "Markdown(bm.Diagnostics(samples).summary().to_markdown())"
      ]
    },
    {
      "cell_type": "markdown",
      "metadata": {
        "originalKey": "ec7c214b-6b8b-4940-9006-9156ac14f87c",
        "showInput": false,
        "id": "1eztDMCvAqfl"
      },
      "source": [
        "As is suggested by the visualization, the average and the median are around $0.72$. Moreover, 95% of the samples fall within the interval $[0.460, 0.904]$. The width of this interval reflects the reality that we have conditions on few observations, and so should be quite uncertain about the true $\\theta$."
      ]
    },
    {
      "cell_type": "markdown",
      "metadata": {
        "customInput": null,
        "originalKey": "bb53894d-aa3c-485c-a3c4-5f12296df67b",
        "showInput": false,
        "id": "qc4cg_g5Aqfl"
      },
      "source": [
        "As is suggested by the visualization, the average and the median are around $0.72$.\n",
        "Moreover, 95% of the samples fall within the interval $[0.460, 0.904]$. The width of\n",
        "this interval reflects the reality that we have conditions on few observations, and so\n",
        "should be quite uncertain about the true $\\theta$.\n",
        "\n",
        "The summary output shows two diagnostic statistics:\n",
        "[$\\hat{R}$](https://projecteuclid.org/euclid.ss/1177011136) (`r_hat`) and\n",
        "[$N_\\text{eff}$](https://www.mcmchandbook.net/HandbookChapter1.pdf) (effective sample\n",
        "size, `n_eff`).\n",
        "\n",
        "* $\\hat{R} \\in [1, \\infty)$ summarizes how effective inference was at converging on\n",
        "  the correct posterior distribution for a particular random variable. It uses\n",
        "  information from all chains run in order to assess whether inference had a good\n",
        "  understanding of the distribution or not. Values very close to zero indicate that all\n",
        "  chains discovered similar distributions for a particular random variable. We do not\n",
        "  recommend using inference results where $\\hat{R} > 1.1$, as inference may not have\n",
        "  converged. In that case, you may want to run inference for more samples.\n",
        "* $N_\\text{eff} \\in [1, \\texttt{num}\\_\\texttt{samples}]$ summarizes how independent\n",
        "  posterior samples are from one another. Although inference was run for `num_samples`\n",
        "  iterations, it's possible that those samples were very similar to each other (due to\n",
        "  the way inference is implemented), and may not each be representative of the full\n",
        "  posterior space. Larger numbers are better here, and if your particular use case calls\n",
        "  for a certain number of samples to be considered, you should ensure that\n",
        "  $N_\\text{eff}$ is at least that large.\n",
        "\n",
        "In this case, $\\hat{R}$ and $N_\\text{eff}$ seem to have acceptable values.\n",
        "\n",
        "\n",
        "Bean Machine can also plot diagnostical information to assess model fit. Let's take a\n",
        "look:"
      ]
    },
    {
      "cell_type": "markdown",
      "metadata": {
        "originalKey": "d1567e73-9b23-4516-af41-02244697af66",
        "showInput": false,
        "id": "WdRnzN-OAqfm"
      },
      "source": [
        "Bean Machine can also plot diagnostical information to assess model fit. Let's take a look:"
      ]
    },
    {
      "cell_type": "code",
      "execution_count": 15,
      "metadata": {
        "colab": {
          "base_uri": "https://localhost:8080/",
          "height": 1000
        },
        "id": "OmlrSs8-Aqfm",
        "outputId": "5addc796-b8ad-4e7a-a21c-f1bdff71b5f9"
      },
      "outputs": [
        {
          "output_type": "display_data",
          "data": {
            "text/html": [
              "<html>\n",
              "<head><meta charset=\"utf-8\" /></head>\n",
              "<body>\n",
              "    <div>            <script src=\"https://cdnjs.cloudflare.com/ajax/libs/mathjax/2.7.5/MathJax.js?config=TeX-AMS-MML_SVG\"></script><script type=\"text/javascript\">if (window.MathJax) {MathJax.Hub.Config({SVG: {font: \"STIX-Web\"}});}</script>                <script type=\"text/javascript\">window.PlotlyConfig = {MathJaxConfig: 'local'};</script>\n",
              "        <script src=\"https://cdn.plot.ly/plotly-2.8.3.min.js\"></script>                <div id=\"74dffc1b-8ddb-45ee-93f8-286b7a8494ab\" class=\"plotly-graph-div\" style=\"height:525px; width:100%;\"></div>            <script type=\"text/javascript\">                                    window.PLOTLYENV=window.PLOTLYENV || {};                                    if (document.getElementById(\"74dffc1b-8ddb-45ee-93f8-286b7a8494ab\")) {                    Plotly.newPlot(                        \"74dffc1b-8ddb-45ee-93f8-286b7a8494ab\",                        [{\"mode\":\"lines\",\"name\":\"chain0\",\"x\":[0,1,2,3,4,5,6,7,8,9,10,11,12,13,14,15,16,17,18,19,20,21,22,23,24,25,26,27,28,29,30,31,32,33,34,35,36,37,38,39,40,41,42,43,44,45,46,47,48,49,50,51,52,53,54,55,56,57,58,59,60,61,62,63,64,65,66,67,68,69,70,71,72,73,74,75,76,77,78,79,80,81,82,83,84,85,86,87,88,89,90,91,92,93,94,95,96,97,98,99,100,101,102,103,104,105,106,107,108,109,110,111,112,113,114,115,116,117,118,119,120,121,122,123,124,125,126,127,128,129,130,131,132,133,134,135,136,137,138,139,140,141,142,143,144,145,146,147,148,149,150,151,152,153,154,155,156,157,158,159,160,161,162,163,164,165,166,167,168,169,170,171,172,173,174,175,176,177,178,179,180,181,182,183,184,185,186,187,188,189,190,191,192,193,194,195,196,197,198,199,200,201,202,203,204,205,206,207,208,209,210,211,212,213,214,215,216,217,218,219,220,221,222,223,224,225,226,227,228,229,230,231,232,233,234,235,236,237,238,239,240,241,242,243,244,245,246,247,248,249,250,251,252,253,254,255,256,257,258,259,260,261,262,263,264,265,266,267,268,269,270,271,272,273,274,275,276,277,278,279,280,281,282,283,284,285,286,287,288,289,290,291,292,293,294,295,296,297,298,299,300,301,302,303,304,305,306,307,308,309,310,311,312,313,314,315,316,317,318,319,320,321,322,323,324,325,326,327,328,329,330,331,332,333,334,335,336,337,338,339,340,341,342,343,344,345,346,347,348,349,350,351,352,353,354,355,356,357,358,359,360,361,362,363,364,365,366,367,368,369,370,371,372,373,374,375,376,377,378,379,380,381,382,383,384,385,386,387,388,389,390,391,392,393,394,395,396,397,398,399,400,401,402,403,404,405,406,407,408,409,410,411,412,413,414,415,416,417,418,419,420,421,422,423,424,425,426,427,428,429,430,431,432,433,434,435,436,437,438,439,440,441,442,443,444,445,446,447,448,449,450,451,452,453,454,455,456,457,458,459,460,461,462,463,464,465,466,467,468,469,470,471,472,473,474,475,476,477,478,479,480,481,482,483,484,485,486,487,488,489,490,491,492,493,494,495,496,497,498,499,500,501,502,503,504,505,506,507,508,509,510,511,512,513,514,515,516,517,518,519,520,521,522,523,524,525,526,527,528,529,530,531,532,533,534,535,536,537,538,539,540,541,542,543,544,545,546,547,548,549,550,551,552,553,554,555,556,557,558,559,560,561,562,563,564,565,566,567,568,569,570,571,572,573,574,575,576,577,578,579,580,581,582,583,584,585,586,587,588,589,590,591,592,593,594,595,596,597,598,599,600,601,602,603,604,605,606,607,608,609,610,611,612,613,614,615,616,617,618,619,620,621,622,623,624,625,626,627,628,629,630,631,632,633,634,635,636,637,638,639,640,641,642,643,644,645,646,647,648,649,650,651,652,653,654,655,656,657,658,659,660,661,662,663,664,665,666,667,668,669,670,671,672,673,674,675,676,677,678,679,680,681,682,683,684,685,686,687,688,689,690,691,692,693,694,695,696,697,698,699,700,701,702,703,704,705,706,707,708,709,710,711,712,713,714,715,716,717,718,719,720,721,722,723,724,725,726,727,728,729,730,731,732,733,734,735,736,737,738,739,740,741,742,743,744,745,746,747,748,749,750,751,752,753,754,755,756,757,758,759,760,761,762,763,764,765,766,767,768,769,770,771,772,773,774,775,776,777,778,779,780,781,782,783,784,785,786,787,788,789,790,791,792,793,794,795,796,797,798,799,800,801,802,803,804,805,806,807,808,809,810,811,812,813,814,815,816,817,818,819,820,821,822,823,824,825,826,827,828,829,830,831,832,833,834,835,836,837,838,839,840,841,842,843,844,845,846,847,848,849,850,851,852,853,854,855,856,857,858,859,860,861,862,863,864,865,866,867,868,869,870,871,872,873,874,875,876,877,878,879,880,881,882,883,884,885,886,887,888,889,890,891,892,893,894,895,896,897,898,899,900,901,902,903,904,905,906,907,908,909,910,911,912,913,914,915,916,917,918,919,920,921,922,923,924,925,926,927,928,929,930,931,932,933,934,935,936,937,938,939,940,941,942,943,944,945,946,947,948,949,950,951,952,953,954,955,956,957,958,959,960,961,962,963,964,965,966,967,968,969,970,971,972,973,974,975,976,977,978,979,980,981,982,983,984,985,986,987,988,989,990,991,992,993,994,995,996,997,998,999],\"xaxis\":\"x\",\"y\":[0.7710354924201965,0.7710354924201965,0.7710354924201965,0.8331310749053955,0.8331310749053955,0.8331310749053955,0.8331310749053955,0.6955644488334656,0.6955644488334656,0.6955644488334656,0.7691784501075745,0.730891764163971,0.7192059755325317,0.7192059755325317,0.9374465942382812,0.9374465942382812,0.9374465942382812,0.5956112742424011,0.7750281691551208,0.7750281691551208,0.6919797658920288,0.6919797658920288,0.5861272811889648,0.6054329872131348,0.5836827158927917,0.5836827158927917,0.5836827158927917,0.5836827158927917,0.6494623422622681,0.6494623422622681,0.6494623422622681,0.6494623422622681,0.7188933491706848,0.7889313101768494,0.5723420977592468,0.5723420977592468,0.5723420977592468,0.5723420977592468,0.5723420977592468,0.5723420977592468,0.5957207679748535,0.867058277130127,0.867058277130127,0.7599373459815979,0.7599373459815979,0.7599373459815979,0.8286829590797424,0.7448276877403259,0.6614643335342407,0.6614643335342407,0.6155820488929749,0.5336993336677551,0.5765969753265381,0.5118061900138855,0.5118061900138855,0.5118061900138855,0.7908378839492798,0.7908378839492798,0.7908378839492798,0.7908378839492798,0.7908378839492798,0.7908378839492798,0.8174925446510315,0.8174925446510315,0.8174925446510315,0.8174925446510315,0.8174925446510315,0.8174925446510315,0.8174925446510315,0.8174925446510315,0.8174925446510315,0.49573150277137756,0.4944242238998413,0.7780109643936157,0.7780109643936157,0.7780109643936157,0.7780109643936157,0.7458739876747131,0.6268789768218994,0.6268789768218994,0.8748604655265808,0.6746423244476318,0.6844602823257446,0.6717675924301147,0.6717675924301147,0.6717675924301147,0.7349046468734741,0.7349046468734741,0.7357529401779175,0.7357529401779175,0.7357529401779175,0.7357529401779175,0.7357529401779175,0.7357529401779175,0.6902570128440857,0.6902570128440857,0.6902570128440857,0.6902570128440857,0.5751742124557495,0.5751742124557495,0.5751742124557495,0.47773808240890503,0.8303714990615845,0.8303714990615845,0.6236286759376526,0.6236286759376526,0.7531699538230896,0.7531699538230896,0.796858012676239,0.796858012676239,0.796858012676239,0.796858012676239,0.796858012676239,0.796858012676239,0.7706074714660645,0.7706074714660645,0.7706074714660645,0.8406146168708801,0.8406146168708801,0.6370715498924255,0.6370715498924255,0.6370715498924255,0.6370715498924255,0.6370715498924255,0.6370715498924255,0.8577876091003418,0.9201270937919617,0.6061203479766846,0.6061203479766846,0.5652016401290894,0.7024834752082825,0.8013578653335571,0.8013578653335571,0.8013578653335571,0.8013578653335571,0.6464813351631165,0.6539375185966492,0.6539375185966492,0.6539375185966492,0.7875704169273376,0.7875704169273376,0.5663796067237854,0.5663796067237854,0.7445417642593384,0.5517933368682861,0.5517933368682861,0.7639169692993164,0.7639169692993164,0.7639169692993164,0.7639169692993164,0.7639169692993164,0.7639169692993164,0.7639169692993164,0.7639169692993164,0.7639169692993164,0.7639169692993164,0.7639169692993164,0.6936185359954834,0.6936185359954834,0.6363541483879089,0.7635677456855774,0.7635677456855774,0.7635677456855774,0.7635677456855774,0.7635677456855774,0.7635677456855774,0.7635677456855774,0.7635677456855774,0.7635677456855774,0.8770329356193542,0.8770329356193542,0.8770329356193542,0.8770329356193542,0.8770329356193542,0.8770329356193542,0.8770329356193542,0.8770329356193542,0.8770329356193542,0.6327753663063049,0.6327753663063049,0.6327753663063049,0.6327753663063049,0.797863245010376,0.7420585751533508,0.7420585751533508,0.7420585751533508,0.7420585751533508,0.6796361207962036,0.47502490878105164,0.6976544857025146,0.8407479524612427,0.8407479524612427,0.8407479524612427,0.8407479524612427,0.8407479524612427,0.8407479524612427,0.8407479524612427,0.8407479524612427,0.8163336515426636,0.8163336515426636,0.8163336515426636,0.8163336515426636,0.6265899538993835,0.6265899538993835,0.6265899538993835,0.6265899538993835,0.6413161158561707,0.47989484667778015,0.6467256546020508,0.6441643238067627,0.681405246257782,0.681405246257782,0.681405246257782,0.681405246257782,0.681405246257782,0.7199830412864685,0.9387704730033875,0.9099999666213989,0.9099999666213989,0.9099999666213989,0.9099999666213989,0.9099999666213989,0.9099999666213989,0.9099999666213989,0.7911208868026733,0.7911208868026733,0.7911208868026733,0.6877089738845825,0.6888803243637085,0.635331392288208,0.6019163727760315,0.6163640022277832,0.7010700106620789,0.7808136940002441,0.7808136940002441,0.7808136940002441,0.7808136940002441,0.6047936677932739,0.7256739139556885,0.7256739139556885,0.7256739139556885,0.7608126997947693,0.6987230181694031,0.6987230181694031,0.7564421892166138,0.7564421892166138,0.466717392206192,0.466717392206192,0.6630311608314514,0.7823298573493958,0.910018265247345,0.910018265247345,0.6809272766113281,0.6809272766113281,0.6809272766113281,0.6809272766113281,0.6809272766113281,0.6809272766113281,0.839737057685852,0.731467068195343,0.731467068195343,0.5218939185142517,0.8081843852996826,0.8081843852996826,0.8081843852996826,0.8081843852996826,0.8081843852996826,0.8661451935768127,0.8661451935768127,0.8651230335235596,0.628757894039154,0.7363964319229126,0.6471930146217346,0.6471930146217346,0.6471930146217346,0.6471930146217346,0.6172682046890259,0.6172682046890259,0.6172682046890259,0.6172682046890259,0.6172682046890259,0.6172682046890259,0.6564972996711731,0.9213951230049133,0.67421954870224,0.8692086338996887,0.6602751016616821,0.5507978796958923,0.7339534759521484,0.7160848379135132,0.7160848379135132,0.7160848379135132,0.7563671469688416,0.7563671469688416,0.7273523211479187,0.7273523211479187,0.7273523211479187,0.7273523211479187,0.7273523211479187,0.8849800825119019,0.7807776927947998,0.7807776927947998,0.7807776927947998,0.8460897207260132,0.8460897207260132,0.7249738574028015,0.7860766053199768,0.7860766053199768,0.7860766053199768,0.7860766053199768,0.7860766053199768,0.6474668979644775,0.6474668979644775,0.8869426846504211,0.4799861013889313,0.6917175054550171,0.6917175054550171,0.6917175054550171,0.6917175054550171,0.6917175054550171,0.6615977883338928,0.6615977883338928,0.6615977883338928,0.6615977883338928,0.6615977883338928,0.6615977883338928,0.8239483833312988,0.8239483833312988,0.7777448296546936,0.7777448296546936,0.7777448296546936,0.7777448296546936,0.7777448296546936,0.7777448296546936,0.5903202891349792,0.5903202891349792,0.5903202891349792,0.7247041463851929,0.7467924952507019,0.8000975847244263,0.8000975847244263,0.7243971824645996,0.7243971824645996,0.7243971824645996,0.540213942527771,0.540213942527771,0.540213942527771,0.7565822601318359,0.7412161231040955,0.7412161231040955,0.7412161231040955,0.7412161231040955,0.6887120604515076,0.6887120604515076,0.6887120604515076,0.7684390544891357,0.445272833108902,0.32231056690216064,0.45916303992271423,0.6153854131698608,0.5194542407989502,0.5559983253479004,0.5559983253479004,0.7367569208145142,0.7367569208145142,0.730832040309906,0.730832040309906,0.6992420554161072,0.7592587471008301,0.7592587471008301,0.7592587471008301,0.7592587471008301,0.6171023845672607,0.6171023845672607,0.6171023845672607,0.9238232374191284,0.681069552898407,0.681069552898407,0.681069552898407,0.8330678939819336,0.6146528720855713,0.6146528720855713,0.6146528720855713,0.6146528720855713,0.6146528720855713,0.63645339012146,0.63645339012146,0.63645339012146,0.9158853888511658,0.48731932044029236,0.6072714328765869,0.6072714328765869,0.6072714328765869,0.6072714328765869,0.7659063339233398,0.622116208076477,0.8357370495796204,0.8259384036064148,0.8259384036064148,0.8612833619117737,0.6501134037971497,0.6501134037971497,0.6501134037971497,0.6501134037971497,0.6501134037971497,0.7500759363174438,0.7500759363174438,0.7500759363174438,0.7500759363174438,0.7200872302055359,0.6373816132545471,0.672643780708313,0.672643780708313,0.672643780708313,0.672643780708313,0.7174665331840515,0.5037110447883606,0.785854160785675,0.785854160785675,0.785854160785675,0.7584180235862732,0.6448777914047241,0.5900906920433044,0.5900906920433044,0.5900906920433044,0.5900906920433044,0.5900906920433044,0.5900906920433044,0.5900906920433044,0.5900906920433044,0.5900906920433044,0.5900906920433044,0.9030596613883972,0.9030596613883972,0.6889967918395996,0.6889967918395996,0.6889967918395996,0.6889967918395996,0.6889967918395996,0.6889967918395996,0.6889967918395996,0.6889967918395996,0.6889967918395996,0.7405194640159607,0.715785801410675,0.7637715339660645,0.7637715339660645,0.7081006169319153,0.7071621417999268,0.7071621417999268,0.7071621417999268,0.7071621417999268,0.7071621417999268,0.7978984117507935,0.7681524753570557,0.7681524753570557,0.7681524753570557,0.7681524753570557,0.7681524753570557,0.7681524753570557,0.7681524753570557,0.7681524753570557,0.7681524753570557,0.7681524753570557,0.8317866921424866,0.6585990786552429,0.835618793964386,0.835618793964386,0.7390090823173523,0.7390090823173523,0.7647761106491089,0.7647761106491089,0.7647761106491089,0.5730257034301758,0.8470607399940491,0.8470607399940491,0.8470607399940491,0.8470607399940491,0.8470607399940491,0.8470607399940491,0.6277524828910828,0.6277524828910828,0.6277524828910828,0.5048684477806091,0.5048684477806091,0.5048684477806091,0.8275441527366638,0.8275441527366638,0.7321852445602417,0.7321852445602417,0.7321852445602417,0.8034663200378418,0.8034663200378418,0.8034663200378418,0.8034663200378418,0.8034663200378418,0.8034663200378418,0.7317789793014526,0.7317789793014526,0.7317789793014526,0.7664723992347717,0.7664723992347717,0.7376657724380493,0.7376657724380493,0.5348631143569946,0.5348631143569946,0.5348631143569946,0.8008305430412292,0.696455717086792,0.696455717086792,0.696455717086792,0.6391212344169617,0.6391212344169617,0.4268645644187927,0.7011644244194031,0.7011644244194031,0.7011644244194031,0.7011644244194031,0.7011644244194031,0.7011644244194031,0.7011644244194031,0.7011644244194031,0.5119237303733826,0.5119237303733826,0.6882938146591187,0.5139278769493103,0.8805242776870728,0.8805242776870728,0.8805242776870728,0.8305434584617615,0.8305434584617615,0.8305434584617615,0.8305434584617615,0.5846031308174133,0.4718954265117645,0.4718954265117645,0.6277076005935669,0.6277076005935669,0.6277076005935669,0.5171131491661072,0.5171131491661072,0.6626033782958984,0.5533387660980225,0.78654944896698,0.78654944896698,0.78654944896698,0.78654944896698,0.78654944896698,0.7323576211929321,0.7323576211929321,0.7053716778755188,0.8680785894393921,0.8680785894393921,0.749352216720581,0.7762569189071655,0.7762569189071655,0.7290295362472534,0.5842057466506958,0.5842057466506958,0.7600057721138,0.8803454637527466,0.8803454637527466,0.8803454637527466,0.8803454637527466,0.8803454637527466,0.8803454637527466,0.8803454637527466,0.8803454637527466,0.8803454637527466,0.6205792427062988,0.6205792427062988,0.7337154746055603,0.9695789813995361,0.6793650388717651,0.6793650388717651,0.794011652469635,0.8342490196228027,0.8342490196228027,0.5046177506446838,0.8502069115638733,0.8502069115638733,0.8502069115638733,0.9194402694702148,0.9194402694702148,0.9194402694702148,0.9194402694702148,0.9194402694702148,0.9194402694702148,0.9194402694702148,0.9194402694702148,0.9194402694702148,0.9194402694702148,0.9194402694702148,0.6495356559753418,0.5096995830535889,0.5680683255195618,0.589933454990387,0.589933454990387,0.5021921396255493,0.7372571229934692,0.7372571229934692,0.7275596261024475,0.8595569729804993,0.8595569729804993,0.6870025992393494,0.8257300853729248,0.8257300853729248,0.8257300853729248,0.8257300853729248,0.8257300853729248,0.8257300853729248,0.33679383993148804,0.7766661643981934,0.857429563999176,0.857429563999176,0.857429563999176,0.857429563999176,0.8809762001037598,0.6018120646476746,0.6295321583747864,0.6295321583747864,0.7189124226570129,0.7189124226570129,0.619868278503418,0.619868278503418,0.619868278503418,0.7152570486068726,0.7152570486068726,0.8838478326797485,0.8838478326797485,0.6333467364311218,0.6333467364311218,0.6333467364311218,0.6333467364311218,0.8291388750076294,0.8291388750076294,0.8291388750076294,0.8291388750076294,0.8291388750076294,0.8291388750076294,0.8291388750076294,0.8291388750076294,0.4814625084400177,0.4814625084400177,0.4814625084400177,0.4814625084400177,0.4980325400829315,0.7573766112327576,0.7573766112327576,0.7573766112327576,0.7573766112327576,0.7573766112327576,0.8382464647293091,0.4647185504436493,0.5570893883705139,0.5570893883705139,0.4685347378253937,0.6680630445480347,0.6680630445480347,0.6680630445480347,0.6976045370101929,0.6430648565292358,0.6430648565292358,0.6430648565292358,0.6742072105407715,0.6742072105407715,0.6742072105407715,0.6742072105407715,0.6742072105407715,0.6751694679260254,0.6751694679260254,0.6316730380058289,0.6316730380058289,0.5570546984672546,0.5570546984672546,0.7319756150245667,0.7319756150245667,0.7319756150245667,0.8349389433860779,0.8054078221321106,0.8054078221321106,0.8054078221321106,0.67410808801651,0.6922101378440857,0.6922101378440857,0.6922101378440857,0.7422685623168945,0.7422685623168945,0.7422685623168945,0.6187064051628113,0.6187064051628113,0.5403659343719482,0.575536847114563,0.5248398780822754,0.5768498778343201,0.5456658005714417,0.6467719078063965,0.8494439721107483,0.8494439721107483,0.6067409515380859,0.555246889591217,0.6119851469993591,0.6119851469993591,0.6119851469993591,0.6119851469993591,0.6119851469993591,0.6574186086654663,0.6574186086654663,0.6574186086654663,0.6574186086654663,0.6574186086654663,0.6574186086654663,0.5640440583229065,0.5640440583229065,0.5640440583229065,0.6386637091636658,0.7587520480155945,0.7587520480155945,0.7587520480155945,0.8271141648292542,0.8040545582771301,0.8040545582771301,0.8040545582771301,0.8040545582771301,0.8040545582771301,0.8040545582771301,0.8040545582771301,0.8040545582771301,0.8040545582771301,0.8040545582771301,0.5580551028251648,0.5755273699760437,0.6215726733207703,0.571509599685669,0.571509599685669,0.571509599685669,0.789264976978302,0.646557629108429,0.646557629108429,0.9302754998207092,0.9302754998207092,0.9302754998207092,0.9302754998207092,0.7913410067558289,0.7913410067558289,0.7913410067558289,0.853525698184967,0.853525698184967,0.853525698184967,0.853525698184967,0.853525698184967,0.853525698184967,0.5578383207321167,0.5835160613059998,0.5835160613059998,0.7357309460639954,0.7357309460639954,0.7357309460639954,0.7357309460639954,0.7357309460639954,0.7357309460639954,0.7357309460639954,0.7357309460639954,0.767040491104126,0.767040491104126,0.7505771517753601,0.7505771517753601,0.6176645159721375,0.6176645159721375,0.6277016997337341,0.47003257274627686,0.5369737148284912,0.5369737148284912,0.47590696811676025,0.47590696811676025,0.47590696811676025,0.47590696811676025,0.7859467267990112,0.7859467267990112,0.7859467267990112,0.7859467267990112,0.795984148979187,0.717933177947998,0.717933177947998,0.717933177947998,0.7858589887619019,0.7858589887619019,0.7666969895362854,0.7666969895362854,0.8638249635696411,0.39863309264183044,0.39863309264183044,0.8300653696060181,0.8300653696060181,0.8300653696060181,0.8300653696060181,0.806956946849823,0.4696459174156189,0.4696459174156189,0.40930742025375366,0.4784872829914093,0.6110094785690308,0.6573114991188049,0.4253299832344055,0.597208559513092,0.597208559513092,0.8635874390602112,0.8635874390602112,0.8635874390602112,0.8635874390602112,0.6852366924285889,0.6852366924285889,0.580776035785675,0.580776035785675,0.5947484970092773,0.6564905643463135,0.8718696236610413,0.7586393356323242,0.7586393356323242,0.7586393356323242,0.7586393356323242,0.7838521599769592,0.7838521599769592,0.6024616360664368,0.6024616360664368,0.6024616360664368,0.5308277010917664,0.5308277010917664,0.5308277010917664,0.4387334883213043,0.6682312488555908,0.6682312488555908,0.6682312488555908,0.6682312488555908,0.7574969530105591,0.7574969530105591,0.7574969530105591,0.7574969530105591,0.7574969530105591,0.6440065503120422,0.6440065503120422,0.5858193635940552,0.7657319903373718,0.7657319903373718,0.7657319903373718,0.7512596845626831,0.7512596845626831,0.7512596845626831,0.5789070129394531,0.4488395154476166,0.5464705228805542,0.5464705228805542,0.5464705228805542,0.48883992433547974,0.795061469078064,0.795061469078064,0.795061469078064,0.7263697981834412,0.5821015238761902,0.7110530734062195,0.7422662973403931,0.7422662973403931,0.8706046938896179,0.8706046938896179,0.8706046938896179,0.8706046938896179,0.8758730888366699,0.8174884915351868,0.8174884915351868,0.7145076394081116,0.7145076394081116,0.7145076394081116,0.7145076394081116,0.7145076394081116,0.7145076394081116,0.7145076394081116,0.7145076394081116,0.7145076394081116,0.8665775060653687,0.8665775060653687,0.8665775060653687,0.8665775060653687,0.8665775060653687,0.6127829551696777,0.883942723274231,0.7892558574676514,0.7540143728256226,0.7926210761070251,0.7926210761070251,0.7926210761070251,0.7926210761070251,0.7926210761070251,0.7926210761070251,0.7926210761070251,0.7926210761070251,0.7900539636611938,0.7900539636611938,0.8254031538963318,0.5798563957214355,0.5798563957214355,0.5798563957214355,0.5798563957214355,0.5301647782325745,0.7683961987495422,0.7683961987495422,0.7683961987495422,0.7683961987495422,0.7683961987495422,0.7683961987495422,0.7683961987495422,0.7013657689094543,0.7013657689094543,0.7013657689094543,0.7013657689094543,0.7013657689094543,0.7013657689094543,0.7013657689094543,0.7013657689094543,0.7013657689094543,0.7018410563468933,0.7018410563468933,0.7018410563468933,0.6794432997703552,0.6794432997703552,0.6794432997703552,0.6593697667121887,0.6593697667121887,0.5926758050918579,0.5926758050918579,0.5926758050918579,0.5926758050918579,0.5926758050918579,0.5926758050918579,0.5926758050918579,0.5420560240745544,0.6832562685012817,0.6832562685012817,0.6832562685012817,0.5103219747543335,0.9405792355537415,0.9405792355537415,0.8504350781440735,0.8504350781440735,0.8504350781440735,0.7614673376083374,0.7800360321998596,0.7800360321998596,0.72480309009552,0.7270742654800415,0.7270742654800415,0.7270742654800415,0.7270742654800415,0.7270742654800415,0.6182263493537903,0.6182263493537903,0.6182263493537903,0.6158798933029175,0.8198633193969727,0.8198633193969727,0.8198633193969727,0.8198633193969727,0.8198633193969727,0.5842154026031494,0.5842154026031494,0.5842154026031494,0.5842154026031494,0.5842154026031494,0.8747509717941284,0.8747509717941284,0.8747509717941284,0.8747509717941284,0.6020198464393616,0.6020198464393616,0.6069071292877197,0.6069071292877197,0.6847512125968933,0.863149881362915,0.863149881362915,0.8339273929595947,0.8339273929595947,0.8339273929595947,0.8339273929595947,0.8339273929595947,0.8339273929595947,0.8339273929595947,0.8339273929595947,0.8339273929595947,0.8339273929595947,0.8339273929595947,0.8339273929595947,0.8339273929595947,0.7786818742752075,0.7786818742752075,0.570563018321991,0.6058993935585022,0.6058993935585022,0.826732873916626,0.826732873916626,0.826732873916626,0.8085757493972778],\"yaxis\":\"y\",\"type\":\"scatter\"},{\"mode\":\"lines\",\"name\":\"chain1\",\"x\":[0,1,2,3,4,5,6,7,8,9,10,11,12,13,14,15,16,17,18,19,20,21,22,23,24,25,26,27,28,29,30,31,32,33,34,35,36,37,38,39,40,41,42,43,44,45,46,47,48,49,50,51,52,53,54,55,56,57,58,59,60,61,62,63,64,65,66,67,68,69,70,71,72,73,74,75,76,77,78,79,80,81,82,83,84,85,86,87,88,89,90,91,92,93,94,95,96,97,98,99,100,101,102,103,104,105,106,107,108,109,110,111,112,113,114,115,116,117,118,119,120,121,122,123,124,125,126,127,128,129,130,131,132,133,134,135,136,137,138,139,140,141,142,143,144,145,146,147,148,149,150,151,152,153,154,155,156,157,158,159,160,161,162,163,164,165,166,167,168,169,170,171,172,173,174,175,176,177,178,179,180,181,182,183,184,185,186,187,188,189,190,191,192,193,194,195,196,197,198,199,200,201,202,203,204,205,206,207,208,209,210,211,212,213,214,215,216,217,218,219,220,221,222,223,224,225,226,227,228,229,230,231,232,233,234,235,236,237,238,239,240,241,242,243,244,245,246,247,248,249,250,251,252,253,254,255,256,257,258,259,260,261,262,263,264,265,266,267,268,269,270,271,272,273,274,275,276,277,278,279,280,281,282,283,284,285,286,287,288,289,290,291,292,293,294,295,296,297,298,299,300,301,302,303,304,305,306,307,308,309,310,311,312,313,314,315,316,317,318,319,320,321,322,323,324,325,326,327,328,329,330,331,332,333,334,335,336,337,338,339,340,341,342,343,344,345,346,347,348,349,350,351,352,353,354,355,356,357,358,359,360,361,362,363,364,365,366,367,368,369,370,371,372,373,374,375,376,377,378,379,380,381,382,383,384,385,386,387,388,389,390,391,392,393,394,395,396,397,398,399,400,401,402,403,404,405,406,407,408,409,410,411,412,413,414,415,416,417,418,419,420,421,422,423,424,425,426,427,428,429,430,431,432,433,434,435,436,437,438,439,440,441,442,443,444,445,446,447,448,449,450,451,452,453,454,455,456,457,458,459,460,461,462,463,464,465,466,467,468,469,470,471,472,473,474,475,476,477,478,479,480,481,482,483,484,485,486,487,488,489,490,491,492,493,494,495,496,497,498,499,500,501,502,503,504,505,506,507,508,509,510,511,512,513,514,515,516,517,518,519,520,521,522,523,524,525,526,527,528,529,530,531,532,533,534,535,536,537,538,539,540,541,542,543,544,545,546,547,548,549,550,551,552,553,554,555,556,557,558,559,560,561,562,563,564,565,566,567,568,569,570,571,572,573,574,575,576,577,578,579,580,581,582,583,584,585,586,587,588,589,590,591,592,593,594,595,596,597,598,599,600,601,602,603,604,605,606,607,608,609,610,611,612,613,614,615,616,617,618,619,620,621,622,623,624,625,626,627,628,629,630,631,632,633,634,635,636,637,638,639,640,641,642,643,644,645,646,647,648,649,650,651,652,653,654,655,656,657,658,659,660,661,662,663,664,665,666,667,668,669,670,671,672,673,674,675,676,677,678,679,680,681,682,683,684,685,686,687,688,689,690,691,692,693,694,695,696,697,698,699,700,701,702,703,704,705,706,707,708,709,710,711,712,713,714,715,716,717,718,719,720,721,722,723,724,725,726,727,728,729,730,731,732,733,734,735,736,737,738,739,740,741,742,743,744,745,746,747,748,749,750,751,752,753,754,755,756,757,758,759,760,761,762,763,764,765,766,767,768,769,770,771,772,773,774,775,776,777,778,779,780,781,782,783,784,785,786,787,788,789,790,791,792,793,794,795,796,797,798,799,800,801,802,803,804,805,806,807,808,809,810,811,812,813,814,815,816,817,818,819,820,821,822,823,824,825,826,827,828,829,830,831,832,833,834,835,836,837,838,839,840,841,842,843,844,845,846,847,848,849,850,851,852,853,854,855,856,857,858,859,860,861,862,863,864,865,866,867,868,869,870,871,872,873,874,875,876,877,878,879,880,881,882,883,884,885,886,887,888,889,890,891,892,893,894,895,896,897,898,899,900,901,902,903,904,905,906,907,908,909,910,911,912,913,914,915,916,917,918,919,920,921,922,923,924,925,926,927,928,929,930,931,932,933,934,935,936,937,938,939,940,941,942,943,944,945,946,947,948,949,950,951,952,953,954,955,956,957,958,959,960,961,962,963,964,965,966,967,968,969,970,971,972,973,974,975,976,977,978,979,980,981,982,983,984,985,986,987,988,989,990,991,992,993,994,995,996,997,998,999],\"xaxis\":\"x\",\"y\":[0.2853500247001648,0.2853500247001648,0.7474298477172852,0.758945882320404,0.758945882320404,0.758945882320404,0.758945882320404,0.7386957406997681,0.8578294515609741,0.8455333709716797,0.8455333709716797,0.6398940682411194,0.6398940682411194,0.6170009970664978,0.6170009970664978,0.6170009970664978,0.6170009970664978,0.7583795189857483,0.7583795189857483,0.7583795189857483,0.6317846775054932,0.5920130014419556,0.5920130014419556,0.5341376662254333,0.37598276138305664,0.5976191759109497,0.7312204241752625,0.7312204241752625,0.7515819072723389,0.7515819072723389,0.7515819072723389,0.7515819072723389,0.7851107716560364,0.7851107716560364,0.7851107716560364,0.7851107716560364,0.7815443277359009,0.5205392837524414,0.8304241895675659,0.8304241895675659,0.6825117468833923,0.6825117468833923,0.8985766172409058,0.6816189289093018,0.7239506840705872,0.8095573782920837,0.8095573782920837,0.5412060022354126,0.5412060022354126,0.5412060022354126,0.8384461998939514,0.8384461998939514,0.9288315176963806,0.7626456022262573,0.5544965863227844,0.6386542916297913,0.6386542916297913,0.6386542916297913,0.6386542916297913,0.7367597222328186,0.7367597222328186,0.7367597222328186,0.7367597222328186,0.5327197909355164,0.8786153793334961,0.8786153793334961,0.7470145225524902,0.7470145225524902,0.7470145225524902,0.7499772906303406,0.7499772906303406,0.7499772906303406,0.7499772906303406,0.7499772906303406,0.6743022203445435,0.8230904936790466,0.7682307362556458,0.7682307362556458,0.8222771286964417,0.8222771286964417,0.8222771286964417,0.3631994426250458,0.8014228343963623,0.8195728659629822,0.709854006767273,0.709854006767273,0.6451140642166138,0.6634429693222046,0.6634429693222046,0.6634429693222046,0.6634429693222046,0.657942533493042,0.7120044827461243,0.6550291776657104,0.7810300588607788,0.7810300588607788,0.7810300588607788,0.7810300588607788,0.7810300588607788,0.7810300588607788,0.7810300588607788,0.7810300588607788,0.7810300588607788,0.7810300588607788,0.7695915102958679,0.6992107033729553,0.6992107033729553,0.6992107033729553,0.6992107033729553,0.7604619860649109,0.7604619860649109,0.7604619860649109,0.7604619860649109,0.7330541014671326,0.7330541014671326,0.7330541014671326,0.7330541014671326,0.7330541014671326,0.7330541014671326,0.7330541014671326,0.7330541014671326,0.7330541014671326,0.7330541014671326,0.851255476474762,0.851255476474762,0.851255476474762,0.851255476474762,0.851255476474762,0.8692453503608704,0.8692453503608704,0.8223533034324646,0.8223533034324646,0.8223533034324646,0.8223533034324646,0.4983179569244385,0.4983179569244385,0.4983179569244385,0.4983179569244385,0.4619206190109253,0.7571181654930115,0.6152404546737671,0.5389400124549866,0.5156207084655762,0.41684404015541077,0.41684404015541077,0.7939529418945312,0.7939529418945312,0.7939529418945312,0.7217268347740173,0.7217268347740173,0.4876910448074341,0.6416684985160828,0.6416684985160828,0.6416684985160828,0.568831741809845,0.7657718062400818,0.7657718062400818,0.7657718062400818,0.5491808652877808,0.5491808652877808,0.5491808652877808,0.5491808652877808,0.7890391945838928,0.7890391945838928,0.8502513766288757,0.8502513766288757,0.8502513766288757,0.8502513766288757,0.8502513766288757,0.8502513766288757,0.8502513766288757,0.8109562993049622,0.4038555324077606,0.8889510631561279,0.8889510631561279,0.8386003971099854,0.8386003971099854,0.8386003971099854,0.7839708924293518,0.7839708924293518,0.7839708924293518,0.7839708924293518,0.7839708924293518,0.6933291554450989,0.6933291554450989,0.6933291554450989,0.7890028953552246,0.7890028953552246,0.7890028953552246,0.7676728367805481,0.7676728367805481,0.7676728367805481,0.7676728367805481,0.7676728367805481,0.7676728367805481,0.7676728367805481,0.7676728367805481,0.8081237077713013,0.8081237077713013,0.8081237077713013,0.8081237077713013,0.8073269128799438,0.843832790851593,0.8522982001304626,0.8522982001304626,0.6914710402488708,0.6914710402488708,0.8403579592704773,0.8403579592704773,0.7493630051612854,0.7493630051612854,0.658823549747467,0.658823549747467,0.658823549747467,0.658823549747467,0.658823549747467,0.658823549747467,0.7295960187911987,0.7295960187911987,0.7201175093650818,0.7201175093650818,0.7201175093650818,0.7201175093650818,0.7201175093650818,0.8463413715362549,0.8219646215438843,0.8219646215438843,0.8219646215438843,0.6854273080825806,0.6736032962799072,0.6966105699539185,0.6966105699539185,0.6966105699539185,0.6057091951370239,0.6057091951370239,0.6057091951370239,0.6381926536560059,0.6381926536560059,0.6381926536560059,0.7241973280906677,0.7624579668045044,0.7680706977844238,0.7680706977844238,0.7103298306465149,0.7103298306465149,0.7103298306465149,0.5813976526260376,0.5813976526260376,0.5813976526260376,0.5813976526260376,0.5918670892715454,0.5894224643707275,0.6834681034088135,0.652034342288971,0.652034342288971,0.652034342288971,0.652034342288971,0.652034342288971,0.652034342288971,0.652034342288971,0.6343880891799927,0.8221238851547241,0.7337568402290344,0.7337568402290344,0.7623953223228455,0.7623953223228455,0.6236015558242798,0.7377257943153381,0.7377257943153381,0.7377257943153381,0.7377257943153381,0.7114716172218323,0.7114716172218323,0.7114716172218323,0.6916980147361755,0.6916980147361755,0.8458747267723083,0.6862384080886841,0.6862384080886841,0.6862384080886841,0.6862384080886841,0.6862384080886841,0.6862384080886841,0.6439433693885803,0.6439433693885803,0.6439433693885803,0.7880374789237976,0.8043984770774841,0.8043984770774841,0.7106435894966125,0.7106435894966125,0.7106435894966125,0.5810087323188782,0.5810087323188782,0.5810087323188782,0.5810087323188782,0.653532087802887,0.653532087802887,0.653532087802887,0.8068975806236267,0.8068975806236267,0.6651253700256348,0.6651253700256348,0.6651253700256348,0.6577954888343811,0.7874026894569397,0.7874026894569397,0.8377777934074402,0.8377777934074402,0.9033239483833313,0.9033239483833313,0.9033239483833313,0.573272705078125,0.7640990018844604,0.7640990018844604,0.958357572555542,0.5372137427330017,0.5668025016784668,0.5668025016784668,0.5668025016784668,0.5622704029083252,0.5580184459686279,0.8270039558410645,0.5527257919311523,0.5576422810554504,0.5576422810554504,0.8429877758026123,0.8429877758026123,0.8429877758026123,0.4857633411884308,0.4857633411884308,0.4857633411884308,0.8399869203567505,0.8399869203567505,0.8399869203567505,0.8399869203567505,0.8399869203567505,0.8399869203567505,0.8399869203567505,0.8399869203567505,0.8399869203567505,0.8399869203567505,0.41863200068473816,0.5871478915214539,0.5871478915214539,0.5871478915214539,0.9008971452713013,0.6250786185264587,0.6250786185264587,0.5964023470878601,0.7139416337013245,0.7139416337013245,0.6905086040496826,0.4197055697441101,0.4197055697441101,0.7335928082466125,0.7335928082466125,0.7335928082466125,0.7335928082466125,0.6466794013977051,0.6466794013977051,0.6466794013977051,0.8682457804679871,0.8184529542922974,0.8184529542922974,0.8184529542922974,0.7214161157608032,0.6979783773422241,0.508897066116333,0.508897066116333,0.7673099040985107,0.7673099040985107,0.8184349536895752,0.8184349536895752,0.5178990364074707,0.5178990364074707,0.5178990364074707,0.5178990364074707,0.5178990364074707,0.5946769118309021,0.5946769118309021,0.5946769118309021,0.5946769118309021,0.6415889263153076,0.6415889263153076,0.6415889263153076,0.6415889263153076,0.6470242738723755,0.6470242738723755,0.6470242738723755,0.6470242738723755,0.750260055065155,0.750260055065155,0.750260055065155,0.750260055065155,0.750260055065155,0.750260055065155,0.750260055065155,0.750260055065155,0.4830690324306488,0.6147043704986572,0.6147043704986572,0.6147043704986572,0.6147043704986572,0.6147043704986572,0.611321210861206,0.898000180721283,0.898000180721283,0.898000180721283,0.898000180721283,0.6843017935752869,0.5728583931922913,0.5728583931922913,0.7145446538925171,0.7145446538925171,0.9015646576881409,0.9015646576881409,0.9015646576881409,0.9015646576881409,0.9015646576881409,0.5635223388671875,0.5635223388671875,0.6356436610221863,0.8938039541244507,0.6304033398628235,0.698452353477478,0.6439964771270752,0.6439964771270752,0.6439964771270752,0.6439964771270752,0.6439964771270752,0.6192921996116638,0.6192921996116638,0.6192921996116638,0.7713010907173157,0.7713010907173157,0.6287850737571716,0.5295693874359131,0.5295693874359131,0.8846884369850159,0.8846884369850159,0.8846884369850159,0.8846884369850159,0.8846884369850159,0.8265241384506226,0.8265241384506226,0.8265241384506226,0.6261104941368103,0.6261104941368103,0.6261104941368103,0.6261104941368103,0.5346400141716003,0.5346400141716003,0.5346400141716003,0.5346400141716003,0.6244224905967712,0.6244224905967712,0.6244224905967712,0.6244224905967712,0.6244224905967712,0.6244224905967712,0.6244224905967712,0.8828153014183044,0.8828153014183044,0.8828153014183044,0.8828153014183044,0.8828153014183044,0.7024624943733215,0.766883134841919,0.766883134841919,0.766883134841919,0.6938381195068359,0.7858262658119202,0.7858262658119202,0.7858262658119202,0.7858262658119202,0.7858262658119202,0.7858262658119202,0.7858262658119202,0.7858262658119202,0.7858262658119202,0.7858262658119202,0.7858262658119202,0.7858262658119202,0.9288356304168701,0.564809262752533,0.4150680899620056,0.586773157119751,0.7966225147247314,0.7966225147247314,0.7966225147247314,0.8698265552520752,0.8698265552520752,0.8698265552520752,0.8698265552520752,0.7555748224258423,0.7555748224258423,0.7055684328079224,0.7055684328079224,0.7055684328079224,0.7055684328079224,0.7765887379646301,0.7765887379646301,0.7765887379646301,0.7765887379646301,0.7765887379646301,0.7765887379646301,0.7765887379646301,0.7765887379646301,0.7765887379646301,0.7157143950462341,0.7006717920303345,0.7006717920303345,0.6020786166191101,0.6020786166191101,0.8157296180725098,0.8157296180725098,0.8157296180725098,0.5939785242080688,0.5939785242080688,0.9005594849586487,0.9005594849586487,0.9005594849586487,0.9005594849586487,0.9005594849586487,0.9005594849586487,0.7215733528137207,0.7215733528137207,0.7215733528137207,0.6182325482368469,0.6182325482368469,0.5910823345184326,0.771184504032135,0.6054673790931702,0.9325553774833679,0.9325553774833679,0.654177188873291,0.654177188873291,0.8557734489440918,0.8557734489440918,0.7409611344337463,0.7455328106880188,0.7455328106880188,0.7455328106880188,0.5330510139465332,0.40795910358428955,0.6570633053779602,0.6570633053779602,0.7489478588104248,0.8099910020828247,0.8099910020828247,0.8909854888916016,0.8909854888916016,0.3092804551124573,0.25324761867523193,0.4066469371318817,0.657007098197937,0.7899329662322998,0.7899329662322998,0.7899329662322998,0.7899329662322998,0.39881396293640137,0.8949599266052246,0.8949599266052246,0.8949599266052246,0.8949599266052246,0.744778037071228,0.744778037071228,0.744778037071228,0.744778037071228,0.744778037071228,0.744778037071228,0.744778037071228,0.744778037071228,0.8455959558486938,0.8455959558486938,0.8455959558486938,0.7891481518745422,0.5292243957519531,0.5292243957519531,0.379481703042984,0.40902242064476013,0.40902242064476013,0.37323084473609924,0.5448485612869263,0.665550708770752,0.8048059344291687,0.8048059344291687,0.8048059344291687,0.5835584998130798,0.46257439255714417,0.40350836515426636,0.7480572462081909,0.7480572462081909,0.7480572462081909,0.7480572462081909,0.7480572462081909,0.7480572462081909,0.7480572462081909,0.6457458734512329,0.6457458734512329,0.6457458734512329,0.6457458734512329,0.6457458734512329,0.6457458734512329,0.5955615043640137,0.5955615043640137,0.7377896308898926,0.7377896308898926,0.7377896308898926,0.7377896308898926,0.7377896308898926,0.7377896308898926,0.7377896308898926,0.7377896308898926,0.7377896308898926,0.7377896308898926,0.7377896308898926,0.8104936480522156,0.7575521469116211,0.7575521469116211,0.6354925036430359,0.6354925036430359,0.6252620816230774,0.6252620816230774,0.6252620816230774,0.6023018956184387,0.6227383017539978,0.8047531843185425,0.8047531843185425,0.8047531843185425,0.7358542680740356,0.6349421143531799,0.5309942364692688,0.6869807839393616,0.6869807839393616,0.6869807839393616,0.6869807839393616,0.9185656309127808,0.9185656309127808,0.5630345940589905,0.5630345940589905,0.5630345940589905,0.6289160251617432,0.6289160251617432,0.6289160251617432,0.5578017830848694,0.5598090291023254,0.6795945763587952,0.6046803593635559,0.6241014003753662,0.6241014003753662,0.6241014003753662,0.6518479585647583,0.6518479585647583,0.6329097747802734,0.699013888835907,0.2890182137489319,0.7070531845092773,0.7070531845092773,0.8807178735733032,0.8807178735733032,0.8807178735733032,0.8807178735733032,0.8807178735733032,0.5621427893638611,0.5621427893638611,0.5101252794265747,0.5101252794265747,0.6565489768981934,0.6565489768981934,0.6565489768981934,0.5648698806762695,0.5648698806762695,0.7574869990348816,0.7574869990348816,0.6583634614944458,0.6583634614944458,0.7434828281402588,0.7154524922370911,0.7154524922370911,0.7154524922370911,0.666748046875,0.666748046875,0.8538774251937866,0.5806678533554077,0.5806678533554077,0.5806678533554077,0.5806678533554077,0.5806678533554077,0.5488099455833435,0.7332531809806824,0.7332531809806824,0.7866973280906677,0.8414265513420105,0.8317907452583313,0.8317907452583313,0.7217816114425659,0.7222762107849121,0.7222762107849121,0.7222762107849121,0.7222762107849121,0.7222762107849121,0.7523735761642456,0.7523735761642456,0.373568594455719,0.3829950988292694,0.46836304664611816,0.46836304664611816,0.5744198560714722,0.490322470664978,0.490322470664978,0.490322470664978,0.6014805436134338,0.6014805436134338,0.6014805436134338,0.8106111884117126,0.7502273917198181,0.7502273917198181,0.7502273917198181,0.5924906730651855,0.5924906730651855,0.5924906730651855,0.779694676399231,0.779694676399231,0.779694676399231,0.779694676399231,0.8187248706817627,0.8187248706817627,0.7560549378395081,0.7560549378395081,0.7560549378395081,0.6925680637359619,0.576598584651947,0.576598584651947,0.576598584651947,0.793292760848999,0.793292760848999,0.793292760848999,0.7162870764732361,0.6036140322685242,0.6036140322685242,0.6036140322685242,0.7137426137924194,0.7137426137924194,0.7763888835906982,0.7763888835906982,0.9417978525161743,0.9417978525161743,0.6323791146278381,0.7949053049087524,0.7949053049087524,0.7949053049087524,0.7949053049087524,0.7949053049087524,0.7949053049087524,0.7949053049087524,0.6900845170021057,0.6900845170021057,0.6900845170021057,0.48543819785118103,0.45641422271728516,0.8214476704597473,0.8214476704597473,0.49442607164382935,0.440258651971817,0.7607701420783997,0.7607701420783997,0.7607701420783997,0.7607701420783997,0.613872230052948,0.9578905701637268,0.6288095712661743,0.6288095712661743,0.5887882113456726,0.9102385640144348,0.9102385640144348,0.6902265548706055,0.5646599531173706,0.5646599531173706,0.5646599531173706,0.6163209080696106,0.6210870146751404,0.6972587704658508,0.6972587704658508,0.6972587704658508,0.6972587704658508,0.7675408720970154,0.7675408720970154,0.7675408720970154,0.7675408720970154,0.7634135484695435,0.7634135484695435,0.7634135484695435,0.7634135484695435,0.7634135484695435,0.8440430164337158,0.8440430164337158,0.8208637237548828,0.8208637237548828,0.8208637237548828,0.8208637237548828,0.7985677123069763,0.8156435489654541,0.8156435489654541,0.8156435489654541,0.7583460211753845,0.7583460211753845,0.7693999409675598,0.7693999409675598,0.7693999409675598,0.6038950681686401,0.6038950681686401,0.7140123248100281,0.7140123248100281,0.6956218481063843,0.62221360206604,0.62221360206604,0.62221360206604,0.8931352496147156,0.8931352496147156,0.8931352496147156,0.8931352496147156,0.8931352496147156,0.6000498533248901,0.6000498533248901,0.5131696462631226,0.5131696462631226,0.5131696462631226,0.5131696462631226,0.5131696462631226,0.5131696462631226,0.5131696462631226,0.5979993939399719,0.5979993939399719,0.5979993939399719,0.8475460410118103,0.8475460410118103,0.8475460410118103,0.8475460410118103,0.8475460410118103,0.8889293074607849,0.8889293074607849,0.8889293074607849,0.8889293074607849,0.8889293074607849,0.8889293074607849,0.7224529385566711,0.6390701532363892,0.7276049852371216,0.5334105491638184,0.48290950059890747,0.39354363083839417,0.39354363083839417,0.39354363083839417,0.42202645540237427,0.42202645540237427,0.5216189622879028,0.5216189622879028,0.7934421300888062,0.7934421300888062,0.8522254228591919,0.8522254228591919,0.8522254228591919,0.8522254228591919,0.8522254228591919,0.8522254228591919,0.8522254228591919,0.6714105606079102,0.7298731207847595,0.7298731207847595,0.7544729113578796,0.7544729113578796,0.8515732288360596,0.5933036804199219,0.7103926539421082,0.7103926539421082,0.6600562930107117,0.6600562930107117,0.6208386421203613,0.702541172504425,0.702541172504425,0.702541172504425,0.7053681015968323,0.7053681015968323,0.5218897461891174,0.5218897461891174,0.5218897461891174,0.5218897461891174,0.5218897461891174,0.5320225358009338,0.6253724098205566,0.9019136428833008,0.7203354835510254,0.7203354835510254,0.7203354835510254,0.7203354835510254,0.8972005844116211,0.8972005844116211,0.8972005844116211,0.8972005844116211,0.5371810793876648,0.7838031053543091,0.834086000919342,0.834086000919342,0.834086000919342,0.4662487506866455,0.4662487506866455,0.6836900115013123,0.7042166590690613,0.6100022196769714,0.6100022196769714,0.5836805105209351,0.7508628964424133,0.7508628964424133,0.7508628964424133,0.7508628964424133,0.7508628964424133,0.7100470066070557,0.7373752593994141,0.8353687524795532,0.6735051274299622,0.6735051274299622,0.6735051274299622,0.9174611568450928,0.9174611568450928,0.7820389270782471,0.7820389270782471,0.7820389270782471,0.6034575700759888,0.6034575700759888,0.5509663820266724,0.5509663820266724,0.44926244020462036,0.44926244020462036,0.44926244020462036,0.44926244020462036,0.43673890829086304,0.7652468085289001,0.7652468085289001,0.7652468085289001,0.7652468085289001,0.7652468085289001,0.7013500332832336,0.7013500332832336,0.8007717728614807,0.8007717728614807,0.5535493493080139,0.5098190903663635,0.5098190903663635,0.5761602520942688,0.5761602520942688,0.8332400321960449,0.8332400321960449,0.6051452159881592,0.6051452159881592,0.7306798696517944,0.7306798696517944,0.7306798696517944,0.8471057415008545,0.8471057415008545,0.8471057415008545,0.8793964385986328,0.8793964385986328,0.707645833492279,0.8759212493896484,0.8759212493896484,0.8759212493896484,0.8759212493896484,0.5096296668052673,0.47861841320991516,0.6557653546333313,0.5851019024848938,0.7377349734306335,0.5549245476722717,0.5584595203399658,0.5584595203399658,0.5584595203399658,0.5584595203399658,0.5584595203399658,0.5116534233093262,0.43975889682769775,0.43975889682769775,0.43205496668815613,0.42058202624320984,0.3692213296890259,0.6639590859413147,0.6338430643081665,0.7242785096168518,0.7242785096168518,0.7242785096168518,0.7242785096168518,0.7242785096168518,0.7242785096168518,0.7242785096168518,0.7242785096168518,0.7242785096168518,0.7242785096168518,0.7242785096168518,0.7865068912506104],\"yaxis\":\"y\",\"type\":\"scatter\"},{\"mode\":\"lines\",\"name\":\"chain2\",\"x\":[0,1,2,3,4,5,6,7,8,9,10,11,12,13,14,15,16,17,18,19,20,21,22,23,24,25,26,27,28,29,30,31,32,33,34,35,36,37,38,39,40,41,42,43,44,45,46,47,48,49,50,51,52,53,54,55,56,57,58,59,60,61,62,63,64,65,66,67,68,69,70,71,72,73,74,75,76,77,78,79,80,81,82,83,84,85,86,87,88,89,90,91,92,93,94,95,96,97,98,99,100,101,102,103,104,105,106,107,108,109,110,111,112,113,114,115,116,117,118,119,120,121,122,123,124,125,126,127,128,129,130,131,132,133,134,135,136,137,138,139,140,141,142,143,144,145,146,147,148,149,150,151,152,153,154,155,156,157,158,159,160,161,162,163,164,165,166,167,168,169,170,171,172,173,174,175,176,177,178,179,180,181,182,183,184,185,186,187,188,189,190,191,192,193,194,195,196,197,198,199,200,201,202,203,204,205,206,207,208,209,210,211,212,213,214,215,216,217,218,219,220,221,222,223,224,225,226,227,228,229,230,231,232,233,234,235,236,237,238,239,240,241,242,243,244,245,246,247,248,249,250,251,252,253,254,255,256,257,258,259,260,261,262,263,264,265,266,267,268,269,270,271,272,273,274,275,276,277,278,279,280,281,282,283,284,285,286,287,288,289,290,291,292,293,294,295,296,297,298,299,300,301,302,303,304,305,306,307,308,309,310,311,312,313,314,315,316,317,318,319,320,321,322,323,324,325,326,327,328,329,330,331,332,333,334,335,336,337,338,339,340,341,342,343,344,345,346,347,348,349,350,351,352,353,354,355,356,357,358,359,360,361,362,363,364,365,366,367,368,369,370,371,372,373,374,375,376,377,378,379,380,381,382,383,384,385,386,387,388,389,390,391,392,393,394,395,396,397,398,399,400,401,402,403,404,405,406,407,408,409,410,411,412,413,414,415,416,417,418,419,420,421,422,423,424,425,426,427,428,429,430,431,432,433,434,435,436,437,438,439,440,441,442,443,444,445,446,447,448,449,450,451,452,453,454,455,456,457,458,459,460,461,462,463,464,465,466,467,468,469,470,471,472,473,474,475,476,477,478,479,480,481,482,483,484,485,486,487,488,489,490,491,492,493,494,495,496,497,498,499,500,501,502,503,504,505,506,507,508,509,510,511,512,513,514,515,516,517,518,519,520,521,522,523,524,525,526,527,528,529,530,531,532,533,534,535,536,537,538,539,540,541,542,543,544,545,546,547,548,549,550,551,552,553,554,555,556,557,558,559,560,561,562,563,564,565,566,567,568,569,570,571,572,573,574,575,576,577,578,579,580,581,582,583,584,585,586,587,588,589,590,591,592,593,594,595,596,597,598,599,600,601,602,603,604,605,606,607,608,609,610,611,612,613,614,615,616,617,618,619,620,621,622,623,624,625,626,627,628,629,630,631,632,633,634,635,636,637,638,639,640,641,642,643,644,645,646,647,648,649,650,651,652,653,654,655,656,657,658,659,660,661,662,663,664,665,666,667,668,669,670,671,672,673,674,675,676,677,678,679,680,681,682,683,684,685,686,687,688,689,690,691,692,693,694,695,696,697,698,699,700,701,702,703,704,705,706,707,708,709,710,711,712,713,714,715,716,717,718,719,720,721,722,723,724,725,726,727,728,729,730,731,732,733,734,735,736,737,738,739,740,741,742,743,744,745,746,747,748,749,750,751,752,753,754,755,756,757,758,759,760,761,762,763,764,765,766,767,768,769,770,771,772,773,774,775,776,777,778,779,780,781,782,783,784,785,786,787,788,789,790,791,792,793,794,795,796,797,798,799,800,801,802,803,804,805,806,807,808,809,810,811,812,813,814,815,816,817,818,819,820,821,822,823,824,825,826,827,828,829,830,831,832,833,834,835,836,837,838,839,840,841,842,843,844,845,846,847,848,849,850,851,852,853,854,855,856,857,858,859,860,861,862,863,864,865,866,867,868,869,870,871,872,873,874,875,876,877,878,879,880,881,882,883,884,885,886,887,888,889,890,891,892,893,894,895,896,897,898,899,900,901,902,903,904,905,906,907,908,909,910,911,912,913,914,915,916,917,918,919,920,921,922,923,924,925,926,927,928,929,930,931,932,933,934,935,936,937,938,939,940,941,942,943,944,945,946,947,948,949,950,951,952,953,954,955,956,957,958,959,960,961,962,963,964,965,966,967,968,969,970,971,972,973,974,975,976,977,978,979,980,981,982,983,984,985,986,987,988,989,990,991,992,993,994,995,996,997,998,999],\"xaxis\":\"x\",\"y\":[0.8247682452201843,0.7088372111320496,0.7088372111320496,0.7088372111320496,0.7088372111320496,0.5805763602256775,0.5805763602256775,0.5805763602256775,0.527772068977356,0.9007159471511841,0.9007159471511841,0.9150230288505554,0.9150230288505554,0.7705218195915222,0.7736995220184326,0.7736995220184326,0.7736995220184326,0.7736995220184326,0.7370162010192871,0.7370162010192871,0.8811033368110657,0.683315634727478,0.8508878946304321,0.8508878946304321,0.8508878946304321,0.8508878946304321,0.8508878946304321,0.8508878946304321,0.7262690663337708,0.7262690663337708,0.7262690663337708,0.5377616882324219,0.5377616882324219,0.5377616882324219,0.7228661775588989,0.7228661775588989,0.7228661775588989,0.6317622661590576,0.6317622661590576,0.42167165875434875,0.38701221346855164,0.3603323996067047,0.3421972692012787,0.6669266819953918,0.903479278087616,0.727970540523529,0.8008415102958679,0.8008415102958679,0.8008415102958679,0.8008415102958679,0.6014115214347839,0.6014115214347839,0.6014115214347839,0.8521666526794434,0.8521666526794434,0.8521666526794434,0.8521666526794434,0.8521666526794434,0.8521666526794434,0.7381550669670105,0.7409361600875854,0.7245448231697083,0.7245448231697083,0.7495473623275757,0.7897325158119202,0.7897325158119202,0.7897325158119202,0.7897325158119202,0.747758686542511,0.747758686542511,0.747758686542511,0.747758686542511,0.6678107976913452,0.6678107976913452,0.6678107976913452,0.6785088777542114,0.7981723546981812,0.7981723546981812,0.7981723546981812,0.7981723546981812,0.7981723546981812,0.9411857724189758,0.7329975962638855,0.7329975962638855,0.7329975962638855,0.8042890429496765,0.8042890429496765,0.8042890429496765,0.8042890429496765,0.8042890429496765,0.862156867980957,0.8809611201286316,0.8809611201286316,0.8809611201286316,0.8809611201286316,0.7262231707572937,0.7262231707572937,0.7262231707572937,0.7262231707572937,0.7262231707572937,0.7262231707572937,0.7262231707572937,0.7262231707572937,0.6605427861213684,0.6605427861213684,0.6605427861213684,0.7997629642486572,0.5834853053092957,0.7515351176261902,0.8814348578453064,0.8814348578453064,0.8814348578453064,0.8814348578453064,0.6889254450798035,0.6889254450798035,0.38939377665519714,0.38939377665519714,0.7128259539604187,0.7128259539604187,0.7128259539604187,0.7128259539604187,0.6804499626159668,0.6804499626159668,0.8306528925895691,0.8306528925895691,0.8306528925895691,0.7364370226860046,0.6323086023330688,0.6323086023330688,0.5588254928588867,0.6170250773429871,0.5258161425590515,0.7169365882873535,0.7169365882873535,0.7494227886199951,0.7775014042854309,0.7775014042854309,0.7775014042854309,0.7775014042854309,0.7775014042854309,0.7775014042854309,0.7775014042854309,0.7775014042854309,0.7775014042854309,0.7775014042854309,0.688021183013916,0.7411310076713562,0.7411310076713562,0.7411310076713562,0.7411310076713562,0.7411310076713562,0.7411310076713562,0.7411310076713562,0.5909886956214905,0.5909886956214905,0.8111055493354797,0.8111055493354797,0.8589511513710022,0.8530828356742859,0.6862937211990356,0.6862937211990356,0.6862937211990356,0.6862937211990356,0.6862937211990356,0.6862937211990356,0.7496911883354187,0.7496911883354187,0.7496911883354187,0.8521810173988342,0.8762340545654297,0.8762340545654297,0.8762340545654297,0.8762340545654297,0.8762340545654297,0.8762340545654297,0.8762340545654297,0.8162659406661987,0.8835107088088989,0.8835107088088989,0.8027256727218628,0.7520784735679626,0.7520784735679626,0.7520784735679626,0.6325666308403015,0.7539264559745789,0.7617621421813965,0.7617621421813965,0.7617621421813965,0.7617621421813965,0.7617621421813965,0.7617621421813965,0.6695663928985596,0.6695663928985596,0.6695663928985596,0.6695663928985596,0.6695663928985596,0.6772499084472656,0.6772499084472656,0.5997404456138611,0.8071560859680176,0.8071560859680176,0.8071560859680176,0.8071560859680176,0.8071560859680176,0.8071560859680176,0.8071560859680176,0.8071560859680176,0.8071560859680176,0.8071560859680176,0.8071560859680176,0.8071560859680176,0.8071560859680176,0.6535184383392334,0.6535184383392334,0.6535184383392334,0.7119229435920715,0.7119229435920715,0.7119229435920715,0.7119229435920715,0.7552036046981812,0.7552036046981812,0.7552036046981812,0.7552036046981812,0.7552036046981812,0.7855576276779175,0.7855576276779175,0.619331955909729,0.619331955909729,0.7112690210342407,0.7112690210342407,0.7112690210342407,0.8400169610977173,0.6019929051399231,0.6019929051399231,0.6019929051399231,0.6126644611358643,0.6126644611358643,0.5972913503646851,0.5291768908500671,0.5140295028686523,0.5140295028686523,0.7945027947425842,0.7945027947425842,0.8180311322212219,0.8180311322212219,0.8180311322212219,0.6645534038543701,0.41741591691970825,0.5549561381340027,0.5549561381340027,0.5549561381340027,0.638483464717865,0.638483464717865,0.5747875571250916,0.5462104678153992,0.5462104678153992,0.7789726257324219,0.7789726257324219,0.7789726257324219,0.7789726257324219,0.7789726257324219,0.7789726257324219,0.7789726257324219,0.6296980381011963,0.6296980381011963,0.6296980381011963,0.664614200592041,0.664614200592041,0.664614200592041,0.664614200592041,0.664614200592041,0.664614200592041,0.8509811758995056,0.5988835692405701,0.5988835692405701,0.5988835692405701,0.9270508885383606,0.793113112449646,0.793113112449646,0.793113112449646,0.7092981934547424,0.8582648038864136,0.8582648038864136,0.8582648038864136,0.8582648038864136,0.8582648038864136,0.8582648038864136,0.8582648038864136,0.8582648038864136,0.8093205690383911,0.8093205690383911,0.8690771460533142,0.8690771460533142,0.6041216254234314,0.6041216254234314,0.6041216254234314,0.7232874035835266,0.7232874035835266,0.5721439719200134,0.5721439719200134,0.5705286264419556,0.5705286264419556,0.5705286264419556,0.5705286264419556,0.7341720461845398,0.7341720461845398,0.7341720461845398,0.7341720461845398,0.7341720461845398,0.7341720461845398,0.7341720461845398,0.7130986452102661,0.7193720936775208,0.5740135312080383,0.5740135312080383,0.5441245436668396,0.6945840716362,0.6945840716362,0.6945840716362,0.6315562129020691,0.8299618363380432,0.8299618363380432,0.8299618363380432,0.8299618363380432,0.8636528849601746,0.7468737363815308,0.7468737363815308,0.7468737363815308,0.7468737363815308,0.6881071925163269,0.6881071925163269,0.6881071925163269,0.6881071925163269,0.6881071925163269,0.836124062538147,0.836124062538147,0.836124062538147,0.836124062538147,0.836124062538147,0.836124062538147,0.4685364365577698,0.4685364365577698,0.4685364365577698,0.5786818861961365,0.5786818861961365,0.6891770958900452,0.6891770958900452,0.7661035656929016,0.7661035656929016,0.8371067643165588,0.8371067643165588,0.8371067643165588,0.8371067643165588,0.8371067643165588,0.6534202098846436,0.7601056098937988,0.7601056098937988,0.750649631023407,0.750649631023407,0.6532657146453857,0.7371503710746765,0.7371503710746765,0.7371503710746765,0.7371503710746765,0.7371503710746765,0.8583142161369324,0.8890799283981323,0.8890799283981323,0.7344723343849182,0.7344723343849182,0.7344723343849182,0.7344723343849182,0.7344723343849182,0.7344723343849182,0.6108343005180359,0.6108343005180359,0.6108343005180359,0.6108343005180359,0.8354819416999817,0.8354819416999817,0.8354819416999817,0.7916675209999084,0.7916675209999084,0.7916675209999084,0.7916675209999084,0.7916675209999084,0.7916675209999084,0.8123911619186401,0.7433122992515564,0.7394319176673889,0.7394319176673889,0.7394319176673889,0.7394319176673889,0.7394319176673889,0.7394319176673889,0.7394319176673889,0.7394319176673889,0.7394319176673889,0.7394319176673889,0.7394319176673889,0.7603344917297363,0.42602407932281494,0.4656793177127838,0.4656793177127838,0.7799773216247559,0.7799773216247559,0.7799773216247559,0.7799773216247559,0.7799773216247559,0.7799773216247559,0.7799773216247559,0.7799773216247559,0.8217079639434814,0.8217079639434814,0.8217079639434814,0.7624201774597168,0.7624201774597168,0.7624201774597168,0.7624201774597168,0.7624201774597168,0.7624201774597168,0.7624201774597168,0.7624201774597168,0.7624201774597168,0.7624201774597168,0.7624201774597168,0.7624201774597168,0.6895906925201416,0.6895906925201416,0.7441826462745667,0.7013067603111267,0.7013067603111267,0.7149284482002258,0.6219444870948792,0.6219444870948792,0.6219444870948792,0.6219444870948792,0.5628650784492493,0.5628650784492493,0.5628650784492493,0.897270143032074,0.897270143032074,0.5871073007583618,0.5871073007583618,0.4895937442779541,0.4895937442779541,0.8484776020050049,0.8484776020050049,0.862343966960907,0.862343966960907,0.8137547373771667,0.8137547373771667,0.8137547373771667,0.8137547373771667,0.8137547373771667,0.8137547373771667,0.8137547373771667,0.8137547373771667,0.8137547373771667,0.8137547373771667,0.7300574779510498,0.7300574779510498,0.7300574779510498,0.7300574779510498,0.7300574779510498,0.7300574779510498,0.7300574779510498,0.7300574779510498,0.7153900861740112,0.7153900861740112,0.6374483704566956,0.6374483704566956,0.6374483704566956,0.6374483704566956,0.6374483704566956,0.6374483704566956,0.6374483704566956,0.6374483704566956,0.6374483704566956,0.6374483704566956,0.6374483704566956,0.6374483704566956,0.6374483704566956,0.6374483704566956,0.9242082238197327,0.5013531446456909,0.4838048815727234,0.6425182223320007,0.6330088973045349,0.8349292278289795,0.8349292278289795,0.8349292278289795,0.5626384019851685,0.5093918442726135,0.8099272847175598,0.8099272847175598,0.8958917260169983,0.5719587206840515,0.5719587206840515,0.5719587206840515,0.6493586301803589,0.6493586301803589,0.6493586301803589,0.6684385538101196,0.6684385538101196,0.6499692797660828,0.6499692797660828,0.6499692797660828,0.5841100215911865,0.5841100215911865,0.5847935676574707,0.5847935676574707,0.5827669501304626,0.5827669501304626,0.6950719356536865,0.6950719356536865,0.6950719356536865,0.768380343914032,0.768380343914032,0.768380343914032,0.5575841665267944,0.5575841665267944,0.7857440114021301,0.7857440114021301,0.7857440114021301,0.7857440114021301,0.5162681937217712,0.5162681937217712,0.7564746141433716,0.7564746141433716,0.5951916575431824,0.5951916575431824,0.5951916575431824,0.7157577872276306,0.520800769329071,0.520800769329071,0.5422042012214661,0.5422042012214661,0.5422042012214661,0.36935552954673767,0.5932245254516602,0.6877387762069702,0.775112509727478,0.775112509727478,0.813254177570343,0.813254177570343,0.813254177570343,0.813254177570343,0.813254177570343,0.817390501499176,0.9234292507171631,0.9234292507171631,0.9234292507171631,0.9102331399917603,0.9102331399917603,0.7257489562034607,0.7257489562034607,0.7257489562034607,0.7720405459403992,0.7720405459403992,0.7720405459403992,0.7720405459403992,0.7720405459403992,0.7720405459403992,0.8368971347808838,0.7334049940109253,0.7334049940109253,0.806351363658905,0.806351363658905,0.806351363658905,0.806351363658905,0.806351363658905,0.5081053972244263,0.6144387722015381,0.9156244397163391,0.9156244397163391,0.9156244397163391,0.9095580577850342,0.6855831146240234,0.6855831146240234,0.6855831146240234,0.8256965279579163,0.8256965279579163,0.8256965279579163,0.8256965279579163,0.8256965279579163,0.8256965279579163,0.668218731880188,0.668218731880188,0.7966301441192627,0.7966301441192627,0.8220670223236084,0.8220670223236084,0.9061928391456604,0.9061928391456604,0.6549168825149536,0.6549168825149536,0.6549168825149536,0.5974754095077515,0.5974754095077515,0.4371798038482666,0.7765262722969055,0.7765262722969055,0.7765262722969055,0.7765262722969055,0.7260501384735107,0.7475009560585022,0.7475009560585022,0.7282692790031433,0.7282692790031433,0.7282692790031433,0.7282692790031433,0.7282692790031433,0.7282692790031433,0.7282692790031433,0.7641572952270508,0.7641572952270508,0.7641572952270508,0.7641572952270508,0.7641572952270508,0.7641572952270508,0.7641572952270508,0.7641572952270508,0.5831132531166077,0.7304487228393555,0.8411117196083069,0.8411117196083069,0.690744161605835,0.690744161605835,0.7374418377876282,0.7374418377876282,0.7374418377876282,0.6201918125152588,0.6840127110481262,0.8576720356941223,0.8787717819213867,0.8127357959747314,0.8127357959747314,0.6841027140617371,0.6298099756240845,0.6298099756240845,0.781525731086731,0.781525731086731,0.781525731086731,0.781525731086731,0.8659356832504272,0.8659356832504272,0.8845571279525757,0.8486775755882263,0.8486775755882263,0.4726755619049072,0.48569196462631226,0.6587600708007812,0.5813974738121033,0.5917671918869019,0.5917671918869019,0.5474329590797424,0.729753851890564,0.729753851890564,0.8959677815437317,0.8959677815437317,0.8959677815437317,0.8959677815437317,0.6597841382026672,0.6597841382026672,0.6597841382026672,0.6417315602302551,0.6417315602302551,0.9271280169487,0.5756837725639343,0.5950597524642944,0.7685447931289673,0.6971921920776367,0.6971921920776367,0.6971921920776367,0.6971921920776367,0.6971921920776367,0.6971921920776367,0.6971921920776367,0.6971921920776367,0.6978298425674438,0.6978298425674438,0.6648434400558472,0.6648434400558472,0.6648434400558472,0.6648434400558472,0.6648434400558472,0.6648434400558472,0.6320517659187317,0.6909213662147522,0.576251208782196,0.8682059049606323,0.7809212803840637,0.7685964703559875,0.7685964703559875,0.7685964703559875,0.8316309452056885,0.8186324834823608,0.8186324834823608,0.8186324834823608,0.8186324834823608,0.8186324834823608,0.6982137560844421,0.6982137560844421,0.6982137560844421,0.6982137560844421,0.9339403510093689,0.9339403510093689,0.7834768891334534,0.7371230721473694,0.7371230721473694,0.7131093144416809,0.6653512120246887,0.6653512120246887,0.6482779383659363,0.5781696438789368,0.5781696438789368,0.5905712246894836,0.6683472394943237,0.7196740508079529,0.7196740508079529,0.7196740508079529,0.7196740508079529,0.7196740508079529,0.7189895510673523,0.7189895510673523,0.7189895510673523,0.7189895510673523,0.7189895510673523,0.7189895510673523,0.566181480884552,0.566181480884552,0.566181480884552,0.6772215962409973,0.6772215962409973,0.7216304540634155,0.7216304540634155,0.7216304540634155,0.7216304540634155,0.7216304540634155,0.7216304540634155,0.7216304540634155,0.7216304540634155,0.7216304540634155,0.7216304540634155,0.6792812943458557,0.6524189710617065,0.7059879899024963,0.7059879899024963,0.7059879899024963,0.6268486380577087,0.698299765586853,0.8052298426628113,0.8052298426628113,0.8052298426628113,0.43034180998802185,0.42036306858062744,0.7323625087738037,0.8283853530883789,0.8283853530883789,0.8283853530883789,0.8283853530883789,0.7577201128005981,0.7577201128005981,0.5811518430709839,0.4706602990627289,0.7613245248794556,0.5738055109977722,0.8370286226272583,0.8370286226272583,0.8370286226272583,0.8370286226272583,0.7348718643188477,0.5971550345420837,0.5971550345420837,0.8331350088119507,0.8331350088119507,0.8331350088119507,0.8331350088119507,0.8331350088119507,0.6310529112815857,0.817836344242096,0.817836344242096,0.817836344242096,0.8700149059295654,0.6364743113517761,0.6433877348899841,0.6433877348899841,0.6433877348899841,0.6433877348899841,0.6433877348899841,0.6433877348899841,0.6433877348899841,0.5738886594772339,0.5738886594772339,0.5738886594772339,0.4831829071044922,0.542158305644989,0.7074682116508484,0.7074682116508484,0.7034903168678284,0.7034903168678284,0.7034903168678284,0.8241854906082153,0.8241854906082153,0.8241854906082153,0.8241854906082153,0.8241854906082153,0.8241854906082153,0.8241854906082153,0.8241854906082153,0.8560522794723511,0.7765104174613953,0.7765104174613953,0.7765104174613953,0.7765104174613953,0.7765104174613953,0.7765104174613953,0.7765104174613953,0.7940306067466736,0.7940306067466736,0.7940306067466736,0.7940306067466736,0.7082467079162598,0.7082467079162598,0.7082467079162598,0.7082467079162598,0.544009268283844,0.544009268283844,0.7689266800880432,0.5787699222564697,0.49861449003219604,0.901309072971344,0.7045203447341919,0.7045203447341919,0.7726233005523682,0.7726233005523682,0.8050935864448547,0.8050935864448547,0.8050935864448547,0.8050935864448547,0.7101755142211914,0.7101755142211914,0.8346474170684814,0.8346474170684814,0.8346474170684814,0.8346474170684814,0.8346474170684814,0.8346474170684814,0.8346474170684814,0.8346474170684814,0.8346474170684814,0.8346474170684814,0.8346474170684814,0.8346474170684814,0.8346474170684814,0.608925461769104,0.7626299262046814,0.7626299262046814,0.7626299262046814,0.7626299262046814,0.6484553217887878,0.6484553217887878,0.6484553217887878,0.6484553217887878,0.6484553217887878,0.6484553217887878,0.4886989891529083,0.4886989891529083,0.623259425163269,0.623259425163269,0.7324827313423157,0.7324827313423157,0.8561071753501892,0.8561071753501892,0.8561071753501892,0.8952152132987976,0.5690698027610779,0.5690698027610779,0.5690698027610779,0.5690698027610779,0.5690698027610779,0.8755388855934143,0.7079464197158813,0.8429623246192932,0.8429623246192932,0.8429623246192932,0.7498796582221985,0.8096557855606079,0.8443259596824646,0.8075792193412781,0.8075792193412781,0.8075792193412781,0.8075792193412781,0.9032242298126221,0.6489729285240173,0.5764384269714355,0.5764384269714355,0.5764384269714355,0.5764384269714355,0.621173620223999,0.621173620223999,0.621173620223999,0.621173620223999,0.7481113076210022,0.7481113076210022,0.7481113076210022,0.7481113076210022,0.7149654626846313,0.7149654626846313,0.7149654626846313,0.6474374532699585,0.6474374532699585,0.6474374532699585,0.7366455793380737,0.7366455793380737,0.7366455793380737,0.7366455793380737,0.7366455793380737,0.8620690107345581,0.695220410823822,0.6106989979743958,0.6106989979743958,0.5867471098899841,0.6170132756233215,0.6170132756233215,0.7556359171867371,0.5104835629463196,0.5104835629463196,0.5570677518844604,0.5570677518844604,0.5696637630462646,0.5696637630462646,0.6488067507743835,0.8748310804367065,0.8748310804367065,0.8748310804367065,0.8748310804367065,0.8748310804367065,0.8748310804367065,0.8748310804367065,0.8748310804367065,0.5198867321014404,0.6565576791763306,0.6565576791763306,0.6565576791763306,0.7049874067306519,0.6253690123558044,0.6013380885124207,0.5274820327758789,0.5555712580680847,0.6163560748100281,0.6163560748100281,0.6011083722114563,0.6011083722114563,0.6011083722114563,0.8370698690414429,0.6240419745445251,0.6240419745445251,0.8264477252960205,0.8264477252960205,0.7708538770675659,0.8083113431930542,0.817426860332489,0.817426860332489,0.817426860332489,0.817426860332489,0.817426860332489,0.817426860332489,0.817426860332489,0.817426860332489,0.817426860332489,0.817426860332489,0.817426860332489,0.817426860332489,0.6932176351547241,0.7363979816436768,0.7363979816436768,0.7363979816436768,0.7363979816436768,0.7363979816436768,0.7363979816436768,0.7695407867431641,0.7695407867431641,0.7695407867431641,0.7695407867431641,0.7423680424690247,0.7423680424690247,0.7423680424690247,0.7423680424690247,0.7423680424690247,0.8688125014305115,0.8688125014305115,0.8688125014305115,0.6184787750244141,0.6804200410842896,0.7885851860046387,0.7885851860046387,0.7885851860046387,0.7885851860046387],\"yaxis\":\"y\",\"type\":\"scatter\"},{\"mode\":\"lines\",\"name\":\"chain3\",\"x\":[0,1,2,3,4,5,6,7,8,9,10,11,12,13,14,15,16,17,18,19,20,21,22,23,24,25,26,27,28,29,30,31,32,33,34,35,36,37,38,39,40,41,42,43,44,45,46,47,48,49,50,51,52,53,54,55,56,57,58,59,60,61,62,63,64,65,66,67,68,69,70,71,72,73,74,75,76,77,78,79,80,81,82,83,84,85,86,87,88,89,90,91,92,93,94,95,96,97,98,99,100,101,102,103,104,105,106,107,108,109,110,111,112,113,114,115,116,117,118,119,120,121,122,123,124,125,126,127,128,129,130,131,132,133,134,135,136,137,138,139,140,141,142,143,144,145,146,147,148,149,150,151,152,153,154,155,156,157,158,159,160,161,162,163,164,165,166,167,168,169,170,171,172,173,174,175,176,177,178,179,180,181,182,183,184,185,186,187,188,189,190,191,192,193,194,195,196,197,198,199,200,201,202,203,204,205,206,207,208,209,210,211,212,213,214,215,216,217,218,219,220,221,222,223,224,225,226,227,228,229,230,231,232,233,234,235,236,237,238,239,240,241,242,243,244,245,246,247,248,249,250,251,252,253,254,255,256,257,258,259,260,261,262,263,264,265,266,267,268,269,270,271,272,273,274,275,276,277,278,279,280,281,282,283,284,285,286,287,288,289,290,291,292,293,294,295,296,297,298,299,300,301,302,303,304,305,306,307,308,309,310,311,312,313,314,315,316,317,318,319,320,321,322,323,324,325,326,327,328,329,330,331,332,333,334,335,336,337,338,339,340,341,342,343,344,345,346,347,348,349,350,351,352,353,354,355,356,357,358,359,360,361,362,363,364,365,366,367,368,369,370,371,372,373,374,375,376,377,378,379,380,381,382,383,384,385,386,387,388,389,390,391,392,393,394,395,396,397,398,399,400,401,402,403,404,405,406,407,408,409,410,411,412,413,414,415,416,417,418,419,420,421,422,423,424,425,426,427,428,429,430,431,432,433,434,435,436,437,438,439,440,441,442,443,444,445,446,447,448,449,450,451,452,453,454,455,456,457,458,459,460,461,462,463,464,465,466,467,468,469,470,471,472,473,474,475,476,477,478,479,480,481,482,483,484,485,486,487,488,489,490,491,492,493,494,495,496,497,498,499,500,501,502,503,504,505,506,507,508,509,510,511,512,513,514,515,516,517,518,519,520,521,522,523,524,525,526,527,528,529,530,531,532,533,534,535,536,537,538,539,540,541,542,543,544,545,546,547,548,549,550,551,552,553,554,555,556,557,558,559,560,561,562,563,564,565,566,567,568,569,570,571,572,573,574,575,576,577,578,579,580,581,582,583,584,585,586,587,588,589,590,591,592,593,594,595,596,597,598,599,600,601,602,603,604,605,606,607,608,609,610,611,612,613,614,615,616,617,618,619,620,621,622,623,624,625,626,627,628,629,630,631,632,633,634,635,636,637,638,639,640,641,642,643,644,645,646,647,648,649,650,651,652,653,654,655,656,657,658,659,660,661,662,663,664,665,666,667,668,669,670,671,672,673,674,675,676,677,678,679,680,681,682,683,684,685,686,687,688,689,690,691,692,693,694,695,696,697,698,699,700,701,702,703,704,705,706,707,708,709,710,711,712,713,714,715,716,717,718,719,720,721,722,723,724,725,726,727,728,729,730,731,732,733,734,735,736,737,738,739,740,741,742,743,744,745,746,747,748,749,750,751,752,753,754,755,756,757,758,759,760,761,762,763,764,765,766,767,768,769,770,771,772,773,774,775,776,777,778,779,780,781,782,783,784,785,786,787,788,789,790,791,792,793,794,795,796,797,798,799,800,801,802,803,804,805,806,807,808,809,810,811,812,813,814,815,816,817,818,819,820,821,822,823,824,825,826,827,828,829,830,831,832,833,834,835,836,837,838,839,840,841,842,843,844,845,846,847,848,849,850,851,852,853,854,855,856,857,858,859,860,861,862,863,864,865,866,867,868,869,870,871,872,873,874,875,876,877,878,879,880,881,882,883,884,885,886,887,888,889,890,891,892,893,894,895,896,897,898,899,900,901,902,903,904,905,906,907,908,909,910,911,912,913,914,915,916,917,918,919,920,921,922,923,924,925,926,927,928,929,930,931,932,933,934,935,936,937,938,939,940,941,942,943,944,945,946,947,948,949,950,951,952,953,954,955,956,957,958,959,960,961,962,963,964,965,966,967,968,969,970,971,972,973,974,975,976,977,978,979,980,981,982,983,984,985,986,987,988,989,990,991,992,993,994,995,996,997,998,999],\"xaxis\":\"x\",\"y\":[0.6676191687583923,0.7407844662666321,0.6948000192642212,0.6948000192642212,0.6948000192642212,0.6948000192642212,0.6948000192642212,0.8474105000495911,0.8474105000495911,0.8474105000495911,0.6843281984329224,0.6843281984329224,0.6843281984329224,0.6843281984329224,0.6843281984329224,0.895730197429657,0.895730197429657,0.7207538485527039,0.7207538485527039,0.7207538485527039,0.8709908127784729,0.7354363203048706,0.6445695757865906,0.7787728905677795,0.8203707337379456,0.8203707337379456,0.8341779112815857,0.8341779112815857,0.6068461537361145,0.6068461537361145,0.6062189936637878,0.6062189936637878,0.6062189936637878,0.6062189936637878,0.926164448261261,0.926164448261261,0.926164448261261,0.6775784492492676,0.6775784492492676,0.7245175838470459,0.7245175838470459,0.672537088394165,0.672537088394165,0.672537088394165,0.672537088394165,0.672537088394165,0.7486139535903931,0.9132388234138489,0.7559982538223267,0.9409615993499756,0.603245735168457,0.603245735168457,0.603245735168457,0.8459216356277466,0.8459216356277466,0.7143438458442688,0.7143438458442688,0.6082964539527893,0.6628974676132202,0.6628974676132202,0.6635756492614746,0.7186327576637268,0.7473878860473633,0.7473878860473633,0.45980241894721985,0.7506998777389526,0.7506998777389526,0.716611921787262,0.6143909096717834,0.8083354830741882,0.7786349058151245,0.7786349058151245,0.7786349058151245,0.7786349058151245,0.7786349058151245,0.7786349058151245,0.7655919790267944,0.9182512760162354,0.9182512760162354,0.9182512760162354,0.7163207530975342,0.8965252041816711,0.8965252041816711,0.8965252041816711,0.8965252041816711,0.8965252041816711,0.8674415946006775,0.6656731963157654,0.6656731963157654,0.6008121967315674,0.6008121967315674,0.6008121967315674,0.6008121967315674,0.6008121967315674,0.7786104679107666,0.7786104679107666,0.7786104679107666,0.7786104679107666,0.7786104679107666,0.7786104679107666,0.7786104679107666,0.8177943229675293,0.8177943229675293,0.7352871298789978,0.7352871298789978,0.7352871298789978,0.7352871298789978,0.7352871298789978,0.7352871298789978,0.8448321223258972,0.8448321223258972,0.8448321223258972,0.6531487107276917,0.7406588792800903,0.7406588792800903,0.7406588792800903,0.7406588792800903,0.7406588792800903,0.7406588792800903,0.7406588792800903,0.7081124782562256,0.7081124782562256,0.7081124782562256,0.7754102349281311,0.7754102349281311,0.7754102349281311,0.6126962900161743,0.6126962900161743,0.6126962900161743,0.6126962900161743,0.6962494850158691,0.5504859685897827,0.5504859685897827,0.5285270810127258,0.8114491105079651,0.8114491105079651,0.6900705099105835,0.6900705099105835,0.5898978114128113,0.6440749764442444,0.6440749764442444,0.6440749764442444,0.8622152805328369,0.8622152805328369,0.8622152805328369,0.8622152805328369,0.8622152805328369,0.8622152805328369,0.8622152805328369,0.8622152805328369,0.8622152805328369,0.8622152805328369,0.8622152805328369,0.8622152805328369,0.6081242561340332,0.4977308213710785,0.4977308213710785,0.6282033920288086,0.6282033920288086,0.6282033920288086,0.7678142786026001,0.7678142786026001,0.7678142786026001,0.7678142786026001,0.7678142786026001,0.7678142786026001,0.7678142786026001,0.7678142786026001,0.7678142786026001,0.7678142786026001,0.7678142786026001,0.7678142786026001,0.6972439289093018,0.6972439289093018,0.6972439289093018,0.7633562684059143,0.7633562684059143,0.7633562684059143,0.7633562684059143,0.7633562684059143,0.7633562684059143,0.7633562684059143,0.7633562684059143,0.7633562684059143,0.5847497582435608,0.688612699508667,0.688612699508667,0.688612699508667,0.6196449398994446,0.43468818068504333,0.7388075590133667,0.7388075590133667,0.8339269161224365,0.8339269161224365,0.8347668051719666,0.8385921716690063,0.7695518732070923,0.7695518732070923,0.7695518732070923,0.7695518732070923,0.65143883228302,0.8867983818054199,0.7145228385925293,0.7145228385925293,0.7080313563346863,0.8976295590400696,0.7379199266433716,0.6132299304008484,0.6132299304008484,0.9153920412063599,0.6194198727607727,0.9227112531661987,0.9227112531661987,0.9227112531661987,0.9227112531661987,0.6549597978591919,0.7918316125869751,0.7918316125869751,0.7918316125869751,0.7918316125869751,0.7918316125869751,0.7918316125869751,0.46721407771110535,0.9084406495094299,0.9084406495094299,0.535580575466156,0.5450370907783508,0.6775086522102356,0.6775086522102356,0.878354549407959,0.878354549407959,0.6848771572113037,0.6848771572113037,0.6402052640914917,0.47465822100639343,0.47465822100639343,0.4644055962562561,0.4644055962562561,0.8991116285324097,0.8991116285324097,0.8991116285324097,0.7006549835205078,0.7006549835205078,0.5704009532928467,0.7008620500564575,0.7008620500564575,0.7008620500564575,0.7008620500564575,0.7197330594062805,0.6137850880622864,0.7394740581512451,0.6870971322059631,0.6870971322059631,0.6870971322059631,0.8470736145973206,0.8470736145973206,0.8470736145973206,0.8470736145973206,0.47157812118530273,0.9286389350891113,0.9286389350891113,0.5668560266494751,0.49244454503059387,0.49244454503059387,0.7415103912353516,0.7345461845397949,0.599937379360199,0.599937379360199,0.599937379360199,0.6844519376754761,0.7317699193954468,0.7317699193954468,0.7317699193954468,0.7317699193954468,0.7317699193954468,0.6526761054992676,0.6526761054992676,0.6526761054992676,0.8019853234291077,0.8019853234291077,0.8019853234291077,0.8019853234291077,0.8019853234291077,0.8019853234291077,0.8019853234291077,0.7421726584434509,0.7421726584434509,0.7421726584434509,0.93192058801651,0.4807375967502594,0.454038143157959,0.7159006595611572,0.7159006595611572,0.7159006595611572,0.7159006595611572,0.6035606861114502,0.6035606861114502,0.6035606861114502,0.8928830623626709,0.6898791193962097,0.6898791193962097,0.6898791193962097,0.6487007141113281,0.822636604309082,0.822636604309082,0.822636604309082,0.8642389178276062,0.8776106834411621,0.8776106834411621,0.8776106834411621,0.48065298795700073,0.48065298795700073,0.595531702041626,0.9228348135948181,0.5550180077552795,0.7398964762687683,0.7398964762687683,0.7398964762687683,0.7398964762687683,0.7398964762687683,0.5150333642959595,0.5150333642959595,0.6223961710929871,0.6223961710929871,0.6223961710929871,0.6223961710929871,0.6223961710929871,0.5972554087638855,0.5972554087638855,0.5972554087638855,0.7698312401771545,0.7698312401771545,0.8252465128898621,0.8252465128898621,0.5907166600227356,0.7181412577629089,0.7181412577629089,0.7235265970230103,0.7235265970230103,0.7235265970230103,0.7235265970230103,0.7235265970230103,0.7235265970230103,0.7235265970230103,0.7235265970230103,0.7235265970230103,0.7235265970230103,0.7235265970230103,0.7235265970230103,0.7235265970230103,0.7235265970230103,0.7235265970230103,0.7235265970230103,0.7235265970230103,0.7235265970230103,0.7235265970230103,0.7235265970230103,0.6911574006080627,0.6911574006080627,0.6911574006080627,0.6911574006080627,0.8079251050949097,0.8079251050949097,0.8079251050949097,0.8079251050949097,0.8278551697731018,0.8278551697731018,0.8278551697731018,0.8278551697731018,0.8278551697731018,0.8278551697731018,0.8278551697731018,0.8278551697731018,0.8278551697731018,0.8503275513648987,0.7292921543121338,0.8305124640464783,0.8305124640464783,0.8305124640464783,0.8305124640464783,0.8305124640464783,0.8305124640464783,0.8305124640464783,0.8305124640464783,0.8305124640464783,0.8305124640464783,0.8305124640464783,0.8305124640464783,0.8305124640464783,0.39850789308547974,0.39850789308547974,0.39850789308547974,0.5266210436820984,0.5266210436820984,0.5266210436820984,0.5999865531921387,0.5999865531921387,0.6412380933761597,0.6412380933761597,0.6412380933761597,0.6412380933761597,0.6412380933761597,0.6412380933761597,0.8837167024612427,0.7495655417442322,0.7495655417442322,0.7495655417442322,0.3812526762485504,0.43314823508262634,0.8105167150497437,0.8105167150497437,0.8105167150497437,0.6252523064613342,0.6911439299583435,0.6911439299583435,0.8211982846260071,0.8211982846260071,0.8211982846260071,0.8211982846260071,0.8211982846260071,0.8211982846260071,0.8211982846260071,0.8211982846260071,0.7633108496665955,0.5697868466377258,0.5697868466377258,0.5697868466377258,0.5697868466377258,0.5697868466377258,0.5697868466377258,0.4823249578475952,0.8019983768463135,0.9512596130371094,0.8881189227104187,0.8881189227104187,0.8881189227104187,0.8881189227104187,0.8881189227104187,0.8881189227104187,0.8881189227104187,0.8881189227104187,0.8881189227104187,0.8881189227104187,0.8881189227104187,0.8881189227104187,0.6858149766921997,0.6858149766921997,0.7083169221878052,0.7083169221878052,0.8165748119354248,0.8165748119354248,0.8165748119354248,0.8165748119354248,0.8165748119354248,0.8165748119354248,0.8291897177696228,0.8291897177696228,0.8291897177696228,0.7146050333976746,0.7146050333976746,0.7146050333976746,0.8268510103225708,0.6917906999588013,0.6917906999588013,0.6917906999588013,0.6917906999588013,0.7927128672599792,0.7927128672599792,0.7927128672599792,0.7077239155769348,0.71283358335495,0.7258626222610474,0.7258626222610474,0.7176125645637512,0.6892613768577576,0.6892613768577576,0.6295105814933777,0.6295105814933777,0.4502641558647156,0.4502641558647156,0.7659534215927124,0.7659534215927124,0.7362210154533386,0.5570674538612366,0.49379056692123413,0.49379056692123413,0.6066517233848572,0.6066517233848572,0.6066517233848572,0.6066517233848572,0.6066517233848572,0.4446152150630951,0.4172578752040863,0.4172578752040863,0.4172578752040863,0.3191351890563965,0.3191351890563965,0.5735975503921509,0.5367966294288635,0.511132001876831,0.7229784727096558,0.7229784727096558,0.7229784727096558,0.7229784727096558,0.7229784727096558,0.7229784727096558,0.7229784727096558,0.8736147880554199,0.8457555770874023,0.6121850609779358,0.6121850609779358,0.6121850609779358,0.6121850609779358,0.6121850609779358,0.6121850609779358,0.6121850609779358,0.6121850609779358,0.5491709113121033,0.5491709113121033,0.5491709113121033,0.5491709113121033,0.5491709113121033,0.5491709113121033,0.8395717740058899,0.5451622605323792,0.5451622605323792,0.5451622605323792,0.816122829914093,0.816122829914093,0.816122829914093,0.816122829914093,0.6823837161064148,0.8145305514335632,0.8145305514335632,0.5496681928634644,0.4496135413646698,0.5689651966094971,0.5689651966094971,0.5689651966094971,0.6474308371543884,0.6867347359657288,0.6867347359657288,0.6867347359657288,0.504940390586853,0.504940390586853,0.504940390586853,0.7372286319732666,0.7372286319732666,0.7372286319732666,0.578423261642456,0.578423261642456,0.803861677646637,0.803861677646637,0.803861677646637,0.803861677646637,0.688429057598114,0.688429057598114,0.688429057598114,0.688429057598114,0.4225405156612396,0.7063781023025513,0.7063781023025513,0.7063781023025513,0.7063781023025513,0.7063781023025513,0.7086633443832397,0.7454646825790405,0.7454646825790405,0.7454646825790405,0.6274257898330688,0.6274257898330688,0.6274257898330688,0.6274257898330688,0.6409640312194824,0.6409640312194824,0.5624655485153198,0.7809635400772095,0.7809635400772095,0.7809635400772095,0.7809635400772095,0.7231517434120178,0.7231517434120178,0.7231517434120178,0.7231517434120178,0.6232803463935852,0.7789456248283386,0.7645221948623657,0.7645221948623657,0.7645221948623657,0.7645221948623657,0.7645221948623657,0.43990185856819153,0.9233732223510742,0.9233732223510742,0.505648672580719,0.505648672580719,0.6608428359031677,0.49251747131347656,0.9001384377479553,0.9001384377479553,0.9001384377479553,0.9001384377479553,0.8595660924911499,0.6850532293319702,0.6921306252479553,0.6921306252479553,0.6921306252479553,0.7652250528335571,0.7652250528335571,0.7652250528335571,0.7652250528335571,0.7652250528335571,0.7652250528335571,0.7244499325752258,0.7244499325752258,0.7244499325752258,0.7244499325752258,0.7244499325752258,0.7244499325752258,0.7244499325752258,0.8910526633262634,0.8910526633262634,0.8910526633262634,0.8910526633262634,0.6363105773925781,0.6363105773925781,0.6363105773925781,0.6363105773925781,0.7135518789291382,0.6555355787277222,0.6555355787277222,0.6500461101531982,0.6500461101531982,0.8738344311714172,0.8738344311714172,0.8738344311714172,0.8738344311714172,0.8738344311714172,0.8738344311714172,0.8738344311714172,0.8738344311714172,0.8738344311714172,0.8738344311714172,0.70451819896698,0.6525381803512573,0.6525381803512573,0.6525381803512573,0.6343233585357666,0.4356066584587097,0.40254828333854675,0.5427804589271545,0.7145379781723022,0.7145379781723022,0.7987522482872009,0.7987522482872009,0.8209252953529358,0.5130901336669922,0.5130901336669922,0.5130901336669922,0.5130901336669922,0.6205501556396484,0.6205501556396484,0.6205501556396484,0.6205501556396484,0.6205501556396484,0.9148852825164795,0.8467484712600708,0.8467484712600708,0.8467484712600708,0.8467484712600708,0.8467484712600708,0.8467484712600708,0.8467484712600708,0.8467484712600708,0.8467484712600708,0.8467484712600708,0.8467484712600708,0.8467484712600708,0.7278791666030884,0.6808860898017883,0.6808860898017883,0.6808860898017883,0.6808860898017883,0.6808860898017883,0.6808860898017883,0.6808860898017883,0.6808860898017883,0.7825819849967957,0.7825819849967957,0.7825819849967957,0.7825819849967957,0.7825819849967957,0.7825819849967957,0.7825819849967957,0.7825819849967957,0.7825819849967957,0.7825819849967957,0.7825819849967957,0.7825819849967957,0.7825819849967957,0.7825819849967957,0.7825819849967957,0.7825819849967957,0.7825819849967957,0.7825819849967957,0.7825819849967957,0.7825819849967957,0.8784584403038025,0.6323419213294983,0.6323419213294983,0.8271543979644775,0.8271543979644775,0.8271543979644775,0.7912929058074951,0.7912929058074951,0.7912929058074951,0.7912929058074951,0.7912929058074951,0.7912929058074951,0.7912929058074951,0.7912929058074951,0.9216884970664978,0.5960243344306946,0.5960243344306946,0.5960243344306946,0.5960243344306946,0.5960243344306946,0.5293405055999756,0.859607994556427,0.859607994556427,0.859607994556427,0.859607994556427,0.859607994556427,0.7742348313331604,0.5349446535110474,0.5220493674278259,0.8143101334571838,0.8143101334571838,0.8143101334571838,0.8143101334571838,0.8143101334571838,0.8143101334571838,0.8143101334571838,0.8911626935005188,0.8911626935005188,0.8911626935005188,0.7887630462646484,0.7887630462646484,0.7559183239936829,0.7874855399131775,0.7874855399131775,0.7874855399131775,0.7874855399131775,0.7874855399131775,0.7989851236343384,0.7989851236343384,0.6182357668876648,0.6182357668876648,0.6182357668876648,0.6744074821472168,0.6744074821472168,0.6744074821472168,0.6744074821472168,0.6744074821472168,0.6744074821472168,0.6744074821472168,0.6744074821472168,0.6744074821472168,0.6744074821472168,0.6744074821472168,0.6744074821472168,0.6403241157531738,0.6403241157531738,0.7771770358085632,0.7771770358085632,0.7539044618606567,0.7539044618606567,0.8266270160675049,0.7184041738510132,0.7184041738510132,0.7184041738510132,0.6271920204162598,0.6271920204162598,0.6173914670944214,0.6173914670944214,0.6173914670944214,0.6173914670944214,0.7872930765151978,0.7872930765151978,0.7947201132774353,0.7947201132774353,0.7947201132774353,0.5427539944648743,0.5427539944648743,0.5427539944648743,0.5427539944648743,0.5427539944648743,0.5427539944648743,0.5636627078056335,0.635419487953186,0.635419487953186,0.635419487953186,0.635419487953186,0.635419487953186,0.4338494837284088,0.4338494837284088,0.43459352850914,0.43459352850914,0.4499252736568451,0.4499252736568451,0.4499252736568451,0.6751655340194702,0.736455500125885,0.736455500125885,0.6228684186935425,0.5919974446296692,0.5919974446296692,0.6517825722694397,0.7875165343284607,0.5999719500541687,0.6372658610343933,0.6372658610343933,0.6372658610343933,0.7313818335533142,0.8425359129905701,0.8821783661842346,0.8821783661842346,0.8821783661842346,0.7955061793327332,0.8066253662109375,0.8066253662109375,0.8308549523353577,0.8308549523353577,0.5893807411193848,0.7402651309967041,0.7402651309967041,0.7402651309967041,0.7402651309967041,0.7211496829986572,0.7211496829986572,0.7211496829986572,0.7211496829986572,0.7211496829986572,0.7211496829986572,0.8037105798721313,0.4899680018424988,0.6361799836158752,0.8817086219787598,0.8817086219787598,0.6486386060714722,0.8673369884490967,0.7704479694366455,0.7704479694366455,0.7704479694366455,0.7704479694366455,0.7704479694366455,0.64986252784729,0.6015052199363708,0.636651337146759,0.7055200338363647,0.662890613079071,0.662890613079071,0.662890613079071,0.7563775777816772,0.7563775777816772,0.7563775777816772,0.7563775777816772,0.7563775777816772,0.6136206388473511,0.6136206388473511,0.6849355101585388,0.6849355101585388,0.6849355101585388,0.6849355101585388,0.8973582983016968,0.8841007351875305,0.8841007351875305,0.7314698100090027,0.7314698100090027,0.7314698100090027,0.7314698100090027,0.6060291528701782,0.6837974786758423,0.7970813512802124,0.7970813512802124,0.7970813512802124,0.587822437286377,0.587822437286377,0.587822437286377,0.587822437286377,0.587822437286377,0.587822437286377,0.8416638374328613,0.8416638374328613,0.6144735813140869,0.5719200372695923,0.7781960368156433,0.7781960368156433,0.56321781873703,0.5824726223945618,0.640215277671814,0.6099776029586792,0.5855514407157898,0.5855514407157898,0.5168173313140869,0.5168173313140869,0.6656975150108337,0.6656975150108337,0.6696251630783081,0.6696251630783081,0.5880373120307922,0.5880373120307922,0.5880373120307922,0.6089279055595398,0.5911952257156372,0.858022153377533,0.858022153377533,0.858022153377533,0.858022153377533,0.7866995334625244,0.7866995334625244,0.7866995334625244,0.7866995334625244,0.7127593755722046,0.7127593755722046,0.7127593755722046,0.7127593755722046,0.6357157230377197,0.5784595608711243,0.7937314510345459,0.7937314510345459,0.7937314510345459,0.7937314510345459,0.772409975528717,0.5943983197212219,0.5943983197212219,0.5943983197212219,0.6689760088920593,0.6689760088920593,0.6689760088920593,0.9028704166412354,0.9028704166412354,0.9028704166412354,0.8281428813934326,0.8281428813934326,0.8281428813934326,0.8281428813934326,0.8281428813934326,0.8281428813934326,0.8281428813934326,0.8281428813934326,0.672072172164917,0.672072172164917,0.672072172164917,0.7437065243721008,0.7437065243721008,0.7437065243721008,0.7437065243721008,0.7437065243721008,0.7437065243721008,0.7437065243721008,0.7437065243721008,0.6702327728271484,0.6702327728271484,0.6702327728271484,0.8577474355697632,0.8577474355697632,0.8577474355697632,0.8577474355697632,0.7699735760688782,0.568806529045105,0.568806529045105,0.6874655485153198,0.6874655485153198,0.6874655485153198,0.777047336101532,0.777047336101532,0.777047336101532,0.6479060649871826,0.6479060649871826,0.5769653916358948,0.5769653916358948,0.4732009172439575,0.4732009172439575,0.4732009172439575,0.5788894891738892,0.5903787612915039,0.5903787612915039,0.5903787612915039,0.719199538230896,0.719199538230896,0.719199538230896,0.6577162146568298,0.6577162146568298,0.6577162146568298,0.6577162146568298,0.7648160457611084,0.7648160457611084,0.7648160457611084,0.7648160457611084],\"yaxis\":\"y\",\"type\":\"scatter\"}],                        {\"annotations\":[{\"font\":{\"size\":16},\"showarrow\":false,\"text\":\"theta() trace for []\",\"x\":0.225,\"xanchor\":\"center\",\"xref\":\"paper\",\"y\":1.0,\"yanchor\":\"bottom\",\"yref\":\"paper\"}],\"template\":{\"data\":{\"barpolar\":[{\"marker\":{\"line\":{\"color\":\"#E5ECF6\",\"width\":0.5},\"pattern\":{\"fillmode\":\"overlay\",\"size\":10,\"solidity\":0.2}},\"type\":\"barpolar\"}],\"bar\":[{\"error_x\":{\"color\":\"#2a3f5f\"},\"error_y\":{\"color\":\"#2a3f5f\"},\"marker\":{\"line\":{\"color\":\"#E5ECF6\",\"width\":0.5},\"pattern\":{\"fillmode\":\"overlay\",\"size\":10,\"solidity\":0.2}},\"type\":\"bar\"}],\"carpet\":[{\"aaxis\":{\"endlinecolor\":\"#2a3f5f\",\"gridcolor\":\"white\",\"linecolor\":\"white\",\"minorgridcolor\":\"white\",\"startlinecolor\":\"#2a3f5f\"},\"baxis\":{\"endlinecolor\":\"#2a3f5f\",\"gridcolor\":\"white\",\"linecolor\":\"white\",\"minorgridcolor\":\"white\",\"startlinecolor\":\"#2a3f5f\"},\"type\":\"carpet\"}],\"choropleth\":[{\"colorbar\":{\"outlinewidth\":0,\"ticks\":\"\"},\"type\":\"choropleth\"}],\"contourcarpet\":[{\"colorbar\":{\"outlinewidth\":0,\"ticks\":\"\"},\"type\":\"contourcarpet\"}],\"contour\":[{\"colorbar\":{\"outlinewidth\":0,\"ticks\":\"\"},\"colorscale\":[[0.0,\"#0d0887\"],[0.1111111111111111,\"#46039f\"],[0.2222222222222222,\"#7201a8\"],[0.3333333333333333,\"#9c179e\"],[0.4444444444444444,\"#bd3786\"],[0.5555555555555556,\"#d8576b\"],[0.6666666666666666,\"#ed7953\"],[0.7777777777777778,\"#fb9f3a\"],[0.8888888888888888,\"#fdca26\"],[1.0,\"#f0f921\"]],\"type\":\"contour\"}],\"heatmapgl\":[{\"colorbar\":{\"outlinewidth\":0,\"ticks\":\"\"},\"colorscale\":[[0.0,\"#0d0887\"],[0.1111111111111111,\"#46039f\"],[0.2222222222222222,\"#7201a8\"],[0.3333333333333333,\"#9c179e\"],[0.4444444444444444,\"#bd3786\"],[0.5555555555555556,\"#d8576b\"],[0.6666666666666666,\"#ed7953\"],[0.7777777777777778,\"#fb9f3a\"],[0.8888888888888888,\"#fdca26\"],[1.0,\"#f0f921\"]],\"type\":\"heatmapgl\"}],\"heatmap\":[{\"colorbar\":{\"outlinewidth\":0,\"ticks\":\"\"},\"colorscale\":[[0.0,\"#0d0887\"],[0.1111111111111111,\"#46039f\"],[0.2222222222222222,\"#7201a8\"],[0.3333333333333333,\"#9c179e\"],[0.4444444444444444,\"#bd3786\"],[0.5555555555555556,\"#d8576b\"],[0.6666666666666666,\"#ed7953\"],[0.7777777777777778,\"#fb9f3a\"],[0.8888888888888888,\"#fdca26\"],[1.0,\"#f0f921\"]],\"type\":\"heatmap\"}],\"histogram2dcontour\":[{\"colorbar\":{\"outlinewidth\":0,\"ticks\":\"\"},\"colorscale\":[[0.0,\"#0d0887\"],[0.1111111111111111,\"#46039f\"],[0.2222222222222222,\"#7201a8\"],[0.3333333333333333,\"#9c179e\"],[0.4444444444444444,\"#bd3786\"],[0.5555555555555556,\"#d8576b\"],[0.6666666666666666,\"#ed7953\"],[0.7777777777777778,\"#fb9f3a\"],[0.8888888888888888,\"#fdca26\"],[1.0,\"#f0f921\"]],\"type\":\"histogram2dcontour\"}],\"histogram2d\":[{\"colorbar\":{\"outlinewidth\":0,\"ticks\":\"\"},\"colorscale\":[[0.0,\"#0d0887\"],[0.1111111111111111,\"#46039f\"],[0.2222222222222222,\"#7201a8\"],[0.3333333333333333,\"#9c179e\"],[0.4444444444444444,\"#bd3786\"],[0.5555555555555556,\"#d8576b\"],[0.6666666666666666,\"#ed7953\"],[0.7777777777777778,\"#fb9f3a\"],[0.8888888888888888,\"#fdca26\"],[1.0,\"#f0f921\"]],\"type\":\"histogram2d\"}],\"histogram\":[{\"marker\":{\"pattern\":{\"fillmode\":\"overlay\",\"size\":10,\"solidity\":0.2}},\"type\":\"histogram\"}],\"mesh3d\":[{\"colorbar\":{\"outlinewidth\":0,\"ticks\":\"\"},\"type\":\"mesh3d\"}],\"parcoords\":[{\"line\":{\"colorbar\":{\"outlinewidth\":0,\"ticks\":\"\"}},\"type\":\"parcoords\"}],\"pie\":[{\"automargin\":true,\"type\":\"pie\"}],\"scatter3d\":[{\"line\":{\"colorbar\":{\"outlinewidth\":0,\"ticks\":\"\"}},\"marker\":{\"colorbar\":{\"outlinewidth\":0,\"ticks\":\"\"}},\"type\":\"scatter3d\"}],\"scattercarpet\":[{\"marker\":{\"colorbar\":{\"outlinewidth\":0,\"ticks\":\"\"}},\"type\":\"scattercarpet\"}],\"scattergeo\":[{\"marker\":{\"colorbar\":{\"outlinewidth\":0,\"ticks\":\"\"}},\"type\":\"scattergeo\"}],\"scattergl\":[{\"marker\":{\"colorbar\":{\"outlinewidth\":0,\"ticks\":\"\"}},\"type\":\"scattergl\"}],\"scattermapbox\":[{\"marker\":{\"colorbar\":{\"outlinewidth\":0,\"ticks\":\"\"}},\"type\":\"scattermapbox\"}],\"scatterpolargl\":[{\"marker\":{\"colorbar\":{\"outlinewidth\":0,\"ticks\":\"\"}},\"type\":\"scatterpolargl\"}],\"scatterpolar\":[{\"marker\":{\"colorbar\":{\"outlinewidth\":0,\"ticks\":\"\"}},\"type\":\"scatterpolar\"}],\"scatter\":[{\"marker\":{\"colorbar\":{\"outlinewidth\":0,\"ticks\":\"\"}},\"type\":\"scatter\"}],\"scatterternary\":[{\"marker\":{\"colorbar\":{\"outlinewidth\":0,\"ticks\":\"\"}},\"type\":\"scatterternary\"}],\"surface\":[{\"colorbar\":{\"outlinewidth\":0,\"ticks\":\"\"},\"colorscale\":[[0.0,\"#0d0887\"],[0.1111111111111111,\"#46039f\"],[0.2222222222222222,\"#7201a8\"],[0.3333333333333333,\"#9c179e\"],[0.4444444444444444,\"#bd3786\"],[0.5555555555555556,\"#d8576b\"],[0.6666666666666666,\"#ed7953\"],[0.7777777777777778,\"#fb9f3a\"],[0.8888888888888888,\"#fdca26\"],[1.0,\"#f0f921\"]],\"type\":\"surface\"}],\"table\":[{\"cells\":{\"fill\":{\"color\":\"#EBF0F8\"},\"line\":{\"color\":\"white\"}},\"header\":{\"fill\":{\"color\":\"#C8D4E3\"},\"line\":{\"color\":\"white\"}},\"type\":\"table\"}]},\"layout\":{\"annotationdefaults\":{\"arrowcolor\":\"#2a3f5f\",\"arrowhead\":0,\"arrowwidth\":1},\"autotypenumbers\":\"strict\",\"coloraxis\":{\"colorbar\":{\"outlinewidth\":0,\"ticks\":\"\"}},\"colorscale\":{\"diverging\":[[0,\"#8e0152\"],[0.1,\"#c51b7d\"],[0.2,\"#de77ae\"],[0.3,\"#f1b6da\"],[0.4,\"#fde0ef\"],[0.5,\"#f7f7f7\"],[0.6,\"#e6f5d0\"],[0.7,\"#b8e186\"],[0.8,\"#7fbc41\"],[0.9,\"#4d9221\"],[1,\"#276419\"]],\"sequential\":[[0.0,\"#0d0887\"],[0.1111111111111111,\"#46039f\"],[0.2222222222222222,\"#7201a8\"],[0.3333333333333333,\"#9c179e\"],[0.4444444444444444,\"#bd3786\"],[0.5555555555555556,\"#d8576b\"],[0.6666666666666666,\"#ed7953\"],[0.7777777777777778,\"#fb9f3a\"],[0.8888888888888888,\"#fdca26\"],[1.0,\"#f0f921\"]],\"sequentialminus\":[[0.0,\"#0d0887\"],[0.1111111111111111,\"#46039f\"],[0.2222222222222222,\"#7201a8\"],[0.3333333333333333,\"#9c179e\"],[0.4444444444444444,\"#bd3786\"],[0.5555555555555556,\"#d8576b\"],[0.6666666666666666,\"#ed7953\"],[0.7777777777777778,\"#fb9f3a\"],[0.8888888888888888,\"#fdca26\"],[1.0,\"#f0f921\"]]},\"colorway\":[\"#636efa\",\"#EF553B\",\"#00cc96\",\"#ab63fa\",\"#FFA15A\",\"#19d3f3\",\"#FF6692\",\"#B6E880\",\"#FF97FF\",\"#FECB52\"],\"font\":{\"color\":\"#2a3f5f\"},\"geo\":{\"bgcolor\":\"white\",\"lakecolor\":\"white\",\"landcolor\":\"#E5ECF6\",\"showlakes\":true,\"showland\":true,\"subunitcolor\":\"white\"},\"hoverlabel\":{\"align\":\"left\"},\"hovermode\":\"closest\",\"mapbox\":{\"style\":\"light\"},\"paper_bgcolor\":\"white\",\"plot_bgcolor\":\"#E5ECF6\",\"polar\":{\"angularaxis\":{\"gridcolor\":\"white\",\"linecolor\":\"white\",\"ticks\":\"\"},\"bgcolor\":\"#E5ECF6\",\"radialaxis\":{\"gridcolor\":\"white\",\"linecolor\":\"white\",\"ticks\":\"\"}},\"scene\":{\"xaxis\":{\"backgroundcolor\":\"#E5ECF6\",\"gridcolor\":\"white\",\"gridwidth\":2,\"linecolor\":\"white\",\"showbackground\":true,\"ticks\":\"\",\"zerolinecolor\":\"white\"},\"yaxis\":{\"backgroundcolor\":\"#E5ECF6\",\"gridcolor\":\"white\",\"gridwidth\":2,\"linecolor\":\"white\",\"showbackground\":true,\"ticks\":\"\",\"zerolinecolor\":\"white\"},\"zaxis\":{\"backgroundcolor\":\"#E5ECF6\",\"gridcolor\":\"white\",\"gridwidth\":2,\"linecolor\":\"white\",\"showbackground\":true,\"ticks\":\"\",\"zerolinecolor\":\"white\"}},\"shapedefaults\":{\"line\":{\"color\":\"#2a3f5f\"}},\"ternary\":{\"aaxis\":{\"gridcolor\":\"white\",\"linecolor\":\"white\",\"ticks\":\"\"},\"baxis\":{\"gridcolor\":\"white\",\"linecolor\":\"white\",\"ticks\":\"\"},\"bgcolor\":\"#E5ECF6\",\"caxis\":{\"gridcolor\":\"white\",\"linecolor\":\"white\",\"ticks\":\"\"}},\"title\":{\"x\":0.05},\"xaxis\":{\"automargin\":true,\"gridcolor\":\"white\",\"linecolor\":\"white\",\"ticks\":\"\",\"title\":{\"standoff\":15},\"zerolinecolor\":\"white\",\"zerolinewidth\":2},\"yaxis\":{\"automargin\":true,\"gridcolor\":\"white\",\"linecolor\":\"white\",\"ticks\":\"\",\"title\":{\"standoff\":15},\"zerolinecolor\":\"white\",\"zerolinewidth\":2}}},\"xaxis\":{\"anchor\":\"y\",\"domain\":[0.0,0.45]},\"yaxis\":{\"anchor\":\"x\",\"domain\":[0.0,1.0]},\"xaxis2\":{\"anchor\":\"y2\",\"domain\":[0.55,1.0]},\"yaxis2\":{\"anchor\":\"x2\",\"domain\":[0.0,1.0]}},                        {\"responsive\": true}                    ).then(function(){\n",
              "                            \n",
              "var gd = document.getElementById('74dffc1b-8ddb-45ee-93f8-286b7a8494ab');\n",
              "var x = new MutationObserver(function (mutations, observer) {{\n",
              "        var display = window.getComputedStyle(gd).display;\n",
              "        if (!display || display === 'none') {{\n",
              "            console.log([gd, 'removed!']);\n",
              "            Plotly.purge(gd);\n",
              "            observer.disconnect();\n",
              "        }}\n",
              "}});\n",
              "\n",
              "// Listen for the removal of the full notebook cells\n",
              "var notebookContainer = gd.closest('#notebook-container');\n",
              "if (notebookContainer) {{\n",
              "    x.observe(notebookContainer, {childList: true});\n",
              "}}\n",
              "\n",
              "// Listen for the clearing of the current output cell\n",
              "var outputEl = gd.closest('.output');\n",
              "if (outputEl) {{\n",
              "    x.observe(outputEl, {childList: true});\n",
              "}}\n",
              "\n",
              "                        })                };                            </script>        </div>\n",
              "</body>\n",
              "</html>"
            ]
          },
          "metadata": {}
        },
        {
          "output_type": "display_data",
          "data": {
            "text/html": [
              "<html>\n",
              "<head><meta charset=\"utf-8\" /></head>\n",
              "<body>\n",
              "    <div>            <script src=\"https://cdnjs.cloudflare.com/ajax/libs/mathjax/2.7.5/MathJax.js?config=TeX-AMS-MML_SVG\"></script><script type=\"text/javascript\">if (window.MathJax) {MathJax.Hub.Config({SVG: {font: \"STIX-Web\"}});}</script>                <script type=\"text/javascript\">window.PlotlyConfig = {MathJaxConfig: 'local'};</script>\n",
              "        <script src=\"https://cdn.plot.ly/plotly-2.8.3.min.js\"></script>                <div id=\"f459f324-40f7-4583-8294-4cec3c7935dc\" class=\"plotly-graph-div\" style=\"height:525px; width:100%;\"></div>            <script type=\"text/javascript\">                                    window.PLOTLYENV=window.PLOTLYENV || {};                                    if (document.getElementById(\"f459f324-40f7-4583-8294-4cec3c7935dc\")) {                    Plotly.newPlot(                        \"f459f324-40f7-4583-8294-4cec3c7935dc\",                        [{\"mode\":\"lines\",\"name\":\"chain0\",\"x\":[0,1,2,3,4,5,6,7,8,9,10,11,12,13,14,15,16,17,18,19,20,21,22,23,24,25,26,27,28,29,30,31,32,33,34,35,36,37,38,39,40,41,42,43,44,45,46,47,48,49,50,51,52,53,54,55,56,57,58,59,60,61,62,63,64,65,66,67,68,69,70,71,72,73,74,75,76,77,78,79,80,81,82,83,84,85,86,87,88,89,90,91,92,93,94,95,96,97,98,99,100,101,102,103,104,105,106,107,108,109,110,111,112,113,114,115,116,117,118,119,120,121,122,123,124,125,126,127,128,129,130,131,132,133,134,135,136,137,138,139,140,141,142,143,144,145,146,147,148,149,150,151,152,153,154,155,156,157,158,159,160,161,162,163,164,165,166,167,168,169,170,171,172,173,174,175,176,177,178,179,180,181,182,183,184,185,186,187,188,189,190,191,192,193,194,195,196,197,198,199,200,201,202,203,204,205,206,207,208,209,210,211,212,213,214,215,216,217,218,219,220,221,222,223,224,225,226,227,228,229,230,231,232,233,234,235,236,237,238,239,240,241,242,243,244,245,246,247,248,249,250,251,252,253,254,255,256,257,258,259,260,261,262,263,264,265,266,267,268,269,270,271,272,273,274,275,276,277,278,279,280,281,282,283,284,285,286,287,288,289,290,291,292,293,294,295,296,297,298,299,300,301,302,303,304,305,306,307,308,309,310,311,312,313,314,315,316,317,318,319,320,321,322,323,324,325,326,327,328,329,330,331,332,333,334,335,336,337,338,339,340,341,342,343,344,345,346,347,348,349,350,351,352,353,354,355,356,357,358,359,360,361,362,363,364,365,366,367,368,369,370,371,372,373,374,375,376,377,378,379,380,381,382,383,384,385,386,387,388,389,390,391,392,393,394,395,396,397,398,399,400,401,402,403,404,405,406,407,408,409,410,411,412,413,414,415,416,417,418,419,420,421,422,423,424,425,426,427,428,429,430,431,432,433,434,435,436,437,438,439,440,441,442,443,444,445,446,447,448,449,450,451,452,453,454,455,456,457,458,459,460,461,462,463,464,465,466,467,468,469,470,471,472,473,474,475,476,477,478,479,480,481,482,483,484,485,486,487,488,489,490,491,492,493,494,495,496,497,498,499,500,501,502,503,504,505,506,507,508,509,510,511,512,513,514,515,516,517,518,519,520,521,522,523,524,525,526,527,528,529,530,531,532,533,534,535,536,537,538,539,540,541,542,543,544,545,546,547,548,549,550,551,552,553,554,555,556,557,558,559,560,561,562,563,564,565,566,567,568,569,570,571,572,573,574,575,576,577,578,579,580,581,582,583,584,585,586,587,588,589,590,591,592,593,594,595,596,597,598,599,600,601,602,603,604,605,606,607,608,609,610,611,612,613,614,615,616,617,618,619,620,621,622,623,624,625,626,627,628,629,630,631,632,633,634,635,636,637,638,639,640,641,642,643,644,645,646,647,648,649,650,651,652,653,654,655,656,657,658,659,660,661,662,663,664,665,666,667,668,669,670,671,672,673,674,675,676,677,678,679,680,681,682,683,684,685,686,687,688,689,690,691,692,693,694,695,696,697,698,699,700,701,702,703,704,705,706,707,708,709,710,711,712,713,714,715,716,717,718,719,720,721,722,723,724,725,726,727,728,729,730,731,732,733,734,735,736,737,738,739,740,741,742,743,744,745,746,747,748,749,750,751,752,753,754,755,756,757,758,759,760,761,762,763,764,765,766,767,768,769,770,771,772,773,774,775,776,777,778,779,780,781,782,783,784,785,786,787,788,789,790,791,792,793,794,795,796,797,798,799,800,801,802,803,804,805,806,807,808,809,810,811,812,813,814,815,816,817,818,819,820,821,822,823,824,825,826,827,828,829,830,831,832,833,834,835,836,837,838,839,840,841,842,843,844,845,846,847,848,849,850,851,852,853,854,855,856,857,858,859,860,861,862,863,864,865,866,867,868,869,870,871,872,873,874,875,876,877,878,879,880,881,882,883,884,885,886,887,888,889,890,891,892,893,894,895,896,897,898,899,900,901,902,903,904,905,906,907,908,909,910,911,912,913,914,915,916,917,918,919,920,921,922,923,924,925,926,927,928,929,930,931,932,933,934,935,936,937,938,939,940,941,942,943,944,945,946,947,948,949,950,951,952,953,954,955,956,957,958,959,960,961,962,963,964,965,966,967,968,969,970,971,972,973,974,975,976,977,978,979,980,981,982,983,984,985,986,987,988,989,990,991,992,993,994,995,996,997,998,999],\"xaxis\":\"x\",\"y\":[0.9989998936653137,0.5967559218406677,0.363095223903656,0.21476653218269348,0.09931794553995132,0.013927563093602657,-0.024375684559345245,-0.008083484135568142,-0.008188595063984394,-0.0030111027881503105,-0.02322862669825554,-0.0375354029238224,-0.023882471024990082,-0.026809051632881165,-0.02093450166285038,0.006258858367800713,0.013159206137061119,0.02638838067650795,0.019688362255692482,0.04129616543650627,0.09621352702379227,0.1071043387055397,0.0995943620800972,0.1212708130478859,0.1069798618555069,0.052237048745155334,0.0430397093296051,0.0533333383500576,0.064222551882267,0.051905397325754166,0.023502027615904808,-0.024944733828306198,-0.04891273006796837,-0.04784434288740158,-0.060843631625175476,-0.04279150813817978,-0.023324493318796158,-0.0130114471539855,0.016311677172780037,-0.015138176269829273,0.0034327590838074684,-0.01180213876068592,-0.0027794199995696545,-0.014469034038484097,0.0262155681848526,0.02853589877486229,0.002307225950062275,-0.018774695694446564,-0.010928995907306671,0.012480412609875202,0.0024737915955483913,-0.03981510549783707,-0.06602775305509567,-0.06352731585502625,-0.0893145278096199,-0.09207776188850403,-0.0796138271689415,-0.030117496848106384,0.011277493089437485,0.026979563757777214,0.026841970160603523,0.005816464778035879,-0.01737237349152565,-0.06854765117168427,-0.04986649751663208,-0.026065358892083168,-0.025680044665932655,-0.02176961489021778,-0.004164408892393112,0.024142999202013016,0.00625878619030118,-0.03345275670289993,-0.017700830474495888,0.009524506516754627,-0.021078545600175858,-0.009639986790716648,-0.028697101399302483,-0.043449774384498596,-0.054216306656599045,-0.059174660593271255,-0.033628400415182114,-0.05117058381438255,-0.04733216390013695,-0.03843529894948006,-0.021786365658044815,-0.010973339900374413,-0.0320558100938797,-0.02091800421476364,0.018652526661753654,0.012837357819080353,-0.021164461970329285,-0.04439979046583176,-0.05221419036388397,-0.056201666593551636,-0.07880426943302155,-0.03573846071958542,-0.0066885692067444324,-0.006381037645041943,0.013004795648157597,0.0027243848890066147,-0.017527999356389046,-0.020661694929003716,-0.010331320576369762,-0.01565522700548172,-0.014036346226930618,0.01677515171468258,0.012938681989908218,0.03787657245993614,0.052827391773462296,0.05678277462720871,0.06900765001773834,0.08989367634057999,0.0576193630695343,0.06654108315706253,0.05473277345299721,0.031265079975128174,-0.004480838309973478,-0.018311312422156334,-0.05563436821103096,-0.0028820482548326254,-0.00570152560248971,-0.04045555368065834,-0.05715125799179077,-0.025622554123401642,-0.02203473448753357,-0.021944137290120125,0.02308317832648754,0.01563328318297863,0.024639707058668137,0.014898774214088917,0.036520589143037796,0.04419394209980965,0.05027581378817558,0.06222810223698616,0.06003174930810928,0.019242122769355774,0.026735961437225342,0.015864510089159012,-0.010669060982763767,-0.02728397399187088,-0.030736001208424568,-0.048637498170137405,-0.038037825375795364,-0.030078720301389694,-0.0503961518406868,-0.05252205953001976,-0.030141035094857216,-0.000828152522444725,0.033199336379766464,0.04682261496782303,0.02106546238064766,0.016165493056178093,0.03544449806213379,0.06069987639784813,0.06680867075920105,0.08352185040712357,0.08540366590023041,0.11516962945461273,0.08497302979230881,0.08109962195158005,0.05416937917470932,-0.007976782508194447,-0.05641643702983856,-0.07959876209497452,-0.07034183293581009,-0.05689602717757225,-0.06686527281999588,-0.05461697652935982,-0.033066123723983765,-0.04513376206159592,-0.05704846978187561,-0.06186020001769066,-0.04980599507689476,-0.022174382582306862,0.0022568674758076668,0.026917990297079086,0.048847682774066925,0.041997894644737244,0.04279868304729462,0.03289268910884857,0.050799380987882614,0.0063921804539859295,-0.037442829459905624,-0.06294233351945877,-0.11014290899038315,-0.1499045044183731,-0.16283103823661804,-0.1451566368341446,-0.11409027129411697,-0.08233758807182312,-0.08479230850934982,-0.09323767572641373,-0.05219243839383125,-0.01983485370874405,-0.018069522455334663,-0.0003799465484917164,0.0009259224752895534,-0.010514015331864357,-0.052789077162742615,-0.06285656988620758,-0.06607851386070251,-0.026482345536351204,-0.028363484889268875,-0.023610614240169525,-0.03174589201807976,-0.09242582321166992,-0.11159446835517883,-0.12099222838878632,-0.11562913656234741,-0.12141294777393341,-0.14971093833446503,-0.15037430822849274,-0.145051047205925,-0.13377711176872253,-0.15370506048202515,-0.11149268597364426,-0.05955806374549866,-0.00999775156378746,-0.013802080415189266,0.0024928359780460596,0.002663408173248172,-0.003822808153927326,-0.026529796421527863,-0.10025452822446823,-0.08121056854724884,-0.06798097491264343,-0.07502700388431549,-0.04566248878836632,-0.02546088583767414,-0.0031993745360523462,-0.016941087320446968,-0.05812354013323784,-0.03476797044277191,0.003064095741137862,0.0009021805599331856,-0.019192935898900032,-0.041082918643951416,-0.026521600782871246,-0.030018087476491928,-0.03340843692421913,-0.021999504417181015,0.008360758423805237,0.00027064018649980426,-0.031142892315983772,-0.0671517550945282,-0.07702738791704178,-0.10042932629585266,-0.08057670295238495,-0.048979394137859344,-0.023313559591770172,0.0002449378080200404,0.012432499788701534,0.020255327224731445,0.05857738107442856,-0.009148918092250824,-0.007398402784019709,-0.002725770231336355,0.027289055287837982,0.043194204568862915,0.05297396332025528,0.06259246170520782,0.06718423217535019,0.10028047859668732,0.0949966087937355,0.05571611598134041,0.011778285726904869,-0.016965363174676895,-0.06192171573638916,-0.05623845383524895,-0.020945070311427116,-0.0037406294140964746,-0.017150534316897392,-0.003267879132181406,-0.006035167723894119,-0.01243529561907053,0.010920094326138496,0.006027908995747566,0.025988763198256493,0.05060647055506706,0.09195132553577423,0.09744612127542496,0.06473247706890106,0.05884332209825516,0.024481261149048805,0.00810571014881134,0.03254576399922371,0.032731637358665466,0.05409979075193405,0.04978207126259804,0.07215017080307007,0.04785346984863281,0.05273393914103508,0.05603061616420746,0.027464838698506355,0.0018707626732066274,-0.03350849077105522,-0.04922545701265335,-0.033756013959646225,-0.03443731367588043,0.03981916233897209,0.06920775771141052,0.0878588929772377,0.09570370614528656,0.053725987672805786,0.04043033346533775,0.04752803221344948,0.08801507949829102,0.09594740718603134,0.10012982785701752,0.09678401052951813,0.09855183959007263,0.03769670054316521,-0.025387512519955635,-0.05204182118177414,-0.064488984644413,-0.0709686353802681,-0.04944214969873428,0.014748455956578255,0.05357538163661957,0.017531409859657288,0.0027859481051564217,-0.0014746903907507658,-0.00024344187113456428,-0.009061900898814201,-0.037993576377630234,-0.039372168481349945,-0.028188249096274376,0.021509230136871338,0.03234412148594856,0.05290994048118591,0.06545484811067581,0.06429170817136765,0.06611887365579605,0.02212933823466301,-0.009634561836719513,-0.023152057081460953,-0.03401820361614227,-0.026827853173017502,-0.02144242636859417,-0.018568363040685654,-0.021589163690805435,-0.03183644264936447,-0.05093967914581299,-0.04810481518507004,-0.015926744788885117,-0.015112240798771381,-0.029437238350510597,-0.016388999298214912,0.00013642333215102553,0.011114120483398438,0.01102339569479227,0.021064605563879013,0.016902053728699684,-0.015229402109980583,-0.013695191591978073,-0.018678709864616394,-0.03479785472154617,-0.06577926129102707,-0.07644747942686081,-0.057717010378837585,-0.00808676052838564,-0.01982373744249344,-0.05456358194351196,-0.01307936292141676,0.01003714744001627,-0.020743053406476974,-0.02474559284746647,0.012837706133723259,0.05747632682323456,0.06657635420560837,0.01153608039021492,-0.015466387383639812,-0.017400510609149933,-0.03811381384730339,-0.007805005181580782,0.03221110254526138,0.06874588876962662,0.052720408886671066,0.022183900699019432,-0.02974097989499569,-0.026359673589468002,-0.020060963928699493,-0.060123853385448456,-0.032210323959589005,0.02421296015381813,0.030250277370214462,0.04528838396072388,0.07786419987678528,0.07940378785133362,0.1395878940820694,0.14414089918136597,0.09727984666824341,0.08124382048845291,0.09454306960105896,0.08472191542387009,0.0913810133934021,0.12534089386463165,0.11007456481456757,0.11120205372571945,0.08038755506277084,0.03144879266619682,0.016801297664642334,-0.025972997769713402,-0.06873444467782974,-0.050392135977745056,-0.05483817309141159,-0.03398916497826576,-0.01136635523289442,0.027339842170476913,0.0598885677754879,0.10070163011550903,0.11190440505743027,0.18746748566627502,0.25774699449539185,0.2496527135372162,0.21277360618114471,0.2187751978635788,0.2077057808637619,0.19361218810081482,0.11924370378255844,0.04096374660730362,0.003541105892509222,-0.03121906705200672,-0.024562397971749306,-0.05993468686938286,-0.04178788885474205,-0.053955357521772385,-0.06327205151319504,-0.022288821637630463,0.032851479947566986,0.049748606979846954,0.016869336366653442,0.000951124937273562,0.030333587899804115,0.024946343153715134,-0.022547056898474693,-0.014325489290058613,0.026288090273737907,0.026275305077433586,0.02860812470316887,0.03140568360686302,0.027628911659121513,0.0029243628960102797,-0.021858861669898033,-0.0437500961124897,-0.038124240934848785,0.005815306678414345,-0.027861466631293297,-0.05033769831061363,-0.026660095900297165,-0.039530396461486816,-0.002781651448458433,0.008668220601975918,0.04401562362909317,0.03555947169661522,-0.0018160800682380795,0.04118809476494789,0.03568055480718613,0.04961862042546272,0.02777315117418766,-0.009505601599812508,-0.029180120676755905,-0.05209582671523094,-0.07118530571460724,-0.08045820146799088,-0.04012646898627281,-0.0192821454256773,-0.01607903651893139,-0.019176527857780457,-0.03367072716355324,-0.053356513381004333,-0.08939642459154129,-0.1072101965546608,-0.08499450236558914,-0.06738565862178802,-0.0511704720556736,-0.03850632160902023,-0.04616563394665718,-0.05861958861351013,-0.028537258505821228,-0.012827550992369652,-0.0036762647796422243,0.040869053453207016,0.04226438328623772,0.008974144235253334,0.01155112311244011,0.021401401609182358,0.014114330522716045,0.043490488082170486,0.04621122404932976,-0.010466565378010273,0.008279135450720787,-0.041208308190107346,-0.061048030853271484,-0.05464258790016174,-0.021619342267513275,0.01368318498134613,0.009178871288895607,-0.011553918942809105,-0.01558047253638506,-0.008853076957166195,-0.019766848534345627,-0.023435862734913826,0.03346123918890953,0.013610824942588806,-0.01628008671104908,0.007407407741993666,-0.021942254155874252,-0.08017455786466599,-0.05686779320240021,-0.029606997966766357,-0.02340594120323658,-0.013125340454280376,-0.011406543664634228,-0.02876444347202778,0.0027285085525363684,-0.0362381637096405,-0.047601379454135895,-0.05248098075389862,-0.0726238265633583,-0.06890196353197098,-0.015121083706617355,0.028668664395809174,0.06445996463298798,0.06990992277860641,0.09334076941013336,0.11769041419029236,0.06383850425481796,-0.01622687466442585,-0.0399770513176918,-0.08451276272535324,-0.14156579971313477,-0.14125201106071472,-0.12783195078372955,-0.15285612642765045,-0.1605285406112671,-0.17746753990650177,-0.14856742322444916,-0.11385372281074524,-0.08327705413103104,-0.07743329554796219,-0.03291163966059685,0.02574283257126808,0.061380162835121155,0.10292425006628036,0.07502500712871552,0.03743913024663925,0.023951049894094467,-0.021150309592485428,-0.0011211901437491179,-0.039230864495038986,-0.03478510305285454,-0.03926526755094528,-0.05483075976371765,-0.07386787235736847,-0.08363782614469528,-0.06645921617746353,-0.0639721006155014,-0.03704221174120903,-0.06837903708219528,-0.04864237830042839,-0.027240417897701263,-0.04763957858085632,-0.026356656104326248,0.03247876092791557,0.04433627799153328,0.07339021563529968,0.07668852806091309,0.07444017380475998,0.10711443424224854,0.13362549245357513,0.25389644503593445,0.23105718195438385,0.1563083529472351,0.055939771234989166,-0.01007804088294506,-0.011651779524981976,-0.048754435032606125,-0.10875432193279266,-0.10691753774881363,-0.09901290386915207,-0.09589449316263199,-0.08760537207126617,-0.11105494201183319,-0.06435064226388931,-0.04815239831805229,-0.03821072354912758,-0.018726743757724762,0.03624868392944336,0.02447541244328022,0.03368391841650009,0.045160550624132156,0.06860124319791794,0.07007214426994324,0.05192936211824417,0.006499579641968012,-0.030804214999079704,-0.102254219353199,-0.11529026180505753,-0.12227196246385574,-0.14261634647846222,-0.1079166829586029,-0.04685649275779724,-0.06742676347494125,-0.10883830487728119,-0.11848767101764679,-0.08828567713499069,-0.1053805872797966,-0.0561714731156826,-0.024420958012342453,0.034975554794073105,0.061732951551675797,0.03636133670806885,0.030669890344142914,0.020419565960764885,0.021212726831436157,0.03295033425092697,0.03644677624106407,0.03507711738348007,0.03258074074983597,0.020541265606880188,0.006560306530445814,0.013944430276751518,-0.04596856236457825,-0.058919861912727356,-0.11173870414495468,-0.13044291734695435,-0.16774070262908936,-0.16724325716495514,-0.09971863031387329,-0.091494619846344,-0.06404024362564087,-0.0663980096578598,-0.044424280524253845,-0.036292366683483124,-0.06396318972110748,-0.01251458190381527,0.028339503332972527,0.01907525584101677,0.011528391391038895,-0.005585239268839359,-0.015799304470419884,-0.04192592576146126,-0.03188197687268257,-0.010897422209382057,0.03603900223970413,0.1014852449297905,0.04364161193370819,0.019296886399388313,-0.007153020240366459,-0.0802699625492096,-0.06016124039888382,-0.032700128853321075,-0.027605822309851646,-0.002505306387320161,-0.0031500530894845724,-0.009783817455172539,-0.06743115931749344,-0.08020853251218796,-0.022079849615693092,0.00566111272200942,0.03156033530831337,0.021552544087171555,0.0013143516844138503,-0.04377258941531181,-0.07401538640260696,-0.04501863569021225,-0.03409354016184807,0.02262425422668457,0.07500862330198288,0.10689698904752731,0.08246863633394241,0.05613376572728157,0.03972078859806061,0.057451095432043076,0.09361670911312103,0.08110322058200836,0.05648806691169739,0.024182766675949097,-0.009704443626105785,-0.008228367194533348,0.046303294599056244,0.07537538558244705,0.09042897075414658,0.06237572059035301,0.02164643071591854,0.0006131816771812737,-0.053364820778369904,-0.08745108544826508,-0.057127561420202255,0.013947865925729275,0.04681001231074333,0.04624837264418602,0.002627649577334523,-0.014006122946739197,-0.0023630817886441946,-0.0292776171118021,-0.035734619945287704,0.003966596443206072,0.03379702940583229,-0.0119691276922822,-0.018912088125944138,-0.039495859295129776,-0.02202136628329754,0.008184407837688923,-0.017285026609897614,-0.06351088732481003,-0.0412447527050972,-0.06842955946922302,-0.08904870599508286,-0.13409695029258728,-0.138473778963089,-0.08484775573015213,-0.023107528686523438,-0.024098912253975868,-0.05185168981552124,0.018736448138952255,0.043654657900333405,0.11979394406080246,0.18108735978603363,0.150671124458313,0.09177523851394653,0.07655984163284302,0.055735476315021515,0.05789681896567345,0.09835764765739441,0.08640716969966888,0.045270830392837524,0.043453194200992584,0.00967649556696415,-0.033473070710897446,-0.006103101186454296,-0.015012888237833977,-0.05023904889822006,-0.051118750125169754,-0.05293843895196915,-0.022446151822805405,-0.10423101484775543,-0.10593608021736145,-0.050437454134225845,-0.035702288150787354,-0.00045441288966685534,0.014590289443731308,0.00041074983892031014,0.04720192030072212,0.11300275474786758,0.14721952378749847,0.18071094155311584,0.19868093729019165,0.12254704535007477,0.1202060803771019,0.07789642363786697,0.030188849195837975,0.0008884101407602429,-0.03632689639925957,-0.11009061336517334,-0.10919945687055588,-0.0900520533323288,-0.10063331574201584,-0.0695856586098671,-0.0235933605581522,-0.04972048103809357,-0.019795725122094154,0.047384947538375854,0.05613250657916069,0.035282623022794724,0.03030761331319809,0.011329547502100468,0.009814254008233547,0.01169236283749342,0.012675043195486069,0.012666749767959118,0.009231368079781532,0.08769471198320389,0.1628001630306244,0.1553153693675995,0.13075724244117737,0.14396575093269348,0.14574748277664185,0.0632781907916069,-0.015851128846406937,-0.08133412152528763,-0.11504059284925461,-0.14532054960727692,-0.14003679156303406,-0.0855303704738617,0.02734827995300293,0.017454396933317184,0.030446283519268036,0.010020386427640915,0.0480959378182888,0.052594978362321854,0.06563263386487961,0.07711747288703918,0.03423311188817024,0.004058907274156809,0.006718365475535393,0.030980253592133522,0.040378279983997345,0.022868981584906578,0.0912204310297966,0.1312975287437439,0.12336214631795883,0.12650205194950104,0.14865660667419434,0.175593301653862,0.14661075174808502,0.05199768394231796,-0.03313771262764931,-0.03403725102543831,-0.05125683918595314,-0.029514256864786148,-0.007468712981790304,0.02081022784113884,0.12240603566169739,0.10870475322008133,0.05518813803792,0.05271544307470322,0.04627014324069023,0.03979523479938507,0.038761723786592484,0.08955281972885132,0.07557783275842667,0.028715798631310463,0.021414590999484062,-0.04994908720254898,0.016752246767282486,0.0896633043885231,0.09421875327825546,0.08415213227272034,0.06646731495857239,0.027952512726187706,-0.0022809873335063457,0.011461331509053707,-0.022949865087866783,-0.05854326859116554,-0.0440070740878582,-0.09341675043106079,-0.1689445674419403,-0.20686425268650055,-0.20471365749835968,-0.20236068964004517,-0.1841771900653839,-0.11033045500516891,-0.09041376411914825,-0.10080815851688385,-0.07697248458862305,-0.04814598336815834,-0.01632288657128811,0.05351796746253967,0.07648882269859314,0.0814419835805893,0.01997658796608448,-0.07234590500593185,-0.14655925333499908,-0.14481595158576965,-0.1573369950056076,-0.15675142407417297,-0.12842853367328644,-0.05807887017726898,-0.07658366858959198,-0.06840997189283371,0.004370392765849829,0.04219165816903114,0.09724359214305878,0.12061973661184311,0.14723317325115204,-0.0071005928330123425,-0.132256418466568,-0.17328190803527832,-0.030819281935691833,0.03897476941347122,0.11860499531030655,0.19779962301254272,0.24212133884429932,0.22396031022071838,0.2172592580318451,0.20359478890895844,0.1969536393880844,0.18605054914951324,0.14320969581604004,0.16277416050434113,0.08361684530973434,0.07385197281837463,0.0007085185497999191,-0.09469390660524368,-0.19830942153930664,-0.12997232377529144,-0.12599557638168335,-0.07909606397151947,-0.0070585268549621105,-0.009554971009492874,0.02657691016793251,0.1477358341217041,0.18373705446720123,0.07777385413646698,-0.025446835905313492,-0.041756514459848404,0.00014949418255127966,0.09099303930997849,0.1650809347629547,0.16563165187835693,0.1460181325674057,0.09914039075374603,-0.003628863487392664,-0.11057436466217041,-0.109690822660923,-0.05019667372107506,-0.019548416137695312,0.012630132958292961,0.06962960958480835,0.0921863466501236,0.01787618175148964,-0.08051463961601257,-0.10954512655735016,-0.13464517891407013,-0.07624498754739761,-0.09845487773418427,-0.10969505459070206,-0.06828741729259491,-0.03592906892299652,0.052053727209568024,-0.005296614486724138,0.017054280266165733,0.032223187386989594,0.055218424648046494,0.07025343179702759,0.032121095806360245,-0.007826963439583778,-0.06092565879225731,-0.1611020565032959,-0.1786004900932312,-0.2190123051404953,-0.19313356280326843,-0.06355426460504532,0.022818563506007195,0.09232334792613983,0.07603678107261658,0.07989437133073807,0.1115313246846199,0.10602109134197235,0.043203845620155334,0.025267023593187332,-0.006771249696612358,-0.07094397395849228,-0.08125368505716324,-0.153786301612854,-0.2446802258491516,-0.3191342353820801,-0.3079439699649811,-0.40820515155792236,-0.3413148522377014,-0.3141386806964874,-0.17345258593559265,-0.010796318762004375,0.015239857137203217,-0.10575733333826065,-0.2002585232257843,-0.3154551088809967,-0.4344051480293274,-0.4502081274986267,-0.3473714292049408,-0.22848613560199738,-0.061943419277668,0.08916374295949936,0.11510688811540604,0.16773027181625366,0.14311949908733368,0.09149670600891113,0.09421122819185257,0.13430581986904144,0.18934252858161926,0.20502907037734985,0.2502780556678772,0.2293940782546997,0.23023629188537598,0.34455442428588867,0.2276126742362976,0.18590913712978363,-0.038828615099191666,0.18168708682060242,0.35313811898231506,0.5650498270988464,0.5909510850906372,0.5480364561080933,0.4593808948993683,0.42792847752571106,0.24077169597148895,0.05293913558125496,-0.157121479511261,-0.18698522448539734,-0.051364101469516754,0.1259586066007614,0.32583683729171753,0.3945753574371338,0.4607195556163788,0.5599358677864075,0.4414931833744049,0.42860886454582214,0.38995587825775146],\"yaxis\":\"y\",\"type\":\"scatter\"},{\"mode\":\"lines\",\"name\":\"chain1\",\"x\":[0,1,2,3,4,5,6,7,8,9,10,11,12,13,14,15,16,17,18,19,20,21,22,23,24,25,26,27,28,29,30,31,32,33,34,35,36,37,38,39,40,41,42,43,44,45,46,47,48,49,50,51,52,53,54,55,56,57,58,59,60,61,62,63,64,65,66,67,68,69,70,71,72,73,74,75,76,77,78,79,80,81,82,83,84,85,86,87,88,89,90,91,92,93,94,95,96,97,98,99,100,101,102,103,104,105,106,107,108,109,110,111,112,113,114,115,116,117,118,119,120,121,122,123,124,125,126,127,128,129,130,131,132,133,134,135,136,137,138,139,140,141,142,143,144,145,146,147,148,149,150,151,152,153,154,155,156,157,158,159,160,161,162,163,164,165,166,167,168,169,170,171,172,173,174,175,176,177,178,179,180,181,182,183,184,185,186,187,188,189,190,191,192,193,194,195,196,197,198,199,200,201,202,203,204,205,206,207,208,209,210,211,212,213,214,215,216,217,218,219,220,221,222,223,224,225,226,227,228,229,230,231,232,233,234,235,236,237,238,239,240,241,242,243,244,245,246,247,248,249,250,251,252,253,254,255,256,257,258,259,260,261,262,263,264,265,266,267,268,269,270,271,272,273,274,275,276,277,278,279,280,281,282,283,284,285,286,287,288,289,290,291,292,293,294,295,296,297,298,299,300,301,302,303,304,305,306,307,308,309,310,311,312,313,314,315,316,317,318,319,320,321,322,323,324,325,326,327,328,329,330,331,332,333,334,335,336,337,338,339,340,341,342,343,344,345,346,347,348,349,350,351,352,353,354,355,356,357,358,359,360,361,362,363,364,365,366,367,368,369,370,371,372,373,374,375,376,377,378,379,380,381,382,383,384,385,386,387,388,389,390,391,392,393,394,395,396,397,398,399,400,401,402,403,404,405,406,407,408,409,410,411,412,413,414,415,416,417,418,419,420,421,422,423,424,425,426,427,428,429,430,431,432,433,434,435,436,437,438,439,440,441,442,443,444,445,446,447,448,449,450,451,452,453,454,455,456,457,458,459,460,461,462,463,464,465,466,467,468,469,470,471,472,473,474,475,476,477,478,479,480,481,482,483,484,485,486,487,488,489,490,491,492,493,494,495,496,497,498,499,500,501,502,503,504,505,506,507,508,509,510,511,512,513,514,515,516,517,518,519,520,521,522,523,524,525,526,527,528,529,530,531,532,533,534,535,536,537,538,539,540,541,542,543,544,545,546,547,548,549,550,551,552,553,554,555,556,557,558,559,560,561,562,563,564,565,566,567,568,569,570,571,572,573,574,575,576,577,578,579,580,581,582,583,584,585,586,587,588,589,590,591,592,593,594,595,596,597,598,599,600,601,602,603,604,605,606,607,608,609,610,611,612,613,614,615,616,617,618,619,620,621,622,623,624,625,626,627,628,629,630,631,632,633,634,635,636,637,638,639,640,641,642,643,644,645,646,647,648,649,650,651,652,653,654,655,656,657,658,659,660,661,662,663,664,665,666,667,668,669,670,671,672,673,674,675,676,677,678,679,680,681,682,683,684,685,686,687,688,689,690,691,692,693,694,695,696,697,698,699,700,701,702,703,704,705,706,707,708,709,710,711,712,713,714,715,716,717,718,719,720,721,722,723,724,725,726,727,728,729,730,731,732,733,734,735,736,737,738,739,740,741,742,743,744,745,746,747,748,749,750,751,752,753,754,755,756,757,758,759,760,761,762,763,764,765,766,767,768,769,770,771,772,773,774,775,776,777,778,779,780,781,782,783,784,785,786,787,788,789,790,791,792,793,794,795,796,797,798,799,800,801,802,803,804,805,806,807,808,809,810,811,812,813,814,815,816,817,818,819,820,821,822,823,824,825,826,827,828,829,830,831,832,833,834,835,836,837,838,839,840,841,842,843,844,845,846,847,848,849,850,851,852,853,854,855,856,857,858,859,860,861,862,863,864,865,866,867,868,869,870,871,872,873,874,875,876,877,878,879,880,881,882,883,884,885,886,887,888,889,890,891,892,893,894,895,896,897,898,899,900,901,902,903,904,905,906,907,908,909,910,911,912,913,914,915,916,917,918,919,920,921,922,923,924,925,926,927,928,929,930,931,932,933,934,935,936,937,938,939,940,941,942,943,944,945,946,947,948,949,950,951,952,953,954,955,956,957,958,959,960,961,962,963,964,965,966,967,968,969,970,971,972,973,974,975,976,977,978,979,980,981,982,983,984,985,986,987,988,989,990,991,992,993,994,995,996,997,998,999],\"xaxis\":\"x\",\"y\":[0.999000072479248,0.5987555980682373,0.3315557837486267,0.17078348994255066,0.10219097882509232,0.05234267935156822,0.024916978552937508,-0.01577616110444069,-0.037615012377500534,-0.08268221467733383,-0.09369200468063354,-0.09703531861305237,-0.11185044050216675,-0.11417020112276077,-0.11652468144893646,-0.10805397480726242,-0.08459747582674026,-0.06310657411813736,-0.05016130581498146,-0.027337368577718735,0.01156938448548317,0.04709533601999283,0.08394034206867218,0.12282693386077881,0.1423693150281906,0.12593965232372284,0.09085046499967575,0.05769799277186394,0.033348944038152695,-0.009304942563176155,-0.011354148387908936,-0.03765738010406494,-0.01475804578512907,0.0032958376687020063,0.0024751850869506598,0.016851607710123062,0.030340837314724922,-0.0018106187926605344,-0.04073648527264595,-0.06774856895208359,-0.05351822450757027,-0.057242993265390396,-0.046045880764722824,-0.0074403355829417706,0.014434434473514557,0.011631472036242485,0.03213974088430405,0.039364494383335114,0.03698130324482918,0.016607481986284256,0.050193578004837036,0.051775023341178894,0.056777119636535645,0.06266630440950394,0.04637598991394043,0.016457820311188698,0.011617750860750675,0.027668217197060585,0.018949879333376884,0.017241857945919037,0.013574200682342052,0.005073236301541328,0.009072489105165005,-0.001218837802298367,-0.045652225613594055,-0.042724113911390305,-0.03483758121728897,-0.01772410422563553,0.015583916567265987,0.0036739862989634275,-0.024473413825035095,-0.023074645549058914,0.0007787798531353474,0.021794063970446587,0.038583386689424515,0.04841192066669464,0.033761218190193176,0.004051698837429285,-0.0052586146630346775,-0.0018699608044698834,-0.013939546421170235,-0.027858739718794823,-0.029327968135476112,-0.01918625831604004,-0.023225635290145874,-0.04341119900345802,-0.03775821253657341,-0.029867956414818764,-0.059017643332481384,-0.07588927447795868,-0.07394898682832718,-0.029506681486964226,-0.011049604043364525,0.03516215831041336,0.05527988076210022,0.07354442030191422,0.08538863807916641,0.055160850286483765,0.02555844374001026,0.005643700715154409,0.02100369520485401,0.00045206164941191673,-0.01051926240324974,-0.005497543141245842,0.017523257061839104,-0.000540483626537025,0.01850421540439129,0.04049985110759735,-0.005178686231374741,-0.027231158688664436,-0.074767105281353,-0.0787164717912674,-0.0587153397500515,-0.05910792201757431,-0.07978136092424393,-0.06849508732557297,-0.027764538303017616,0.010762597434222698,0.01329836342483759,0.031228521838784218,0.025989888235926628,0.022454258054494858,0.02377716824412346,0.048908159136772156,0.06881491094827652,0.03802291303873062,0.01890743337571621,0.017742909491062164,0.05812894552946091,0.07217017561197281,0.02451937273144722,0.006422221194952726,0.000509320292621851,-0.026449833065271378,-0.049262288957834244,-0.06101696938276291,-0.04997837170958519,-0.03894601762294769,-0.08580894768238068,-0.08736652135848999,-0.04675915092229843,-0.02513834647834301,0.004411293193697929,0.017074715346097946,0.022219693288207054,-0.001497337594628334,-0.02958689257502556,-0.04737694188952446,-0.060843490064144135,-0.05310438200831413,-0.054374970495700836,-0.021205974742770195,0.013335391879081726,0.020306341350078583,0.014427741058170795,-0.0019709926564246416,-0.012825759127736092,0.018575454130768776,0.03703935071825981,0.01917967014014721,-0.011962461285293102,-0.02878003939986229,-0.04528793692588806,-0.08698607236146927,-0.09093698859214783,-0.05959206447005272,-0.03392772004008293,-0.014125073328614235,0.0026810297276824713,0.0394953116774559,0.01663251593708992,-0.024607956409454346,-0.06728966534137726,-0.09595998376607895,-0.08526136726140976,-0.05353989824652672,-0.020330339670181274,-0.014670810662209988,-0.023399997502565384,0.01345627848058939,-0.01774386130273342,-0.01877518929541111,-0.035159844905138016,-0.057568274438381195,-0.056338582187891006,-0.064246766269207,-0.06448126584291458,-0.06055092439055443,-0.04230693355202675,-0.03696497157216072,-0.061734095215797424,-0.07769177109003067,-0.09110230207443237,-0.08102978765964508,-0.0591215156018734,-0.05016893893480301,-0.0408012755215168,-0.043453533202409744,-0.03496185317635536,0.022557925432920456,0.07323350757360458,0.06443358957767487,0.04615679383277893,0.012149078771471977,0.01829637587070465,0.015411385335028172,0.002785263117402792,-0.027313614264130592,-0.042885031551122665,-0.03347800299525261,-0.022477714344859123,0.03214345872402191,0.013107124716043472,-0.006402265280485153,-0.035045500844717026,-0.016773875802755356,-0.013279300183057785,-0.05759010091423988,-0.09783107042312622,-0.02973019704222679,0.005043359007686377,0.0024879956617951393,-0.007756561506539583,0.02487531490623951,0.05783335119485855,0.04540123790502548,-0.020937224850058556,-0.02381560206413269,0.009012890979647636,0.01321474090218544,0.017727598547935486,0.018999891355633736,0.010567313060164452,0.010308515280485153,0.01901337318122387,0.06260184198617935,0.09106505662202835,0.062205471098423004,0.015549615025520325,-0.02365000918507576,-0.039615899324417114,-0.015043433755636215,-0.014434019103646278,-0.034922778606414795,-0.023216726258397102,-0.03044773079454899,-0.026057979092001915,-0.006255405023694038,0.0017365280073136091,0.032185882329940796,-0.0008846278651617467,-0.024829000234603882,-0.0082076545804739,-0.015287445858120918,-0.023258065804839134,-0.037021201103925705,-0.07186644524335861,-0.06958147883415222,-0.04541037976741791,-0.029296599328517914,0.002434860449284315,0.05836286023259163,0.0422186441719532,0.05228264629840851,0.06272058188915253,0.025436026975512505,0.03970656171441078,0.02412419021129608,0.042608246207237244,0.042502570897340775,0.04775753989815712,0.04856934770941734,0.05722267925739288,0.05057782307267189,0.05255603790283203,0.04970682039856911,0.042386431246995926,0.043916817754507065,0.0222039595246315,0.03361170366406441,0.024088343605399132,-0.0035168856848031282,0.013091563247144222,-0.008560826070606709,-0.0027050066273659468,-0.024108514189720154,-0.003181127365678549,0.017956139519810677,0.021657845005393028,-0.024556078016757965,-0.04715661332011223,-0.06924314051866531,-0.06609773635864258,0.0016661467961966991,0.0343191884458065,0.05436690151691437,0.08665343374013901,0.12194734066724777,0.1211419478058815,0.08926279097795486,0.08311650156974792,0.0723780021071434,0.07009992748498917,0.06339818984270096,0.0665883794426918,0.06674712896347046,0.0645374208688736,0.08747883886098862,0.044011179357767105,-0.0015501980669796467,0.005374548956751823,0.025022581219673157,0.03205221891403198,0.03404420614242554,-0.030225874856114388,-0.04223819822072983,-0.042143724858760834,-0.020924432203173637,-0.030465641990303993,-0.04760131239891052,-0.01181236281991005,-0.0002884992281906307,-0.011457826942205429,0.04753351956605911,0.061276353895664215,0.03234139829874039,0.02236580103635788,0.0643744245171547,0.12577509880065918,0.1405499279499054,0.12393210083246231,0.10915114730596542,0.10149648785591125,0.048776376992464066,0.016761424019932747,-0.009751598350703716,-0.0008503818535245955,-0.0010879846522584558,-0.001859265728853643,0.004099877551198006,0.014455735683441162,0.027736740186810493,0.0013701495481655002,0.018405908718705177,0.004489046521484852,0.019968081265687943,-0.009793837554752827,-0.004065654706209898,0.013697518035769463,-0.019988074898719788,-0.022925416007637978,0.005641444120556116,0.07995638251304626,0.10277160257101059,0.06302909553050995,0.028952663764357567,0.058419596403837204,0.05239158868789673,0.025864439085125923,-0.013018705882132053,-0.016877852380275726,-0.013463430106639862,-0.043606292456388474,-0.04362766817212105,-0.005232395138591528,0.01489994116127491,-0.0036309228744357824,0.0022547610569745302,0.02290569618344307,-0.018276818096637726,-0.03960554301738739,-0.08230020105838776,-0.09868315607309341,-0.027477292343974113,0.006945834495127201,0.0698862075805664,0.06187297776341438,0.05063531547784805,0.03024652786552906,0.006233514286577702,0.007022438570857048,0.012947206385433674,-0.011693955399096012,-0.030432144179940224,-0.07681427150964737,-0.10904795676469803,-0.08134748041629791,-0.03612527251243591,0.0017776333261281252,0.06260260939598083,0.04707729443907738,0.021450340747833252,0.027827013283967972,0.06649799644947052,0.06932570785284042,0.07307408004999161,0.09480703622102737,0.07669634371995926,0.06178857013583183,0.07211033254861832,0.11678984016180038,0.12466814368963242,0.09841898828744888,0.11291460692882538,0.12870679795742035,0.028742192313075066,-0.04892335087060928,-0.09499131888151169,-0.1214148998260498,-0.11034155637025833,-0.05431872233748436,-0.023093311116099358,-0.10052686929702759,-0.1050485223531723,-0.13614429533481598,-0.14232340455055237,-0.10041216015815735,-0.06371071934700012,-0.04633684083819389,0.003823264269158244,0.01587500609457493,0.004171902779489756,-0.034530531615018845,-0.00835562776774168,0.00888634193688631,0.006492500193417072,0.0029251284431666136,0.011034549213945866,0.03162958845496178,0.059640899300575256,0.11577753722667694,0.08856479823589325,0.05393724888563156,-0.016348863020539284,-0.03322610631585121,-0.007142455782741308,0.08003748953342438,0.11484328657388687,0.05728347972035408,0.023938054218888283,0.030757885426282883,-0.006872151978313923,-0.05543139576911926,-0.06985678523778915,-0.10601074993610382,-0.10328362882137299,-0.09001383930444717,-0.022766800597310066,0.03023669496178627,0.02394481562077999,-0.0010741298319771886,0.009775400161743164,0.028737522661685944,0.0072158342227339745,-0.006989282555878162,0.014540489763021469,0.05118340626358986,0.02202093042433262,-0.005494691431522369,-0.048018377274274826,-0.043101903051137924,-0.03137180209159851,-0.02859092690050602,-0.006632604170590639,-0.007420584559440613,-0.053879912942647934,-0.10119226574897766,-0.131830096244812,-0.10710583627223969,-0.06790001690387726,-0.0659390464425087,-0.07100293785333633,-0.03184839338064194,0.00681373430415988,0.04644279181957245,0.02902599237859249,-0.019049104303121567,-0.054621439427137375,-0.10156244039535522,-0.07630469650030136,-0.05348607897758484,-0.037154655903577805,0.02828047424554825,0.017324218526482582,0.011457107961177826,0.040340766310691833,0.02922412008047104,0.0003146695962641388,-0.07204609364271164,-0.06468657404184341,-0.0649845153093338,-0.11446184664964676,-0.12842455506324768,-0.10827669501304626,-0.08793352544307709,-0.039057835936546326,0.022841287776827812,0.05629622936248779,0.0650101825594902,0.08490174263715744,0.027852868661284447,-0.0354318730533123,-0.07200849801301956,-0.0804128497838974,-0.0491001158952713,0.007357171270996332,0.033415183424949646,0.03746272623538971,-0.005215988960117102,-0.021826080977916718,-0.010425601154565811,-0.0396319217979908,-0.055925820022821426,-0.035827744752168655,-0.08668014407157898,-0.13665585219860077,-0.14601129293441772,-0.13286343216896057,-0.13275723159313202,-0.15915173292160034,-0.14475996792316437,-0.08884589374065399,-0.05668845772743225,-0.03646613657474518,-0.037031322717666626,-0.0427045114338398,-0.011848606169223785,0.03316753730177879,0.02192024700343609,0.09599527716636658,0.11967398226261139,0.1410813182592392,0.17447924613952637,0.16210688650608063,0.09683065861463547,0.06462497264146805,0.039867497980594635,-0.0081674475222826,-0.09796027839183807,-0.16478170454502106,-0.17551933228969574,-0.19908572733402252,-0.16872450709342957,-0.12082429230213165,-0.09312843531370163,-0.07194226235151291,-0.0583343505859375,-0.0407186858355999,-0.03661317750811577,-0.03906777501106262,-0.04545861482620239,-0.04355534538626671,0.038109175860881805,0.07447364181280136,0.114498071372509,0.06786291301250458,0.06645885854959488,0.04200585559010506,0.08334390819072723,0.10060089081525803,0.0691998153924942,0.035012807697057724,-0.0027421063277870417,-0.027631741017103195,-0.013336444273591042,0.013629634864628315,0.0015566800720989704,0.02683141455054283,0.04796912521123886,0.03985467925667763,0.03796127066016197,-0.009029489010572433,-0.0372609868645668,-0.04965157061815262,-0.08137751370668411,-0.09995093941688538,-0.03480032831430435,0.012953515164554119,0.015453721396625042,0.014302811585366726,0.03420992195606232,0.029894370585680008,0.020227085798978806,0.01487929467111826,-0.01999269612133503,-0.0639638677239418,-0.06872204691171646,-0.07504818588495255,-0.041383251547813416,0.010142969898879528,-0.0024742113891988993,-0.028978770598769188,0.002180110663175583,0.008777579292654991,0.019108137115836143,0.02677195891737938,0.02279326133430004,0.027187254279851913,0.07106124609708786,0.06855320930480957,0.10924966633319855,0.08608695864677429,0.07963324338197708,0.036461230367422104,0.027197225019335747,0.0535995252430439,0.05685732886195183,-0.03656370937824249,-0.06242175027728081,-0.04013806954026222,-0.04462643340229988,-0.05134446173906326,-0.06514903903007507,-0.07078918069601059,-0.06624368578195572,-0.0692116841673851,0.027220651507377625,0.053849633783102036,0.0668465718626976,0.09609435498714447,0.11898422986268997,0.0724940299987793,0.06494973599910736,0.033163655549287796,0.0727982446551323,0.04841507226228714,0.04384961351752281,0.05800380930304527,0.03801276907324791,0.05535634607076645,0.06207072362303734,0.05366899445652962,0.02896854653954506,0.019987678155303,0.011317429132759571,-0.002730189822614193,-0.009961160831153393,-0.06647669523954391,-0.06132335215806961,0.009451585821807384,0.021252717822790146,0.022050198167562485,0.01195445004850626,-0.002137918723747134,-0.028896084055304527,-0.03852329030632973,-0.06353039294481277,-0.1362810879945755,-0.11439590156078339,-0.1034109964966774,-0.06067676842212677,0.01433668565005064,0.103363998234272,0.07652144134044647,0.035810988396406174,-0.014144890010356903,0.04391532391309738,0.052528008818626404,0.028664089739322662,-0.034352272748947144,-0.08358094096183777,-0.11408527940511703,-0.09978029876947403,-0.07545574754476547,-0.0444919615983963,0.0027423922438174486,0.0029094344936311245,-0.016844386234879494,0.0008898360538296402,-0.07599083334207535,-0.08492617309093475,-0.00928671844303608,0.04544605687260628,0.07007166743278503,0.06398008018732071,0.049074240028858185,0.03268289566040039,0.01256070751696825,-0.0375051386654377,-0.04466990381479263,-0.02381940372288227,-0.031107310205698013,-0.04963056370615959,-0.010914990678429604,0.03395852446556091,0.024378294125199318,0.05714182183146477,0.04215247184038162,0.06041669473052025,0.10283047705888748,0.10545146465301514,0.14601044356822968,0.1345537006855011,0.10708241164684296,0.07872195541858673,0.08190091699361801,0.11801809072494507,0.12672410905361176,0.10763009637594223,0.009416952729225159,-0.009075921028852463,-0.04386862739920616,-0.07160551846027374,-0.12665201723575592,-0.09041227400302887,-0.07280182838439941,-0.06298857927322388,-0.07106723636388779,-0.10461820662021637,-0.061909083276987076,0.020824899896979332,0.047149334102869034,0.03682166710495949,0.03268557786941528,0.058530520647764206,0.04521198943257332,0.11380843073129654,0.132669135928154,0.13515666127204895,0.0942230150103569,0.08770883828401566,0.07915223389863968,-0.02503558062016964,-0.05724433809518814,-0.040922027081251144,-0.06015549227595329,-0.08616463840007782,-0.09879442304372787,-0.104645736515522,-0.07973501831293106,-0.08229318261146545,-0.06855156272649765,-0.059858452528715134,-0.00045967003097757697,0.06922256201505661,0.11520010232925415,0.1153348833322525,0.12321808934211731,0.05828620120882988,0.037782222032547,0.081177718937397,0.08186592161655426,0.049258727580308914,0.07136133313179016,0.05031696707010269,0.05267864465713501,0.019217252731323242,-0.0224428940564394,0.012481153942644596,0.04661892354488373,-0.006000098306685686,-0.035109374672174454,-0.0772448480129242,-0.0815257802605629,-0.10649723559617996,-0.18012136220932007,-0.1784306913614273,-0.09253355860710144,-0.05379042029380798,-0.06564091891050339,-0.0817725732922554,-0.09160984307527542,-0.10731393098831177,0.014967625960707664,0.06891810148954391,0.029781758785247803,-0.020252244547009468,0.011423886753618717,0.034546319395303726,0.10894658416509628,0.05287040397524834,0.06423752754926682,0.056549813598394394,-0.019002990797162056,-0.09181403368711472,-0.10212056338787079,-0.08742405474185944,-0.03455132246017456,-0.0801674872636795,-0.06656153500080109,-0.1419084519147873,-0.15236151218414307,-0.18474693596363068,-0.1748034507036209,-0.15260440111160278,-0.11584316194057465,-0.10411632806062698,-0.05662643164396286,-0.06059207394719124,-0.031278740614652634,-0.01930166222155094,0.026740755885839462,0.060703180730342865,0.12962211668491364,0.1306775063276291,0.1117413267493248,0.07561847567558289,0.12314807623624802,0.09573099762201309,0.04126610606908798,0.05338292568922043,-0.024298539385199547,-0.08814947307109833,-0.11466105282306671,-0.11345849186182022,-0.12132847309112549,-0.1543797105550766,-0.17323192954063416,-0.20109283924102783,-0.17466804385185242,-0.11267585307359695,-0.04452654346823692,-0.08052151650190353,-0.021673573181033134,-0.05770265683531761,-0.07690487802028656,-0.12785033881664276,-0.13531358540058136,-0.23585660755634308,-0.22854147851467133,-0.12047040462493896,-0.18630805611610413,-0.24266159534454346,-0.20674079656600952,-0.15821473300457,-0.043638184666633606,0.06589712202548981,0.11474195867776871,0.16152426600456238,0.1701165735721588,0.21690736711025238,0.2880229651927948,0.27406132221221924,0.2777700126171112,0.2608910799026489,0.1676001101732254,0.06311273574829102,0.06895193457603455,0.0868731290102005,0.06574881821870804,0.12969930469989777,0.11725900322198868,0.07516232132911682,-0.016719330102205276,-0.035141751170158386,-0.08317051827907562,-0.084662526845932,-0.016977278515696526,-0.051927000284194946,-0.07870896905660629,-0.048489753156900406,-0.09443382918834686,-0.03335016220808029,-0.008738777600228786,-0.0522102415561676,-0.0964769572019577,-0.07166462391614914,-0.09639424830675125,-0.059450894594192505,-0.10497204959392548,-0.10337656736373901,-0.0813002958893776,-0.024426382035017014,0.08996263146400452,0.05736541375517845,-0.006795583292841911,0.00969068892300129,-0.0010766489431262016,-0.07315090298652649,-0.0732225775718689,-0.08426228910684586,-0.17769376933574677,-0.19295671582221985,-0.06052741780877113,0.02211597003042698,-0.09583454579114914,-0.1444718986749649,-0.11218424886465073,-0.12784980237483978,-0.15392115712165833,-0.15891118347644806,-0.14542077481746674,-0.08495447784662247,-0.07213877141475677,-0.07049108296632767,0.035949379205703735,0.12752631306648254,0.10746936500072479,0.25248169898986816,0.19318243861198425,0.1227135956287384,-0.003816586919128895,-0.0025947331450879574,0.10462718456983566,0.13247668743133545,0.09531976282596588,-0.005547374486923218,-0.15612611174583435,-0.20344381034374237,-0.1884632408618927,-0.026468446478247643,-0.07838653028011322,-0.26495909690856934,-0.31411343812942505,-0.351522833108902,-0.31331542134284973,0.01547276508063078,0.05886180326342583,-0.042521923780441284,-0.023126205429434776,0.07675057649612427,0.1334550678730011,0.02638268657028675,-0.01251136977225542,0.0020545029547065496,-0.007456943858414888,-0.04240122810006142,-0.04768393561244011,-0.10558480769395828,-0.14248478412628174,-0.0028672069311141968,0.15976673364639282,0.1544341892004013,0.05951547622680664,-0.07615754753351212,-0.06778082251548767,0.015612085349857807,0.028714803978800774,-0.016825692728161812,0.04811348393559456,0.044013019651174545,0.05396144092082977,0.11710494011640549,0.2272692620754242,0.2637932300567627,0.26250922679901123,0.20805105566978455,0.017254963517189026,-0.2381443977355957,-0.3713805675506592,-0.3468191921710968,-0.4067269265651703,-0.36417049169540405,-0.33015012741088867,-0.29076579213142395,-0.31474438309669495,-0.14619983732700348,0.048705343157052994,0.16228033602237701,0.06675583869218826,0.07284630089998245,-0.07372026145458221,-0.1934805065393448,0.07010693103075027,0.2914036214351654,0.2681697905063629,0.2938559651374817,0.41923150420188904,0.4058152437210083,0.3024618625640869,0.2839321196079254,0.21130043268203735,0.01428952906280756,0.1517237424850464,0.010686347261071205,-0.20824472606182098,-0.3294396698474884,-0.3299998641014099,-0.004824113566428423,0.4074319005012512,0.24073944985866547,0.07836402952671051,-0.116343654692173,-0.18766143918037415,-0.10288283973932266,-0.24603183567523956,-0.15433745086193085,-0.0962788537144661,0.036171916872262955,0.14609138667583466,0.42137256264686584,0.5871709585189819,0.6844198703765869,0.782230794429779,1.0066697597503662,0.6640490293502808,0.23320405185222626,0.1429697573184967,-0.03922481834888458,0.03875095769762993,0.024545397609472275,0.012595869600772858,-0.06939565390348434,-0.07415424287319183,-0.09818766266107559,-0.1318344622850418,-0.18230466544628143,-0.2816300094127655,-1.3654537200927734,-2.195142984390259],\"yaxis\":\"y\",\"type\":\"scatter\"},{\"mode\":\"lines\",\"name\":\"chain2\",\"x\":[0,1,2,3,4,5,6,7,8,9,10,11,12,13,14,15,16,17,18,19,20,21,22,23,24,25,26,27,28,29,30,31,32,33,34,35,36,37,38,39,40,41,42,43,44,45,46,47,48,49,50,51,52,53,54,55,56,57,58,59,60,61,62,63,64,65,66,67,68,69,70,71,72,73,74,75,76,77,78,79,80,81,82,83,84,85,86,87,88,89,90,91,92,93,94,95,96,97,98,99,100,101,102,103,104,105,106,107,108,109,110,111,112,113,114,115,116,117,118,119,120,121,122,123,124,125,126,127,128,129,130,131,132,133,134,135,136,137,138,139,140,141,142,143,144,145,146,147,148,149,150,151,152,153,154,155,156,157,158,159,160,161,162,163,164,165,166,167,168,169,170,171,172,173,174,175,176,177,178,179,180,181,182,183,184,185,186,187,188,189,190,191,192,193,194,195,196,197,198,199,200,201,202,203,204,205,206,207,208,209,210,211,212,213,214,215,216,217,218,219,220,221,222,223,224,225,226,227,228,229,230,231,232,233,234,235,236,237,238,239,240,241,242,243,244,245,246,247,248,249,250,251,252,253,254,255,256,257,258,259,260,261,262,263,264,265,266,267,268,269,270,271,272,273,274,275,276,277,278,279,280,281,282,283,284,285,286,287,288,289,290,291,292,293,294,295,296,297,298,299,300,301,302,303,304,305,306,307,308,309,310,311,312,313,314,315,316,317,318,319,320,321,322,323,324,325,326,327,328,329,330,331,332,333,334,335,336,337,338,339,340,341,342,343,344,345,346,347,348,349,350,351,352,353,354,355,356,357,358,359,360,361,362,363,364,365,366,367,368,369,370,371,372,373,374,375,376,377,378,379,380,381,382,383,384,385,386,387,388,389,390,391,392,393,394,395,396,397,398,399,400,401,402,403,404,405,406,407,408,409,410,411,412,413,414,415,416,417,418,419,420,421,422,423,424,425,426,427,428,429,430,431,432,433,434,435,436,437,438,439,440,441,442,443,444,445,446,447,448,449,450,451,452,453,454,455,456,457,458,459,460,461,462,463,464,465,466,467,468,469,470,471,472,473,474,475,476,477,478,479,480,481,482,483,484,485,486,487,488,489,490,491,492,493,494,495,496,497,498,499,500,501,502,503,504,505,506,507,508,509,510,511,512,513,514,515,516,517,518,519,520,521,522,523,524,525,526,527,528,529,530,531,532,533,534,535,536,537,538,539,540,541,542,543,544,545,546,547,548,549,550,551,552,553,554,555,556,557,558,559,560,561,562,563,564,565,566,567,568,569,570,571,572,573,574,575,576,577,578,579,580,581,582,583,584,585,586,587,588,589,590,591,592,593,594,595,596,597,598,599,600,601,602,603,604,605,606,607,608,609,610,611,612,613,614,615,616,617,618,619,620,621,622,623,624,625,626,627,628,629,630,631,632,633,634,635,636,637,638,639,640,641,642,643,644,645,646,647,648,649,650,651,652,653,654,655,656,657,658,659,660,661,662,663,664,665,666,667,668,669,670,671,672,673,674,675,676,677,678,679,680,681,682,683,684,685,686,687,688,689,690,691,692,693,694,695,696,697,698,699,700,701,702,703,704,705,706,707,708,709,710,711,712,713,714,715,716,717,718,719,720,721,722,723,724,725,726,727,728,729,730,731,732,733,734,735,736,737,738,739,740,741,742,743,744,745,746,747,748,749,750,751,752,753,754,755,756,757,758,759,760,761,762,763,764,765,766,767,768,769,770,771,772,773,774,775,776,777,778,779,780,781,782,783,784,785,786,787,788,789,790,791,792,793,794,795,796,797,798,799,800,801,802,803,804,805,806,807,808,809,810,811,812,813,814,815,816,817,818,819,820,821,822,823,824,825,826,827,828,829,830,831,832,833,834,835,836,837,838,839,840,841,842,843,844,845,846,847,848,849,850,851,852,853,854,855,856,857,858,859,860,861,862,863,864,865,866,867,868,869,870,871,872,873,874,875,876,877,878,879,880,881,882,883,884,885,886,887,888,889,890,891,892,893,894,895,896,897,898,899,900,901,902,903,904,905,906,907,908,909,910,911,912,913,914,915,916,917,918,919,920,921,922,923,924,925,926,927,928,929,930,931,932,933,934,935,936,937,938,939,940,941,942,943,944,945,946,947,948,949,950,951,952,953,954,955,956,957,958,959,960,961,962,963,964,965,966,967,968,969,970,971,972,973,974,975,976,977,978,979,980,981,982,983,984,985,986,987,988,989,990,991,992,993,994,995,996,997,998,999],\"xaxis\":\"x\",\"y\":[0.999000072479248,0.6264664530754089,0.37376219034194946,0.2149616926908493,0.10125620663166046,0.0717199370265007,0.04519258067011833,0.019161762669682503,0.0020052024628967047,0.001634166925214231,0.012761765159666538,0.0006361317355185747,-0.0074826315976679325,-0.031009087339043617,-0.037373654544353485,-0.03075433149933815,-0.054351985454559326,-0.08157627284526825,-0.06718247383832932,-0.07652892172336578,-0.07451064884662628,-0.08604325354099274,-0.08780138194561005,-0.058627452701330185,-0.052321914583444595,-0.013279271312057972,0.010201861150562763,0.04654337838292122,0.05747663229703903,0.05335848778486252,0.07023415714502335,0.099919892847538,0.13871029019355774,0.1599382758140564,0.13613148033618927,0.08083027601242065,-0.00520252576097846,-0.025507867336273193,-0.05311238020658493,-0.053971242159605026,-0.009431910701096058,0.013331040740013123,0.014514890499413013,0.001849951921030879,0.006837601773440838,-0.026068566367030144,-0.018988260999321938,-0.034522294998168945,-0.07018204033374786,-0.09555616229772568,-0.09036800265312195,-0.07619265466928482,-0.0760141983628273,-0.06464230269193649,-0.06762000173330307,-0.07485323399305344,-0.07609495520591736,-0.09149514138698578,-0.0884254202246666,-0.06094219163060188,-0.014452711679041386,0.02062622457742691,0.011675091460347176,0.005755553022027016,-0.0035446789115667343,0.03024103492498398,0.03630950674414635,0.02331000380218029,-0.002613072982057929,-0.028512852266430855,-0.03407136723399162,-0.040928762406110764,-0.04668326675891876,-0.048288699239492416,0.0048078084364533424,0.043266136199235916,0.04029921814799309,0.020627738907933235,-0.00804606731981039,-0.004001681227236986,-0.009004185907542706,-0.019352780655026436,-0.014586078934371471,-0.01802033744752407,-0.01412112731486559,-0.013015608303248882,-0.015259605832397938,-0.02077576518058777,-0.05658061057329178,-0.06468389928340912,-0.026937976479530334,-0.01957961916923523,-0.029811041429638863,-0.038403406739234924,-0.039696380496025085,-0.060367025434970856,-0.07268328219652176,-0.03011413849890232,-0.042270198464393616,-0.04394872114062309,-0.004209187347441912,0.021229106932878494,0.018041308969259262,-0.0077220238745212555,-0.045747656375169754,-0.04868733510375023,-0.06360966712236404,-0.039203982800245285,-0.033088281750679016,-0.041370801627635956,-0.01732785813510418,0.011591879650950432,0.02369365468621254,0.005194112658500671,0.00783279538154602,-0.021509120240807533,-0.011605965904891491,0.0032894962932914495,-0.02072751522064209,-0.030566344037652016,-0.041120391339063644,-0.030063487589359283,0.011111173778772354,0.035248979926109314,0.04401911795139313,-0.017443625256419182,-0.04905456677079201,-0.05273248627781868,-0.03805066645145416,-0.04430510848760605,-0.009270892478525639,-0.005937879905104637,0.0015012627700343728,0.013223649933934212,0.023698415607213974,0.039997417479753494,0.010269655846059322,-0.012003898620605469,-0.030852096155285835,-0.06007984280586243,-0.052016325294971466,-0.05793794244527817,-0.035509005188941956,-0.021812336519360542,-0.012481612153351307,-0.0008681323961354792,0.007933473214507103,-0.01182863675057888,-0.026988893747329712,-0.033498071134090424,-0.013338619843125343,0.000496737367939204,0.0036110663786530495,0.020091455429792404,-0.015480753034353256,-0.0065188962034881115,0.005042794160544872,0.0066999830305576324,0.0021892772056162357,-0.049533963203430176,-0.07128119468688965,-0.06196006387472153,-0.023677727207541466,-0.0028457697480916977,0.041663382202386856,0.027883164584636688,-0.004126345738768578,-0.005056595429778099,-0.023710189387202263,-0.0656241923570633,-0.08033710718154907,-0.10639019310474396,-0.08057349920272827,-0.08460294455289841,-0.08235883712768555,-0.019107872620224953,0.003048039274290204,0.07408639788627625,0.08012695610523224,0.03125373274087906,0.0252850241959095,-0.013552121818065643,-0.019616784527897835,0.006138412747532129,0.050308406352996826,0.04806482419371605,0.03495845943689346,0.05873165652155876,0.026235664263367653,0.006838522851467133,0.027746351435780525,0.019639933481812477,0.020283963531255722,0.05713004991412163,0.0787249431014061,0.13892346620559692,0.11435408145189285,0.13605186343193054,0.12730245292186737,0.06841225177049637,0.008355846628546715,-0.015398381277918816,-0.04121864214539528,-0.0617792010307312,-0.05945614352822304,-0.010570181533694267,-0.004409751854836941,0.0357910618185997,0.04974540323019028,0.021331455558538437,0.042878568172454834,0.0820920392870903,0.10286770761013031,0.07662288099527359,0.05737324431538582,0.03804808109998703,0.020794494077563286,0.0011631040833890438,-0.007939105853438377,-0.048627980053424835,-0.07726070284843445,-0.07790855318307877,-0.04584438353776932,-0.022901225835084915,0.015676120296120644,0.045826505869627,0.043480001389980316,0.06019769236445427,0.08897583186626434,0.06010734289884567,0.06642147898674011,0.03582005202770233,0.025053109973669052,0.018834983929991722,-0.023469237610697746,-0.023925932124257088,-0.03976821526885033,-0.012001187540590763,0.040660858154296875,0.06411051750183105,0.03484325483441353,0.023643650114536285,-0.00037720391992479563,-0.011365764774382114,-0.022119740024209023,1.3159442460164428e-05,0.021302295848727226,0.019913285970687866,-0.029282312840223312,-0.08367635309696198,-0.1099817231297493,-0.10820698738098145,-0.061489034444093704,-0.006377326790243387,0.00010121406376129016,0.024483246728777885,0.053163934499025345,0.07908480614423752,0.11752209067344666,0.10057250410318375,0.07638567686080933,0.06027762591838837,0.06387840956449509,0.05832304060459137,0.03928172588348389,0.042090024799108505,0.045294150710105896,0.06311929225921631,0.07074438035488129,0.07466990500688553,0.08329647779464722,0.04690837860107422,0.09218432754278183,0.08207570016384125,0.04973496124148369,0.012776070274412632,-0.011940676718950272,-0.0024208854883909225,0.0009102516924031079,0.04576749727129936,0.05244271084666252,0.04741162806749344,0.01463895384222269,-0.03733156621456146,-0.043136972934007645,-0.0012254251632839441,0.006525787990540266,0.024084217846393585,0.050456803292036057,0.013144622556865215,0.005300544202327728,0.024723993614315987,0.06044933572411537,0.011220388114452362,0.01928076334297657,0.003526451298967004,-0.0325460210442543,-0.0010337091516703367,0.01638011261820793,0.057081226259469986,0.07014831155538559,0.028217144310474396,-0.0015545714413747191,-0.06558889150619507,-0.07587812840938568,-0.09530657529830933,-0.10847818106412888,-0.06435568630695343,-0.05488777905702591,-0.04588970169425011,-0.02738950401544571,-0.017344636842608452,-0.022677365690469742,-0.03343987092375755,-0.06701948493719101,-0.105239637196064,-0.15254488587379456,-0.1293535977602005,-0.11840810626745224,-0.11515625566244125,-0.0910419449210167,-0.05622940510511398,-0.00412416085600853,0.018188107758760452,-0.025248933583498,0.006833132356405258,-0.0343816913664341,-0.06772616505622864,-0.0498790517449379,0.0010864852229133248,-0.04585761949419975,-0.08792926371097565,-0.09122779965400696,-0.097852922976017,-0.09734240174293518,-0.0908161923289299,-0.10248349606990814,-0.10344117879867554,-0.0718487799167633,-0.0885709822177887,-0.04274812713265419,-0.04023004323244095,-0.04982166364789009,-0.03995487838983536,-0.048460833728313446,-0.06776870787143707,-0.09890864044427872,-0.10044306516647339,-0.05562479421496391,-0.046116381883621216,-0.0372346006333828,-0.0365203358232975,-0.014784365892410278,-0.009611459448933601,0.0011847836431115866,0.0142927011474967,0.014971403405070305,0.03362874686717987,0.028349949046969414,0.025877680629491806,0.03735475242137909,0.026637189090251923,0.018376236781477928,0.007022455800324678,-0.020288201048970222,-0.06132039055228233,-0.0662243440747261,-0.07044507563114166,-0.06367214024066925,-0.014154436066746712,0.06962145119905472,0.055815234780311584,0.004249777179211378,-0.03031655214726925,-0.0732797160744667,-0.0494384765625,-0.048673469573259354,-0.0660913959145546,-0.09735338389873505,-0.1017177402973175,-0.08408438414335251,-0.0658290833234787,-0.00671151839196682,0.006312691606581211,0.03520182520151138,0.09555515646934509,0.10390565544366837,0.05742208659648895,0.0548737570643425,0.0657162219285965,0.08638524264097214,0.08294443786144257,0.10706175863742828,0.08009565621614456,0.0775228887796402,0.08243928849697113,0.08047337830066681,0.06652028858661652,0.015117968432605267,-0.01331167109310627,0.0013248368632048368,0.004939490929245949,0.05253034457564354,0.09729024022817612,0.0742875337600708,0.04932628944516182,0.0028642278630286455,-0.08100126683712006,-0.08120518177747726,-0.07340030372142792,-0.006454151589423418,0.024626152589917183,0.020711654797196388,0.027681974694132805,0.04160541296005249,0.07682575285434723,0.082797110080719,0.06875991076231003,0.06463024020195007,0.070596843957901,0.030991122126579285,-0.002359652193263173,0.025812070816755295,0.08193177729845047,0.07772772759199142,0.05259627848863602,0.00818282924592495,-0.02410031296312809,-0.03379373624920845,-0.012643281370401382,0.009960345923900604,0.024994054809212685,0.01689046062529087,-0.00112322554923594,0.039997026324272156,0.07032818347215652,0.08416279405355453,0.09185883402824402,0.06774629652500153,0.04067414999008179,0.05668467655777931,0.04767807200551033,0.02553441934287548,-0.010194453410804272,-0.04125189036130905,-0.03240532800555229,-0.0348677895963192,-0.046196334064006805,-0.07392410188913345,-0.08739643543958664,-0.0289352647960186,-0.03794851899147034,-0.026950476691126823,-0.03767940402030945,-0.047399889677762985,-0.0379556380212307,-0.009287375025451183,0.021704627200961113,-0.042949412018060684,-0.05736435949802399,-0.029273798689246178,-0.04457768052816391,-0.03190087527036667,-0.05324788764119148,-0.0024819790851324797,0.034083351492881775,0.04350791871547699,0.06261373311281204,0.05754633992910385,0.06987794488668442,0.02623845264315605,0.018579892814159393,0.002442979486659169,-0.04947492107748985,-0.05067563056945801,-0.025322414934635162,-0.011232186108827591,-0.008768717758357525,0.01825413480401039,0.021569956094026566,0.03627860173583031,-0.010233053006231785,0.00958340521901846,0.005254533141851425,0.05801064521074295,0.07546140998601913,0.03570885583758354,0.06701233983039856,0.02186768688261509,0.025600779801607132,0.06287757307291031,0.044204648584127426,0.07186894863843918,0.09302327036857605,0.10907213389873505,0.09113292396068573,0.0890321433544159,0.10777539759874344,0.07883565872907639,0.041402049362659454,0.03465982526540756,0.0026063125114887953,-0.009900557808578014,-0.039507411420345306,-0.06984226405620575,-0.06799232214689255,-0.08629840612411499,-0.08507262915372849,-0.09065257012844086,-0.11189573258161545,-0.1372062861919403,-0.17286689579486847,-0.15764260292053223,-0.13422846794128418,-0.15393653512001038,-0.10638120770454407,-0.04619250074028969,-0.06676892191171646,-0.03580677509307861,-0.014626726508140564,0.029706791043281555,0.044421885162591934,0.09114550799131393,0.11336337774991989,0.1335103064775467,0.13814733922481537,0.13358138501644135,0.12081804126501083,0.05631816387176514,-0.0035146859008818865,-0.03732800856232643,-0.05469397082924843,-0.050139419734478,-0.028677644208073616,-0.0237430352717638,0.006087340414524078,0.024459868669509888,0.04630846157670021,0.031434573233127594,0.005625216756016016,-0.025695817545056343,-0.047441113740205765,-0.15348970890045166,-0.18129047751426697,-0.2194233536720276,-0.1967821568250656,-0.1546691656112671,-0.049559708684682846,0.030725840479135513,0.038731880486011505,0.06295312196016312,0.050649963319301605,0.017641695216298103,0.042861100286245346,0.061823420226573944,0.08100981265306473,0.0962204560637474,0.09412962198257446,0.08936008810997009,0.06610708683729172,0.014874490909278393,-0.03003089688718319,-0.03157433494925499,-0.039473194628953934,-0.008748303167521954,0.011963697150349617,0.06106651946902275,0.1103062629699707,0.0957508310675621,0.029902257025241852,-0.006201771553605795,-0.025131117552518845,-0.03335413709282875,-0.05342850089073181,-0.0721118226647377,-0.13985751569271088,-0.12187590450048447,-0.11046342551708221,-0.08990462869405746,-0.06718708574771881,-0.031249959021806717,0.04323725402355194,0.03026747703552246,0.004966271109879017,-0.04680519178509712,-0.09620441496372223,-0.10850085318088531,-0.04799008369445801,-0.04810084030032158,-0.06985371559858322,-0.06539999693632126,-0.07143696397542953,-0.07051599770784378,-0.09004394710063934,-0.09888703376054764,-0.09643508493900299,-0.10129734128713608,-0.0373196080327034,0.0156459491699934,0.04207685589790344,0.0672827810049057,0.1317937672138214,0.13641652464866638,0.0902339369058609,0.05840693414211273,-0.004695649724453688,-0.024164002388715744,-0.046786341816186905,-0.0072142500430345535,0.016930576413869858,0.06245139241218567,0.07023169845342636,0.09507621079683304,0.14849679172039032,0.14812378585338593,0.11169588565826416,0.03632264584302902,0.012304361909627914,-0.03698607161641121,-0.10134413093328476,-0.1419149935245514,-0.1586557924747467,-0.13003388047218323,-0.11897717416286469,-0.05110721290111542,-0.019693611189723015,-0.021780701354146004,0.006115073803812265,0.023442674428224564,0.0574406236410141,0.08844560384750366,0.07875056564807892,0.12653222680091858,0.14753374457359314,0.14858417212963104,0.11018246412277222,0.037096843123435974,-0.02048327401280403,-0.040403738617897034,-0.07426875084638596,-0.03237509727478027,-0.04846394062042236,0.008653741329908371,0.058063577860593796,0.02143051289021969,0.025538483634591103,0.015104490332305431,0.0783136710524559,0.18290211260318756,0.15177886188030243,0.08660592138767242,0.05465955659747124,0.004807635210454464,-0.07042662799358368,-0.11354617774486542,-0.1650112271308899,-0.16477727890014648,-0.09233307093381882,-0.04040297865867615,-0.050165675580501556,-0.07785745710134506,-0.09187562763690948,-0.05225738137960434,-0.0422084704041481,-0.02123149298131466,-0.044656284153461456,-0.09050188213586807,-0.06524714082479477,-0.06622977554798126,-0.013201097957789898,-0.02374766580760479,0.010170748457312584,0.04117778316140175,0.08799654990434647,0.11322737485170364,0.13444839417934418,0.12720513343811035,0.14321006834506989,0.13365095853805542,0.12787099182605743,0.19675560295581818,0.21197985112667084,0.20352384448051453,0.16705143451690674,0.11539014428853989,0.07549580186605453,-0.006077996920794249,-0.013679060153663158,-0.023142637684941292,-0.006820187903940678,-0.02430698089301586,-0.035368263721466064,-0.03414264693856239,-0.04290258511900902,0.016189921647310257,0.052520617842674255,0.027066398411989212,0.027664335444569588,-0.014973903074860573,-0.04150979220867157,-0.024420004338026047,-0.0608598068356514,-0.06006021797657013,-0.03149718418717384,-0.0011002726387232542,0.004425025079399347,-0.04002203419804573,-0.04800208657979965,-0.023680508136749268,-0.02109650708734989,0.012985290959477425,0.01387072168290615,0.03539089858531952,0.12124122679233551,0.18833337724208832,0.22460240125656128,0.10948976874351501,0.03350287675857544,-0.05503625422716141,-0.11694176495075226,-0.1394953429698944,-0.18483063578605652,-0.1304387003183365,-0.04625997319817543,-0.01491578295826912,-0.008554981090128422,-0.03131982311606407,-0.07339613139629364,-0.11310447007417679,-0.14337706565856934,-0.13161306083202362,-0.09549719095230103,-0.05451935529708862,-0.053831182420253754,-0.006068099290132523,-0.016957877203822136,-0.07947814464569092,-0.10631696879863739,-0.1301306188106537,-0.14112906157970428,-0.12181579321622849,-0.11058112233877182,-0.16677549481391907,-0.1887022703886032,-0.192839115858078,-0.14897185564041138,-0.07164949923753738,-0.0014464313862845302,0.10976837575435638,0.12442000955343246,0.08643544465303421,0.09417485445737839,0.0707235038280487,0.013698996044695377,0.05316722393035889,0.029638875275850296,0.05607481673359871,0.09293725341558456,0.05183659866452217,0.12210007756948471,0.09440048784017563,0.12109693884849548,0.1471031755208969,0.10368600487709045,0.11225007474422455,0.09288395941257477,0.07605885714292526,0.029432641342282295,-0.003970846068114042,-0.10997902601957321,-0.16816724836826324,-0.20323581993579865,-0.19309991598129272,-0.24201291799545288,-0.23875153064727783,-0.25560668110847473,-0.24797414243221283,-0.22994419932365417,-0.18747550249099731,-0.12439507246017456,-0.06193336844444275,0.006660053040832281,0.06829281151294708,0.07385382056236267,0.027824560180306435,0.016327662393450737,0.003777418751269579,-0.028116445988416672,0.10943979024887085,0.13023726642131805,0.12488109618425369,0.17584359645843506,0.19617147743701935,0.19647812843322754,0.2700912356376648,0.27339550852775574,0.25117287039756775,0.19173960387706757,0.14358732104301453,0.11516017466783524,0.06278693675994873,0.013729982078075409,-0.02825053781270981,-0.10645664483308792,-0.11821823567152023,-0.10780145972967148,-0.11890801042318344,-0.1444604992866516,-0.14748503267765045,-0.12814608216285706,-0.16549640893936157,-0.14602215588092804,-0.12263094633817673,-0.07709871232509613,-0.060933660715818405,-0.02251209318637848,0.00502954563125968,-0.0026763773057609797,-0.06085573136806488,-0.10738469660282135,-0.015148201957345009,-0.019528722390532494,0.045817598700523376,0.12572507560253143,0.13085775077342987,0.2377581149339676,0.3521153926849365,0.4008397161960602,0.3890516757965088,0.3046218156814575,0.13020291924476624,0.006355709861963987,-0.05850125849246979,-0.09346592426300049,-0.08664069324731827,0.022921357303857803,0.01684986799955368,0.015638254582881927,0.043717287480831146,-0.00804282259196043,-0.08349021524190903,-0.1396947205066681,-0.20332035422325134,-0.2853602468967438,-0.25200989842414856,-0.16545170545578003,-0.0907701924443245,-0.06135142967104912,-0.005560714285820723,-0.04236758500337601,-0.055967479944229126,-0.18191532790660858,-0.28034189343452454,-0.22220659255981445,-0.17694488167762756,-0.14049650728702545,-0.08118569105863571,-0.05810317024588585,-0.005469558294862509,0.09184753149747849,0.14658379554748535,0.05935724452137947,0.09366277605295181,0.021740278229117393,-0.004797554574906826,-0.05776563659310341,-0.10402287542819977,-0.16236333549022675,-0.1714954376220703,-0.10388905555009842,0.024043085053563118,0.0753597617149353,0.10899852961301804,0.1112346351146698,0.0324215367436409,0.021617364138364792,-0.06691617518663406,-0.10850850492715836,0.01669435016810894,0.15779350697994232,0.22371692955493927,0.23472318053245544,0.25025472044944763,0.11121919006109238,-0.007797303143888712,-0.0007820928585715592,-0.05077075958251953,0.017786802724003792,0.08132634311914444,0.14779424667358398,0.3068109452724457,0.3037969470024109,0.25298428535461426,0.10832420736551285,0.0088982954621315,-0.06307806074619293,-0.11174456775188446,-0.11987648159265518,-0.19289718568325043,-0.1472925990819931,-0.10596712678670883,-0.10918249934911728,-0.05250382795929909,-0.00795429665595293,-0.02997550182044506,0.014776374213397503,0.08487486094236374,0.14895713329315186,0.1512145698070526,0.19625967741012573,0.29126110672950745,0.28597700595855713,0.3298279047012329,0.25810542702674866,0.2731674313545227,0.32070571184158325,0.3058088719844818,0.17909754812717438,0.05182517319917679,0.019892632961273193,-0.03087591752409935,0.00012037366832373664,-0.016648171469569206,-0.01588026061654091,0.03503931686282158,0.046045247465372086,-0.0055187297984957695,-0.1665572226047516,-0.27257445454597473,-0.3066527247428894,-0.40765872597694397,-0.5051140785217285,-0.5167397856712341,-0.46288129687309265,-0.2191115766763687,-0.1588694155216217,-0.018468670547008514,-0.027889179065823555,-0.086287721991539,-0.06255964189767838,-0.08431311696767807,-0.09366815537214279,0.007392087019979954,0.11106279492378235,0.2291506975889206,0.17787903547286987,0.15495146811008453,0.24717620015144348,0.14014199376106262,0.1148964986205101,0.010196960531175137,-0.12788863480091095,-0.028792131692171097,0.023001667112112045,0.00863140169531107,0.009247011505067348,-0.009132086299359798,-0.09018489718437195,-0.13667434453964233,-0.125920832157135,-0.14093174040317535,-0.02855505421757698,0.07137361913919449,0.06690827757120132,-0.016601737588644028,-0.05587184056639671,-0.05966245010495186,0.01910111866891384,0.06111377105116844,0.148031085729599,0.15690867602825165,0.19433340430259705,0.19250528514385223,0.30372852087020874,0.1779581755399704,0.10475791990756989,0.1374606192111969,0.0603719986975193,0.04221200942993164,0.15524357557296753,0.22441217303276062,0.33840444684028625,0.2865180969238281,-0.0030426476150751114,-0.18440723419189453,-0.39522597193717957,-0.07100404798984528,0.18488313257694244,0.14057929813861847,0.13455641269683838,-0.15122006833553314,-0.27637797594070435,-0.15722310543060303,-0.0461038313806057,-0.329587459564209,-0.15734906494617462,0.06551388651132584,0.11940556019544601,0.22718891501426697,0.550538957118988],\"yaxis\":\"y\",\"type\":\"scatter\"},{\"mode\":\"lines\",\"name\":\"chain3\",\"x\":[0,1,2,3,4,5,6,7,8,9,10,11,12,13,14,15,16,17,18,19,20,21,22,23,24,25,26,27,28,29,30,31,32,33,34,35,36,37,38,39,40,41,42,43,44,45,46,47,48,49,50,51,52,53,54,55,56,57,58,59,60,61,62,63,64,65,66,67,68,69,70,71,72,73,74,75,76,77,78,79,80,81,82,83,84,85,86,87,88,89,90,91,92,93,94,95,96,97,98,99,100,101,102,103,104,105,106,107,108,109,110,111,112,113,114,115,116,117,118,119,120,121,122,123,124,125,126,127,128,129,130,131,132,133,134,135,136,137,138,139,140,141,142,143,144,145,146,147,148,149,150,151,152,153,154,155,156,157,158,159,160,161,162,163,164,165,166,167,168,169,170,171,172,173,174,175,176,177,178,179,180,181,182,183,184,185,186,187,188,189,190,191,192,193,194,195,196,197,198,199,200,201,202,203,204,205,206,207,208,209,210,211,212,213,214,215,216,217,218,219,220,221,222,223,224,225,226,227,228,229,230,231,232,233,234,235,236,237,238,239,240,241,242,243,244,245,246,247,248,249,250,251,252,253,254,255,256,257,258,259,260,261,262,263,264,265,266,267,268,269,270,271,272,273,274,275,276,277,278,279,280,281,282,283,284,285,286,287,288,289,290,291,292,293,294,295,296,297,298,299,300,301,302,303,304,305,306,307,308,309,310,311,312,313,314,315,316,317,318,319,320,321,322,323,324,325,326,327,328,329,330,331,332,333,334,335,336,337,338,339,340,341,342,343,344,345,346,347,348,349,350,351,352,353,354,355,356,357,358,359,360,361,362,363,364,365,366,367,368,369,370,371,372,373,374,375,376,377,378,379,380,381,382,383,384,385,386,387,388,389,390,391,392,393,394,395,396,397,398,399,400,401,402,403,404,405,406,407,408,409,410,411,412,413,414,415,416,417,418,419,420,421,422,423,424,425,426,427,428,429,430,431,432,433,434,435,436,437,438,439,440,441,442,443,444,445,446,447,448,449,450,451,452,453,454,455,456,457,458,459,460,461,462,463,464,465,466,467,468,469,470,471,472,473,474,475,476,477,478,479,480,481,482,483,484,485,486,487,488,489,490,491,492,493,494,495,496,497,498,499,500,501,502,503,504,505,506,507,508,509,510,511,512,513,514,515,516,517,518,519,520,521,522,523,524,525,526,527,528,529,530,531,532,533,534,535,536,537,538,539,540,541,542,543,544,545,546,547,548,549,550,551,552,553,554,555,556,557,558,559,560,561,562,563,564,565,566,567,568,569,570,571,572,573,574,575,576,577,578,579,580,581,582,583,584,585,586,587,588,589,590,591,592,593,594,595,596,597,598,599,600,601,602,603,604,605,606,607,608,609,610,611,612,613,614,615,616,617,618,619,620,621,622,623,624,625,626,627,628,629,630,631,632,633,634,635,636,637,638,639,640,641,642,643,644,645,646,647,648,649,650,651,652,653,654,655,656,657,658,659,660,661,662,663,664,665,666,667,668,669,670,671,672,673,674,675,676,677,678,679,680,681,682,683,684,685,686,687,688,689,690,691,692,693,694,695,696,697,698,699,700,701,702,703,704,705,706,707,708,709,710,711,712,713,714,715,716,717,718,719,720,721,722,723,724,725,726,727,728,729,730,731,732,733,734,735,736,737,738,739,740,741,742,743,744,745,746,747,748,749,750,751,752,753,754,755,756,757,758,759,760,761,762,763,764,765,766,767,768,769,770,771,772,773,774,775,776,777,778,779,780,781,782,783,784,785,786,787,788,789,790,791,792,793,794,795,796,797,798,799,800,801,802,803,804,805,806,807,808,809,810,811,812,813,814,815,816,817,818,819,820,821,822,823,824,825,826,827,828,829,830,831,832,833,834,835,836,837,838,839,840,841,842,843,844,845,846,847,848,849,850,851,852,853,854,855,856,857,858,859,860,861,862,863,864,865,866,867,868,869,870,871,872,873,874,875,876,877,878,879,880,881,882,883,884,885,886,887,888,889,890,891,892,893,894,895,896,897,898,899,900,901,902,903,904,905,906,907,908,909,910,911,912,913,914,915,916,917,918,919,920,921,922,923,924,925,926,927,928,929,930,931,932,933,934,935,936,937,938,939,940,941,942,943,944,945,946,947,948,949,950,951,952,953,954,955,956,957,958,959,960,961,962,963,964,965,966,967,968,969,970,971,972,973,974,975,976,977,978,979,980,981,982,983,984,985,986,987,988,989,990,991,992,993,994,995,996,997,998,999],\"xaxis\":\"x\",\"y\":[0.9989999532699585,0.611375093460083,0.36888208985328674,0.2506965398788452,0.18909868597984314,0.13001631200313568,0.09732639789581299,0.07855236530303955,0.06399784237146378,0.07823135703802109,0.0829022079706192,0.051568739116191864,0.048399340361356735,0.023422138765454292,0.028821146115660667,0.04317439720034599,0.024130871519446373,0.0048561398871243,0.028375837951898575,0.030198195949196815,-0.003242453560233116,0.012592104263603687,0.02953185886144638,0.04231875389814377,0.058289479464292526,0.05889781937003136,0.04523185268044472,0.018496360629796982,-6.0142581787658855e-05,0.0005224060732871294,0.0013499310007318854,0.019273100420832634,0.04739446938037872,0.06985839456319809,0.05181358754634857,0.0459304042160511,0.02308824099600315,-0.003971779718995094,-0.018840640783309937,-0.029574759304523468,-0.05596700683236122,-0.05906883627176285,-0.11611750721931458,-0.11661268770694733,-0.08547013998031616,-0.060180701315402985,-0.027945084497332573,-0.012163502164185047,0.029515516012907028,0.0007855169824324548,-0.02408180758357048,-0.04884573072195053,-0.031763989478349686,-0.026575235649943352,-0.06741871684789658,-0.09812995046377182,-0.08438614755868912,-0.09285350143909454,-0.054880984127521515,-0.037604235112667084,-0.04022986814379692,-0.051193997263908386,-0.04045507311820984,-0.031369563192129135,-0.02603171020746231,0.027226347476243973,0.03295024484395981,0.0509004145860672,0.04422625154256821,0.061273444443941116,0.049389977008104324,0.036781467497348785,-0.0055327038280665874,0.0033332586754113436,0.02930729277431965,0.04220046103000641,0.024124257266521454,0.031160106882452965,0.011026476509869099,0.04194403439760208,0.006995087023824453,-0.011383969336748123,-0.02494991570711136,-0.028354443609714508,-0.00411510793492198,0.026166630908846855,0.027006668969988823,0.032041285187006,0.03593166172504425,0.06016337871551514,0.046076126396656036,0.001192114781588316,0.01798611879348755,0.033284712582826614,0.049669861793518066,0.0585455596446991,0.03748477250337601,0.014924334362149239,0.012525055557489395,0.0074212984181940556,0.01920238323509693,-0.001690185279585421,0.0009819751139730215,-0.008558952249586582,0.0032129050232470036,-0.010401463136076927,-0.010642876848578453,-0.02809697389602661,-0.02610057033598423,-0.05400843545794487,-0.032326050102710724,-0.03493458405137062,-0.01859942264854908,-0.02591131441295147,-0.03596780076622963,-0.07299932092428207,-0.1073017343878746,-0.076003797352314,-0.04853954166173935,-0.049733638763427734,-0.08221401274204254,-0.087464839220047,-0.06568164378404617,-0.07517079263925552,-0.09205020219087601,-0.07505004107952118,-0.06441247463226318,-0.04287170618772507,-0.029052508994936943,-0.02122967131435871,-0.01628701202571392,0.0015940136509016156,-0.010147425346076488,-0.016490262001752853,-0.007113616447895765,0.020662996917963028,0.018447458744049072,-0.005346848629415035,-0.014263269491493702,-0.05342965945601463,-0.06511177867650986,-0.07348500937223434,-0.06744005531072617,-0.040415842086076736,-0.015520849265158176,-0.010650861077010632,-0.014785025268793106,-0.05737581104040146,-0.07603432983160019,-0.06086518615484238,-0.0660705715417862,-0.06660616397857666,-0.05025988817214966,-0.03300921618938446,0.0010378167498856783,0.004818938206881285,0.00786106288433075,-0.017387477681040764,-0.00831048097461462,-0.022901086136698723,-0.009395100176334381,0.0022765956819057465,0.0025194056797772646,0.04602174460887909,0.08348830044269562,0.0915408581495285,0.04473515972495079,0.06642889976501465,0.017853157594799995,-0.007981608621776104,-0.00876527652144432,-0.01293822843581438,-0.03141055628657341,-0.026500370353460312,-0.037126339972019196,-0.03149545192718506,-0.04757175222039223,-0.017309589311480522,-0.011297744698822498,-0.015178237110376358,-0.06787917017936707,-0.0701187252998352,-0.04065559059381485,-0.03322606906294823,-0.03229302540421486,-0.015788553282618523,-0.03546911105513573,-0.0178134236484766,-0.024896088987588882,0.018873387947678566,-0.013362433761358261,-0.07783214002847672,-0.08462167531251907,-0.09214594215154648,-0.08932103216648102,-0.09854350239038467,-0.07327862828969955,-0.0174547228962183,0.000478580710478127,-0.000331230869051069,0.01964062824845314,0.04512607306241989,0.0585082545876503,0.025943465530872345,0.02247942052781582,-0.01963224448263645,-0.07658796012401581,-0.12206816673278809,-0.10099256038665771,-0.09442458301782608,-0.07074697315692902,-0.07476390898227692,-0.07098764926195145,-0.05668521299958229,-0.05831572785973549,-0.07636453211307526,-0.07830573618412018,-0.07977078855037689,-0.07857225835323334,-0.02077530324459076,0.032958611845970154,0.04545701667666435,0.05420733615756035,0.07000285387039185,0.058617543429136276,0.05692049115896225,-0.002472732914611697,-0.03354949504137039,-0.02720322646200657,-0.0005518333637155592,0.03580085188150406,0.03368036076426506,0.027308117598295212,0.03515448421239853,0.04331723600625992,0.07780403643846512,0.05433611199259758,0.03734297305345535,0.03706078231334686,0.019216759130358696,-0.025996027514338493,-0.03386874496936798,-0.038523562252521515,-0.05121699720621109,-0.027217911556363106,-0.027219414710998535,-0.02877003699541092,-0.00910326186567545,0.046264905482530594,0.0579446516931057,0.05894383415579796,0.060593754053115845,0.05498382821679115,0.028904467821121216,0.05793805047869682,0.05171746015548706,0.06685173511505127,0.09275548160076141,0.10353341698646545,0.10102535039186478,0.108294278383255,0.07420239597558975,0.0737527459859848,0.07007716596126556,0.032301727682352066,-0.01789657399058342,0.0027822626288980246,0.036144036799669266,0.07412205636501312,0.09064944833517075,0.0965842604637146,0.06956741958856583,0.06524215638637543,0.07731695473194122,0.05771168693900108,0.010464551858603954,-0.011211133562028408,-0.013901271857321262,-0.044442515820264816,-0.03499867022037506,-0.06550128757953644,-0.08097823709249496,-0.07639753073453903,-0.02713783271610737,-0.009240065701305866,-0.00805896520614624,-0.0018803542479872704,0.010375162586569786,0.01776997745037079,0.04833664372563362,0.03268205001950264,0.012150928378105164,0.03347666561603546,0.022480841726064682,0.0369361974298954,0.05191897973418236,0.053073715418577194,0.06826944649219513,0.077278733253479,0.0718013271689415,0.08225218951702118,0.07583200186491013,0.04926379770040512,0.011996060609817505,0.04080628603696823,-0.0022665977012366056,0.02138683944940567,0.07466684281826019,0.0668376013636589,0.05772899463772774,0.0298352912068367,-0.018530094996094704,-0.050162024796009064,-0.056802891194820404,-0.005106247030198574,-0.02807021141052246,-0.04790831357240677,-0.041884150356054306,-0.02134750224649906,-0.004014160484075546,0.02031315676867962,0.027683723717927933,0.06630924344062805,0.06360352039337158,0.034571412950754166,0.023217612877488136,0.004370408598333597,0.05002395436167717,0.06417389959096909,0.028261765837669373,0.01808696985244751,0.01989690028131008,0.06379435211420059,0.10757090896368027,0.08662546426057816,0.059762489050626755,0.07289833575487137,0.09290813654661179,0.06127339228987694,0.017554359510540962,-0.03852496296167374,-0.08385995030403137,-0.09428438544273376,-0.11739636957645416,-0.11058297753334045,-0.11020539700984955,-0.10722032189369202,-0.11423425376415253,-0.1259705275297165,-0.14526624977588654,-0.12072667479515076,-0.1262659728527069,-0.08633963018655777,-0.08238928020000458,-0.04035419225692749,-0.013154219835996628,0.018059730529785156,0.03161872550845146,0.007589991670101881,0.02275565266609192,0.05151856318116188,0.04098886623978615,0.059733569622039795,0.056254032999277115,0.02586447447538376,0.0016007054364308715,0.03281696140766144,0.05258602648973465,0.04428289085626602,0.07744935899972916,-0.00043562331120483577,-0.06984855979681015,-0.0946129709482193,-0.09575451165437698,-0.08815483748912811,-0.07190017402172089,-0.06600972265005112,-0.051870714873075485,-0.0344843827188015,-0.0018104403279721737,-0.008386009372770786,-0.02646227926015854,-0.04005953297019005,-0.02915622852742672,-0.00909594539552927,0.014661150053143501,0.028982626274228096,0.05470504239201546,0.05292140319943428,0.05296500399708748,0.022678857669234276,0.0128685487434268,-0.022646848112344742,0.006405712105333805,0.016653096303343773,0.02300572209060192,0.0037176599726080894,-0.008730550296604633,-0.010118447244167328,-0.039388932287693024,-0.06435923278331757,-0.06994331628084183,-0.014251179061830044,0.02481381967663765,-0.0047157215885818005,-0.006796714849770069,0.022762717679142952,0.038176607340574265,0.0640733391046524,0.039144229143857956,0.019755370914936066,0.03686928004026413,0.0910109356045723,0.08795710653066635,0.08480867743492126,0.09298724681138992,0.04483272507786751,0.02257905900478363,-0.03385772183537483,-0.025587335228919983,-0.06548772752285004,-0.04407021403312683,-0.05070881173014641,-0.03586949035525322,-0.05711153894662857,-0.04992828145623207,-0.03771229088306427,-0.02802460826933384,-0.04399455338716507,-0.08831967413425446,-0.1093817725777626,-0.10236478596925735,-0.07616622000932693,-0.06489784270524979,-0.09722277522087097,-0.07067827880382538,-0.0825909972190857,-0.07416442036628723,-0.07229253649711609,-0.09284545481204987,-0.08465490490198135,-0.03360627964138985,-0.02390805445611477,-0.06840267032384872,-0.05731350928544998,-0.04666021093726158,-0.050967469811439514,-0.07784869521856308,-0.08611569553613663,-0.0992373451590538,-0.08491730690002441,-0.08703542500734329,-0.09949726611375809,-0.10291597247123718,-0.0837860256433487,-0.08934315294027328,-0.0311456136405468,-0.024498796090483665,-0.002898242324590683,-0.009477093815803528,0.021892258897423744,0.007521830033510923,-0.03299592435359955,-0.06217223033308983,-0.023940155282616615,-0.02412034571170807,-0.04093930125236511,-0.034808266907930374,-0.03350196033716202,-0.03292142599821091,-0.03854849562048912,-0.014858395792543888,0.01341304648667574,0.0360330268740654,0.06416977196931839,0.018542075529694557,-0.003380062524229288,-0.02928144671022892,-0.04288996383547783,-0.017136313021183014,-0.024151885882019997,0.0066218869760632515,0.02378459833562374,0.032752443104982376,-0.004785908851772547,-0.010490908287465572,0.03914479911327362,0.0594775453209877,0.07303912937641144,0.08363090455532074,0.09366661310195923,0.13949435949325562,0.14475446939468384,0.1540408730506897,0.10212552547454834,0.0645836889743805,0.04127466306090355,0.0763593539595604,0.1213502287864685,0.10130733251571655,0.0594981387257576,0.009285883978009224,0.003250399837270379,0.005199424922466278,0.055708274245262146,0.09072241187095642,0.06095397472381592,0.07316269725561142,0.05442209169268608,0.03682497516274452,-0.030730392783880234,-0.03154945373535156,-0.0064332750625908375,-0.0274300929158926,-0.028704211115837097,-0.001447838731110096,-0.0002605628687888384,0.010093949735164642,-0.005098583642393351,0.03355848416686058,0.05980033800005913,0.015675650909543037,0.004167844541370869,0.03583719581365585,0.02174769900739193,-0.0010675090597942472,-0.012573499232530594,0.015049904584884644,-0.03177375718951225,-0.02549038454890251,0.012673715129494667,0.06866823881864548,0.00594896636903286,-0.015162045136094093,0.0017408864805474877,0.003063717158511281,-0.017583772540092468,-0.012961357831954956,-0.00995473563671112,-0.02093745768070221,-0.06283407658338547,-0.062099967151880264,-0.055350370705127716,0.0002545753086451441,0.025524303317070007,0.023017048835754395,0.01797891966998577,-0.0536184087395668,-0.11004453152418137,-0.0840919017791748,-0.07935766130685806,-0.07732879370450974,-0.027558080852031708,-0.008531044237315655,-0.01764656975865364,-0.029755670577287674,0.03625345602631569,0.05241633206605911,0.06602872908115387,0.06015655770897865,0.03461815416812897,0.0423709861934185,0.026475852355360985,0.014654782600700855,0.0008343328954651952,-0.008191053755581379,0.03330107405781746,0.08441902697086334,0.08939006179571152,0.06313719600439072,0.0695461556315422,0.05770142748951912,0.06518801301717758,0.036085452884435654,0.0021585433278232813,0.004054018296301365,0.017558757215738297,-0.0019403467886149883,-0.004755785688757896,0.011264094151556492,0.01725945807993412,-0.02924095280468464,-0.016894089058041573,0.006295726168900728,0.06312096863985062,0.04141400754451752,0.04487055167555809,0.06989973038434982,0.06419608741998672,0.023119177669286728,0.004400038626044989,0.05315416678786278,0.07658163458108902,0.1102721244096756,0.13302581012248993,0.05027550086379051,0.03321461006999016,0.024728910997509956,0.008135506883263588,-0.0026139451656490564,-0.020792054012417793,-0.060952749103307724,-0.036440689116716385,-0.07881869375705719,-0.06657639890909195,-0.06933031231164932,-0.05664457008242607,-0.07122457027435303,-0.037607014179229736,-0.06126776337623596,-0.07079966366291046,-0.04427463561296463,-0.043088603764772415,-0.04949706047773361,-0.04681411385536194,-0.02702832780778408,-0.046701572835445404,-0.024676768109202385,0.00914953276515007,0.019152086228132248,0.01667567901313305,-0.04268227890133858,-0.0989149883389473,-0.031759344041347504,-0.003125666407868266,-0.000917832599952817,0.019270580261945724,0.03891240432858467,0.02256617322564125,-0.0044919829815626144,-0.00412149541079998,0.007854543626308441,0.008368903771042824,0.041947267949581146,0.06327890604734421,0.10251473635435104,0.10446260869503021,0.09270830452442169,0.04349913448095322,-0.029042299836874008,-0.08589162677526474,-0.053061507642269135,0.002259206958115101,-0.014106741175055504,-0.008891692385077477,0.011829285882413387,0.0067062960006296635,-0.03080694004893303,-0.09152545779943466,-0.04896046966314316,-0.02690489962697029,-0.011221255175769329,0.02050638571381569,0.01792818121612072,0.009319043718278408,-0.0392213799059391,-0.01755426824092865,-0.03826170414686203,0.02627958543598652,0.062432147562503815,0.09867836534976959,0.12099600583314896,0.1090688556432724,0.09047450870275497,0.07357431948184967,0.08372331410646439,0.10209295153617859,0.12125707417726517,0.10593598335981369,0.08848032355308533,0.05369740352034569,0.039006106555461884,0.039865151047706604,0.038845282047986984,-0.0007138217333704233,-0.02630767412483692,0.038448452949523926,0.05068116635084152,0.029155323281884193,0.009270106442272663,-0.0043742298148572445,-0.0038788008969277143,-0.007192857563495636,0.02501671575009823,-0.0029905515257269144,-0.06580516695976257,-0.09583711624145508,-0.08061425387859344,-0.0759316086769104,-0.05702988803386688,-0.03758004307746887,-0.012577706016600132,-0.007262573577463627,-0.03773713856935501,-0.020389311015605927,-0.03900172933936119,-0.1000865027308464,-0.09955782443284988,-0.12790237367153168,-0.17307624220848083,-0.13625605404376984,-0.02943236567080021,0.049997858703136444,0.011765892617404461,0.0017639418365433812,0.01948423497378826,0.005354827269911766,-0.08483263105154037,-0.08565349131822586,-0.09546662122011185,-0.09794557094573975,-0.1058587059378624,-0.03516785055398941,-0.009908889420330524,-0.038149867206811905,-0.0568818524479866,0.013385673053562641,0.045426562428474426,-0.0045937784016132355,-0.045690104365348816,-0.029736777767539024,-0.020851457491517067,-0.0904516950249672,-0.10650768131017685,-0.06290332227945328,-0.04094766825437546,-0.03524685278534889,-0.018097229301929474,0.018005510792136192,0.02678733505308628,0.012684275396168232,-0.034385718405246735,-0.0656265988945961,-0.07890592515468597,-0.06251294165849686,-0.03728097304701805,-0.0186674315482378,-0.01387051958590746,-0.046983130276203156,0.0006328996969386935,0.002054860582575202,0.000599951483309269,-0.0008443518890999258,-0.013802980072796345,0.009482717141509056,0.05431191995739937,0.08910955488681793,0.07816791534423828,0.1203228160738945,0.13551954925060272,0.11302738636732101,0.06958582997322083,0.06299012899398804,0.0916915237903595,0.06865178793668747,0.04536520689725876,0.007461681496351957,-0.042434725910425186,-0.07150677591562271,-0.14311835169792175,-0.16355228424072266,-0.17326654493808746,-0.08579254895448685,-0.045086391270160675,0.019190743565559387,0.04507012292742729,0.022871194407343864,0.0032589207403361797,-0.03184058144688606,0.01129058562219143,-0.037775956094264984,-0.008524497970938683,0.022328320890665054,0.0380590558052063,0.0031246680300682783,-0.005951052997261286,0.00556369312107563,0.00614555599167943,0.03940999507904053,-0.014640651643276215,-0.03057691641151905,0.009009340777993202,-0.006266754120588303,-0.09477554261684418,-0.16694191098213196,-0.17308396100997925,-0.20638251304626465,-0.1894281804561615,-0.16389858722686768,-0.16998130083084106,-0.13054333627223969,-0.11141004413366318,-0.07878098636865616,-0.029871400445699692,0.009334535337984562,0.05683555081486702,0.06092476472258568,0.11958235502243042,0.11225692927837372,0.041430797427892685,-0.0053178961388766766,0.002461480675265193,-0.03440987691283226,-0.05514058470726013,-0.02211935631930828,0.019786927849054337,0.030988050624728203,-0.006707219872623682,-0.029802231118083,-0.10178482532501221,-0.1228749230504036,-0.08815725892782211,-0.06923408061265945,-0.0564209520816803,-0.009320978075265884,0.0021823830902576447,-0.001977965235710144,-0.05848115682601929,-0.07698915153741837,-0.08755913376808167,-0.06936991214752197,-0.06331044435501099,-0.04701052978634834,-0.001495835487730801,-0.039221007376909256,-0.08475015312433243,-0.09360027313232422,-0.03434354066848755,-0.09586586058139801,-0.07451652735471725,-0.008837491273880005,0.040376629680395126,-0.04507144168019295,-0.1221594363451004,-0.11173636466264725,-0.09540454298257828,-0.08679860085248947,-0.07290927320718765,0.006342433393001556,0.05986549332737923,0.047065723687410355,-0.01325192954391241,-0.04964463785290718,0.06314042955636978,0.08090884238481522,0.0762857049703598,0.10284366458654404,0.1208563968539238,0.10897785425186157,0.08693142235279083,0.06134562939405441,-0.003284169128164649,-0.03169064596295357,-0.04185038059949875,0.008774052374064922,0.02481045387685299,0.060416415333747864,0.0687437653541565,0.0974455326795578,0.10357598960399628,0.06411904841661453,0.047112662345170975,0.07622094452381134,0.05006171017885208,0.027359433472156525,-0.007952485233545303,0.0720774456858635,0.09446641802787781,0.0898495614528656,0.05916135758161545,0.035129643976688385,0.03582971170544624,0.015741892158985138,-0.028354566544294357,-0.11592140793800354,-0.08839148283004761,-0.059084732085466385,-0.05205637216567993,-0.1443607658147812,-0.14016172289848328,-0.05963229760527611,-0.0020058557856827974,0.0034210251178592443,-0.011404239572584629,-0.03923352435231209,-0.13556905090808868,-0.15318210422992706,-0.14714667201042175,-0.11052549630403519,-0.08799964189529419,-0.045900773257017136,0.04828419163823128,0.026987506076693535,0.05870635434985161,0.08978535234928131,0.12429281324148178,0.040119607001543045,-0.05053597688674927,-0.10797934234142303,-0.14015725255012512,-0.1583065539598465,-0.20707087218761444,-0.1900050789117813,-0.2006879597902298,-0.19824720919132233,-0.12316517531871796,0.011007496155798435,-0.0458802729845047,-0.12129340320825577,-0.17340095341205597,-0.14016936719417572,-0.13277871906757355,-0.08038053661584854,-0.03292228281497955,0.04261145368218422,-0.03258028253912926,-0.04653351753950119,-0.07500703632831573,-0.0010312915546819568,0.05402659252285957,0.139844611287117,0.1180046945810318,0.14339081943035126,0.12863817811012268,0.13544674217700958,0.11264193058013916,0.07606535404920578,0.01638961210846901,0.018267564475536346,0.04225794970989227,0.10192130506038666,0.13832010328769684,0.15270300209522247,0.11840357631444931,0.0209206435829401,-0.1395634412765503,-0.17140375077724457,-0.14863386750221252,-0.05513080582022667,0.014760459773242474,0.13617832958698273,0.23669153451919556,0.21913349628448486,0.07911555469036102,-0.10256364941596985,-0.11856018006801605,-0.21571460366249084,-0.20869717001914978,-0.151179239153862,0.02579593099653721,0.13097450137138367,0.1694125384092331,0.17311137914657593,0.102089062333107,-0.006752318236976862,-0.0864330604672432,-0.07185852527618408,-0.06926766037940979,-0.09139079600572586,-0.06647035479545593,-0.016660558059811592,-0.06704826653003693,-0.12819530069828033,-0.2011871039867401,-0.17811258137226105,-0.17982885241508484,-0.2188696712255478,-0.26659560203552246,-0.24871504306793213,-0.16917598247528076,-0.08115018159151077,-0.1033545657992363,-0.12644758820533752,-0.13641314208507538,-0.14551281929016113,-0.22472059726715088,-0.18307918310165405,-0.1963781714439392,-0.11363832652568817,-0.12933461368083954,-0.010524485260248184,0.11650008708238602,0.19565488398075104,0.13229553401470184,0.04480092227458954,-0.08996735513210297,-0.11760802567005157,-0.046656034886837006,0.07271891087293625,0.15027476847171783,0.1693672388792038,0.10523206740617752,0.06675095111131668,-0.014906750991940498,-0.03369424119591713,0.013027478009462357,-0.06212485581636429,-0.05657476186752319,-0.045474570244550705,-0.17504799365997314],\"yaxis\":\"y\",\"type\":\"scatter\"}],                        {\"annotations\":[{\"font\":{\"size\":16},\"showarrow\":false,\"text\":\"theta() autocorr for []\",\"x\":0.225,\"xanchor\":\"center\",\"xref\":\"paper\",\"y\":1.0,\"yanchor\":\"bottom\",\"yref\":\"paper\"}],\"template\":{\"data\":{\"barpolar\":[{\"marker\":{\"line\":{\"color\":\"#E5ECF6\",\"width\":0.5},\"pattern\":{\"fillmode\":\"overlay\",\"size\":10,\"solidity\":0.2}},\"type\":\"barpolar\"}],\"bar\":[{\"error_x\":{\"color\":\"#2a3f5f\"},\"error_y\":{\"color\":\"#2a3f5f\"},\"marker\":{\"line\":{\"color\":\"#E5ECF6\",\"width\":0.5},\"pattern\":{\"fillmode\":\"overlay\",\"size\":10,\"solidity\":0.2}},\"type\":\"bar\"}],\"carpet\":[{\"aaxis\":{\"endlinecolor\":\"#2a3f5f\",\"gridcolor\":\"white\",\"linecolor\":\"white\",\"minorgridcolor\":\"white\",\"startlinecolor\":\"#2a3f5f\"},\"baxis\":{\"endlinecolor\":\"#2a3f5f\",\"gridcolor\":\"white\",\"linecolor\":\"white\",\"minorgridcolor\":\"white\",\"startlinecolor\":\"#2a3f5f\"},\"type\":\"carpet\"}],\"choropleth\":[{\"colorbar\":{\"outlinewidth\":0,\"ticks\":\"\"},\"type\":\"choropleth\"}],\"contourcarpet\":[{\"colorbar\":{\"outlinewidth\":0,\"ticks\":\"\"},\"type\":\"contourcarpet\"}],\"contour\":[{\"colorbar\":{\"outlinewidth\":0,\"ticks\":\"\"},\"colorscale\":[[0.0,\"#0d0887\"],[0.1111111111111111,\"#46039f\"],[0.2222222222222222,\"#7201a8\"],[0.3333333333333333,\"#9c179e\"],[0.4444444444444444,\"#bd3786\"],[0.5555555555555556,\"#d8576b\"],[0.6666666666666666,\"#ed7953\"],[0.7777777777777778,\"#fb9f3a\"],[0.8888888888888888,\"#fdca26\"],[1.0,\"#f0f921\"]],\"type\":\"contour\"}],\"heatmapgl\":[{\"colorbar\":{\"outlinewidth\":0,\"ticks\":\"\"},\"colorscale\":[[0.0,\"#0d0887\"],[0.1111111111111111,\"#46039f\"],[0.2222222222222222,\"#7201a8\"],[0.3333333333333333,\"#9c179e\"],[0.4444444444444444,\"#bd3786\"],[0.5555555555555556,\"#d8576b\"],[0.6666666666666666,\"#ed7953\"],[0.7777777777777778,\"#fb9f3a\"],[0.8888888888888888,\"#fdca26\"],[1.0,\"#f0f921\"]],\"type\":\"heatmapgl\"}],\"heatmap\":[{\"colorbar\":{\"outlinewidth\":0,\"ticks\":\"\"},\"colorscale\":[[0.0,\"#0d0887\"],[0.1111111111111111,\"#46039f\"],[0.2222222222222222,\"#7201a8\"],[0.3333333333333333,\"#9c179e\"],[0.4444444444444444,\"#bd3786\"],[0.5555555555555556,\"#d8576b\"],[0.6666666666666666,\"#ed7953\"],[0.7777777777777778,\"#fb9f3a\"],[0.8888888888888888,\"#fdca26\"],[1.0,\"#f0f921\"]],\"type\":\"heatmap\"}],\"histogram2dcontour\":[{\"colorbar\":{\"outlinewidth\":0,\"ticks\":\"\"},\"colorscale\":[[0.0,\"#0d0887\"],[0.1111111111111111,\"#46039f\"],[0.2222222222222222,\"#7201a8\"],[0.3333333333333333,\"#9c179e\"],[0.4444444444444444,\"#bd3786\"],[0.5555555555555556,\"#d8576b\"],[0.6666666666666666,\"#ed7953\"],[0.7777777777777778,\"#fb9f3a\"],[0.8888888888888888,\"#fdca26\"],[1.0,\"#f0f921\"]],\"type\":\"histogram2dcontour\"}],\"histogram2d\":[{\"colorbar\":{\"outlinewidth\":0,\"ticks\":\"\"},\"colorscale\":[[0.0,\"#0d0887\"],[0.1111111111111111,\"#46039f\"],[0.2222222222222222,\"#7201a8\"],[0.3333333333333333,\"#9c179e\"],[0.4444444444444444,\"#bd3786\"],[0.5555555555555556,\"#d8576b\"],[0.6666666666666666,\"#ed7953\"],[0.7777777777777778,\"#fb9f3a\"],[0.8888888888888888,\"#fdca26\"],[1.0,\"#f0f921\"]],\"type\":\"histogram2d\"}],\"histogram\":[{\"marker\":{\"pattern\":{\"fillmode\":\"overlay\",\"size\":10,\"solidity\":0.2}},\"type\":\"histogram\"}],\"mesh3d\":[{\"colorbar\":{\"outlinewidth\":0,\"ticks\":\"\"},\"type\":\"mesh3d\"}],\"parcoords\":[{\"line\":{\"colorbar\":{\"outlinewidth\":0,\"ticks\":\"\"}},\"type\":\"parcoords\"}],\"pie\":[{\"automargin\":true,\"type\":\"pie\"}],\"scatter3d\":[{\"line\":{\"colorbar\":{\"outlinewidth\":0,\"ticks\":\"\"}},\"marker\":{\"colorbar\":{\"outlinewidth\":0,\"ticks\":\"\"}},\"type\":\"scatter3d\"}],\"scattercarpet\":[{\"marker\":{\"colorbar\":{\"outlinewidth\":0,\"ticks\":\"\"}},\"type\":\"scattercarpet\"}],\"scattergeo\":[{\"marker\":{\"colorbar\":{\"outlinewidth\":0,\"ticks\":\"\"}},\"type\":\"scattergeo\"}],\"scattergl\":[{\"marker\":{\"colorbar\":{\"outlinewidth\":0,\"ticks\":\"\"}},\"type\":\"scattergl\"}],\"scattermapbox\":[{\"marker\":{\"colorbar\":{\"outlinewidth\":0,\"ticks\":\"\"}},\"type\":\"scattermapbox\"}],\"scatterpolargl\":[{\"marker\":{\"colorbar\":{\"outlinewidth\":0,\"ticks\":\"\"}},\"type\":\"scatterpolargl\"}],\"scatterpolar\":[{\"marker\":{\"colorbar\":{\"outlinewidth\":0,\"ticks\":\"\"}},\"type\":\"scatterpolar\"}],\"scatter\":[{\"marker\":{\"colorbar\":{\"outlinewidth\":0,\"ticks\":\"\"}},\"type\":\"scatter\"}],\"scatterternary\":[{\"marker\":{\"colorbar\":{\"outlinewidth\":0,\"ticks\":\"\"}},\"type\":\"scatterternary\"}],\"surface\":[{\"colorbar\":{\"outlinewidth\":0,\"ticks\":\"\"},\"colorscale\":[[0.0,\"#0d0887\"],[0.1111111111111111,\"#46039f\"],[0.2222222222222222,\"#7201a8\"],[0.3333333333333333,\"#9c179e\"],[0.4444444444444444,\"#bd3786\"],[0.5555555555555556,\"#d8576b\"],[0.6666666666666666,\"#ed7953\"],[0.7777777777777778,\"#fb9f3a\"],[0.8888888888888888,\"#fdca26\"],[1.0,\"#f0f921\"]],\"type\":\"surface\"}],\"table\":[{\"cells\":{\"fill\":{\"color\":\"#EBF0F8\"},\"line\":{\"color\":\"white\"}},\"header\":{\"fill\":{\"color\":\"#C8D4E3\"},\"line\":{\"color\":\"white\"}},\"type\":\"table\"}]},\"layout\":{\"annotationdefaults\":{\"arrowcolor\":\"#2a3f5f\",\"arrowhead\":0,\"arrowwidth\":1},\"autotypenumbers\":\"strict\",\"coloraxis\":{\"colorbar\":{\"outlinewidth\":0,\"ticks\":\"\"}},\"colorscale\":{\"diverging\":[[0,\"#8e0152\"],[0.1,\"#c51b7d\"],[0.2,\"#de77ae\"],[0.3,\"#f1b6da\"],[0.4,\"#fde0ef\"],[0.5,\"#f7f7f7\"],[0.6,\"#e6f5d0\"],[0.7,\"#b8e186\"],[0.8,\"#7fbc41\"],[0.9,\"#4d9221\"],[1,\"#276419\"]],\"sequential\":[[0.0,\"#0d0887\"],[0.1111111111111111,\"#46039f\"],[0.2222222222222222,\"#7201a8\"],[0.3333333333333333,\"#9c179e\"],[0.4444444444444444,\"#bd3786\"],[0.5555555555555556,\"#d8576b\"],[0.6666666666666666,\"#ed7953\"],[0.7777777777777778,\"#fb9f3a\"],[0.8888888888888888,\"#fdca26\"],[1.0,\"#f0f921\"]],\"sequentialminus\":[[0.0,\"#0d0887\"],[0.1111111111111111,\"#46039f\"],[0.2222222222222222,\"#7201a8\"],[0.3333333333333333,\"#9c179e\"],[0.4444444444444444,\"#bd3786\"],[0.5555555555555556,\"#d8576b\"],[0.6666666666666666,\"#ed7953\"],[0.7777777777777778,\"#fb9f3a\"],[0.8888888888888888,\"#fdca26\"],[1.0,\"#f0f921\"]]},\"colorway\":[\"#636efa\",\"#EF553B\",\"#00cc96\",\"#ab63fa\",\"#FFA15A\",\"#19d3f3\",\"#FF6692\",\"#B6E880\",\"#FF97FF\",\"#FECB52\"],\"font\":{\"color\":\"#2a3f5f\"},\"geo\":{\"bgcolor\":\"white\",\"lakecolor\":\"white\",\"landcolor\":\"#E5ECF6\",\"showlakes\":true,\"showland\":true,\"subunitcolor\":\"white\"},\"hoverlabel\":{\"align\":\"left\"},\"hovermode\":\"closest\",\"mapbox\":{\"style\":\"light\"},\"paper_bgcolor\":\"white\",\"plot_bgcolor\":\"#E5ECF6\",\"polar\":{\"angularaxis\":{\"gridcolor\":\"white\",\"linecolor\":\"white\",\"ticks\":\"\"},\"bgcolor\":\"#E5ECF6\",\"radialaxis\":{\"gridcolor\":\"white\",\"linecolor\":\"white\",\"ticks\":\"\"}},\"scene\":{\"xaxis\":{\"backgroundcolor\":\"#E5ECF6\",\"gridcolor\":\"white\",\"gridwidth\":2,\"linecolor\":\"white\",\"showbackground\":true,\"ticks\":\"\",\"zerolinecolor\":\"white\"},\"yaxis\":{\"backgroundcolor\":\"#E5ECF6\",\"gridcolor\":\"white\",\"gridwidth\":2,\"linecolor\":\"white\",\"showbackground\":true,\"ticks\":\"\",\"zerolinecolor\":\"white\"},\"zaxis\":{\"backgroundcolor\":\"#E5ECF6\",\"gridcolor\":\"white\",\"gridwidth\":2,\"linecolor\":\"white\",\"showbackground\":true,\"ticks\":\"\",\"zerolinecolor\":\"white\"}},\"shapedefaults\":{\"line\":{\"color\":\"#2a3f5f\"}},\"ternary\":{\"aaxis\":{\"gridcolor\":\"white\",\"linecolor\":\"white\",\"ticks\":\"\"},\"baxis\":{\"gridcolor\":\"white\",\"linecolor\":\"white\",\"ticks\":\"\"},\"bgcolor\":\"#E5ECF6\",\"caxis\":{\"gridcolor\":\"white\",\"linecolor\":\"white\",\"ticks\":\"\"}},\"title\":{\"x\":0.05},\"xaxis\":{\"automargin\":true,\"gridcolor\":\"white\",\"linecolor\":\"white\",\"ticks\":\"\",\"title\":{\"standoff\":15},\"zerolinecolor\":\"white\",\"zerolinewidth\":2},\"yaxis\":{\"automargin\":true,\"gridcolor\":\"white\",\"linecolor\":\"white\",\"ticks\":\"\",\"title\":{\"standoff\":15},\"zerolinecolor\":\"white\",\"zerolinewidth\":2}}},\"xaxis\":{\"anchor\":\"y\",\"domain\":[0.0,0.45]},\"yaxis\":{\"anchor\":\"x\",\"domain\":[0.0,1.0]},\"xaxis2\":{\"anchor\":\"y2\",\"domain\":[0.55,1.0]},\"yaxis2\":{\"anchor\":\"x2\",\"domain\":[0.0,1.0]}},                        {\"responsive\": true}                    ).then(function(){\n",
              "                            \n",
              "var gd = document.getElementById('f459f324-40f7-4583-8294-4cec3c7935dc');\n",
              "var x = new MutationObserver(function (mutations, observer) {{\n",
              "        var display = window.getComputedStyle(gd).display;\n",
              "        if (!display || display === 'none') {{\n",
              "            console.log([gd, 'removed!']);\n",
              "            Plotly.purge(gd);\n",
              "            observer.disconnect();\n",
              "        }}\n",
              "}});\n",
              "\n",
              "// Listen for the removal of the full notebook cells\n",
              "var notebookContainer = gd.closest('#notebook-container');\n",
              "if (notebookContainer) {{\n",
              "    x.observe(notebookContainer, {childList: true});\n",
              "}}\n",
              "\n",
              "// Listen for the clearing of the current output cell\n",
              "var outputEl = gd.closest('.output');\n",
              "if (outputEl) {{\n",
              "    x.observe(outputEl, {childList: true});\n",
              "}}\n",
              "\n",
              "                        })                };                            </script>        </div>\n",
              "</body>\n",
              "</html>"
            ]
          },
          "metadata": {}
        }
      ],
      "source": [
        "bm.Diagnostics(samples).plot(display=True);"
      ]
    },
    {
      "cell_type": "markdown",
      "metadata": {
        "originalKey": "a41335ba-40bf-49fd-bdf6-5c2075c44b5e",
        "showInput": false,
        "id": "aOHp_qDcAqfm"
      },
      "source": [
        "The diagnostics output shows two diagnostic plots for individual random variables: trace\n",
        "plots and autocorrelation plots.\n",
        "\n",
        "* Trace plots are simply a time series of values assigned to random variables over each\n",
        "  iteration of inference. The concrete values assigned are usually problem-specific.\n",
        "  However, it's important that these values are \"mixing\" well over time. This means that\n",
        "  they don't tend to get stuck in one region for large periods of time, and that each of\n",
        "  the chains ends up exploring the same space as the other chains throughout the course\n",
        "  of inference.\n",
        "* Autocorrelation plots measure how predictive the last several samples are of the\n",
        "  current sample. Autocorrelation may vary between -1.0 (deterministically\n",
        "  anticorrelated) and 1.0 (deterministically correlated). (We compute autocorrelation\n",
        "  approximately, so it may sometimes exceed these bounds.) In an ideal world, the\n",
        "  current sample is chosen independently of the previous samples: an autocorrelation of\n",
        "  zero. This is not possible in practice, due to stochastic noise and the mechanics of\n",
        "  how inference works.\n",
        "\n",
        "From the trace plots, we see each of the chains are healthy: they don't get stuck, and\n",
        "do not explore a chain-specific subset of the space. From the autocorrelation plots, we\n",
        "see the absolute magnitude of autocorrelation to be very small, often around 0.1,\n",
        "indicating a healthy exploration of the space."
      ]
    },
    {
      "cell_type": "markdown",
      "metadata": {
        "id": "szCDUaIlAqfm"
      },
      "source": [
        "## BMGInference"
      ]
    },
    {
      "cell_type": "markdown",
      "metadata": {
        "id": "_VuGhybsAqfm"
      },
      "source": [
        "Bean Machine Graph (BMG) Inference is an experimental feature of the Bean Machine\n",
        "framework that aims to deliver higher performance for specialized models. The model used\n",
        "in this tutorial represents a static probabilistic graph model and happens to use only\n",
        "features within the language subset supported by `BMGInference`. Currently, however,\n",
        "only Newtonian Monte Carlo (NMC) inference is supported by `BMGInference`. So, as a\n",
        "reference point, the following code reports the time it takes for our basic\n",
        "implementation of NMC to compute the posterior:"
      ]
    },
    {
      "cell_type": "code",
      "execution_count": 16,
      "metadata": {
        "colab": {
          "base_uri": "https://localhost:8080/",
          "height": 179,
          "referenced_widgets": [
            "1a3ac62594784145bfd941a90500f6d5",
            "75070a70b6654cd98dd9b8119f33fff7",
            "6f6b6a36d5b34460a102d62d7bc3a16f",
            "65ff709a74a649ca9964109ac598a295",
            "1afc7bf15c024057a6b35e95dd4876fa",
            "3ee9447f67e542828c83baaaf215890d",
            "fdcd403544ea4b43b72be1174b364370",
            "4ef9b035284e400091bcb2f9bdfa21c4",
            "8ec8adc850ac48659c81b897ee00b5e8",
            "febcce37d45f412295fb58aa7987f293",
            "5d5832a1a3bd470583b90440ffc791a6",
            "ec0e41fde0be4a28bea177955e51b8bb",
            "be47f1a38f4044c2904653d9a27d882d",
            "028a1aaee49142e5aa5f46f46156db4b",
            "08f05c2aa5bc4ee9b80e6410a6dda598",
            "527ef3aaa6ad42e4ab1a41d1914b7d32",
            "b95f152962454d92be841c9dc927feec",
            "63381a6734ac4802b5dd44d0132c7c83",
            "3b9bd729602a469a9e7585e097901577",
            "94db9bff4e7c44a2925e814fac0ccad0",
            "84c8989bd1f34aaf86426bddb99b8213",
            "0d80b11fe0b44e8c9dba31118b4aac41",
            "99d91f2646d64ebfaf9fe4c0eef22432",
            "a5d50b0285d94ff281a4ad3bcfd60d83",
            "997a6082eb56406cbe0ecd756f4c365c",
            "7a58f5c4cc5d418f842a674c2c38dddb",
            "86c3667ba79e49e08316bfbcab5f0792",
            "fe8a9529447342e2835e0eabe62ce977",
            "cf65118ad00d404a87b23e859d96e907",
            "87e1fe217d1f453eb281587506da51ae",
            "49eef199b8b5484c920bc3fbcf1aecc0",
            "665d9246e63d42ffb940ded377377b80",
            "87dee3a7f2f84b948e584ff6a9afc226",
            "97dff74615894f2e8e4cfa57d6338b84",
            "bcea07b3bad54ee4b08b08efbf9d63a0",
            "ed6cb232f5924e45bc80cb31e1e5b0ba",
            "81249418f6504d08a8e1cf86d325581b",
            "2ede327f96af4b33937b8e655f177669",
            "1a1f30df0509418c8157d62ff2bae0e1",
            "f518852ebbc648838f9ac36a016484da",
            "d8f375a0fe24409ebfeccb5ff9de0702",
            "f9ee364d143848e990d4dc131a9357a3",
            "35333d04abec41eb84071971317bfa3c",
            "3200c4026b8f44c9ba5dcc3406d983d9"
          ]
        },
        "id": "HcR9oWwlAqfn",
        "outputId": "a6113b8f-e50d-4984-8b97-a2502e2462e0"
      },
      "outputs": [
        {
          "output_type": "display_data",
          "data": {
            "application/vnd.jupyter.widget-view+json": {
              "model_id": "1a3ac62594784145bfd941a90500f6d5",
              "version_minor": 0,
              "version_major": 2
            },
            "text/plain": [
              "Samples collected:   0%|          | 0/1000 [00:00<?, ?it/s]"
            ]
          },
          "metadata": {
            "application/vnd.jupyter.widget-view+json": {
              "colab": {
                "custom_widget_manager": {
                  "url": "https://ssl.gstatic.com/colaboratory-static/widgets/colab-cdn-widget-manager/a8874ba6619b6106/manager.min.js"
                }
              }
            }
          }
        },
        {
          "output_type": "display_data",
          "data": {
            "application/vnd.jupyter.widget-view+json": {
              "model_id": "0d80b11fe0b44e8c9dba31118b4aac41",
              "version_minor": 0,
              "version_major": 2
            },
            "text/plain": [
              "Samples collected:   0%|          | 0/1000 [00:00<?, ?it/s]"
            ]
          },
          "metadata": {
            "application/vnd.jupyter.widget-view+json": {
              "colab": {
                "custom_widget_manager": {
                  "url": "https://ssl.gstatic.com/colaboratory-static/widgets/colab-cdn-widget-manager/a8874ba6619b6106/manager.min.js"
                }
              }
            }
          }
        },
        {
          "output_type": "display_data",
          "data": {
            "application/vnd.jupyter.widget-view+json": {
              "model_id": "87dee3a7f2f84b948e584ff6a9afc226",
              "version_minor": 0,
              "version_major": 2
            },
            "text/plain": [
              "Samples collected:   0%|          | 0/1000 [00:00<?, ?it/s]"
            ]
          },
          "metadata": {
            "application/vnd.jupyter.widget-view+json": {
              "colab": {
                "custom_widget_manager": {
                  "url": "https://ssl.gstatic.com/colaboratory-static/widgets/colab-cdn-widget-manager/a8874ba6619b6106/manager.min.js"
                }
              }
            }
          }
        },
        {
          "output_type": "display_data",
          "data": {
            "application/vnd.jupyter.widget-view+json": {
              "model_id": "3200c4026b8f44c9ba5dcc3406d983d9",
              "version_minor": 0,
              "version_major": 2
            },
            "text/plain": [
              "Samples collected:   0%|          | 0/1000 [00:00<?, ?it/s]"
            ]
          },
          "metadata": {
            "application/vnd.jupyter.widget-view+json": {
              "colab": {
                "custom_widget_manager": {
                  "url": "https://ssl.gstatic.com/colaboratory-static/widgets/colab-cdn-widget-manager/a8874ba6619b6106/manager.min.js"
                }
              }
            }
          }
        },
        {
          "output_type": "stream",
          "name": "stdout",
          "text": [
            "CPU times: user 8.88 s, sys: 123 ms, total: 9.01 s\n",
            "Wall time: 10.6 s\n"
          ]
        }
      ],
      "source": [
        "%%time\n",
        "samples = bm.SingleSiteNewtonianMonteCarlo().infer(\n",
        "    queries=[theta()],\n",
        "    observations=observations,\n",
        "    num_samples=num_samples,\n",
        "    num_chains=4,\n",
        ")"
      ]
    },
    {
      "cell_type": "markdown",
      "metadata": {
        "id": "J6na57VNAqfn"
      },
      "source": [
        "To run our model using `BMGInference`, the only change needed is the following:"
      ]
    },
    {
      "cell_type": "code",
      "execution_count": 17,
      "metadata": {
        "colab": {
          "base_uri": "https://localhost:8080/"
        },
        "id": "LfVUsL1OAqfn",
        "outputId": "21c11ba0-d903-4ce6-e64c-5405cac074c4"
      },
      "outputs": [
        {
          "output_type": "stream",
          "name": "stdout",
          "text": [
            "CPU times: user 1.13 s, sys: 1.99 ms, total: 1.13 s\n",
            "Wall time: 1.12 s\n"
          ]
        }
      ],
      "source": [
        "%%time\n",
        "from beanmachine.ppl.inference.bmg_inference import BMGInference\n",
        "\n",
        "samples_bmg = BMGInference().infer(\n",
        "    queries=[theta()],\n",
        "    observations=observations,\n",
        "    num_samples=num_samples,\n",
        "    num_chains=4,\n",
        ")"
      ]
    },
    {
      "cell_type": "markdown",
      "metadata": {
        "id": "Y08NLj-bAqfn"
      },
      "source": [
        "Wall time numbers will naturally vary on different platforms, but with with these\n",
        "parameters (model, observations, queries, sample size, and number of chains) speedup on\n",
        "the author's machine is about 40x. Generally speaking, larger speedups are expected with\n",
        "larger sample sizes. More information about `BMGInference` can be found on the website\n",
        "in \"Advanced\" section of the documentation."
      ]
    }
  ],
  "metadata": {
    "kernelspec": {
      "display_name": "Python 3 (ipykernel)",
      "language": "python",
      "name": "python3"
    },
    "language_info": {
      "codemirror_mode": {
        "name": "ipython",
        "version": 3
      },
      "file_extension": ".py",
      "mimetype": "text/x-python",
      "name": "python",
      "nbconvert_exporter": "python",
      "pygments_lexer": "ipython3",
      "version": "3.9.9"
    },
    "colab": {
      "name": "Coin_flipping.ipynb",
      "provenance": []
    },
    "widgets": {
      "application/vnd.jupyter.widget-state+json": {
        "49a25591dac94dbc81daaff3ab503436": {
          "model_module": "@jupyter-widgets/controls",
          "model_name": "HBoxModel",
          "model_module_version": "1.5.0",
          "state": {
            "_view_name": "HBoxView",
            "_dom_classes": [],
            "_model_name": "HBoxModel",
            "_view_module": "@jupyter-widgets/controls",
            "_model_module_version": "1.5.0",
            "_view_count": null,
            "_view_module_version": "1.5.0",
            "box_style": "",
            "layout": "IPY_MODEL_a308b849b1d44b138dce90a6459e799c",
            "_model_module": "@jupyter-widgets/controls",
            "children": [
              "IPY_MODEL_d766a8e963eb469f872650afc35df978",
              "IPY_MODEL_de683a39de3446c7a32711b23cc25b50",
              "IPY_MODEL_e341f0a73c56459297db2e783ade6d75"
            ]
          }
        },
        "a308b849b1d44b138dce90a6459e799c": {
          "model_module": "@jupyter-widgets/base",
          "model_name": "LayoutModel",
          "model_module_version": "1.2.0",
          "state": {
            "_view_name": "LayoutView",
            "grid_template_rows": null,
            "right": null,
            "justify_content": null,
            "_view_module": "@jupyter-widgets/base",
            "overflow": null,
            "_model_module_version": "1.2.0",
            "_view_count": null,
            "flex_flow": null,
            "width": null,
            "min_width": null,
            "border": null,
            "align_items": null,
            "bottom": null,
            "_model_module": "@jupyter-widgets/base",
            "top": null,
            "grid_column": null,
            "overflow_y": null,
            "overflow_x": null,
            "grid_auto_flow": null,
            "grid_area": null,
            "grid_template_columns": null,
            "flex": null,
            "_model_name": "LayoutModel",
            "justify_items": null,
            "grid_row": null,
            "max_height": null,
            "align_content": null,
            "visibility": null,
            "align_self": null,
            "height": null,
            "min_height": null,
            "padding": null,
            "grid_auto_rows": null,
            "grid_gap": null,
            "max_width": null,
            "order": null,
            "_view_module_version": "1.2.0",
            "grid_template_areas": null,
            "object_position": null,
            "object_fit": null,
            "grid_auto_columns": null,
            "margin": null,
            "display": null,
            "left": null
          }
        },
        "d766a8e963eb469f872650afc35df978": {
          "model_module": "@jupyter-widgets/controls",
          "model_name": "HTMLModel",
          "model_module_version": "1.5.0",
          "state": {
            "_view_name": "HTMLView",
            "style": "IPY_MODEL_feee3920fbd44086a02bb2db2b9946c3",
            "_dom_classes": [],
            "description": "",
            "_model_name": "HTMLModel",
            "placeholder": "​",
            "_view_module": "@jupyter-widgets/controls",
            "_model_module_version": "1.5.0",
            "value": "Samples collected: 100%",
            "_view_count": null,
            "_view_module_version": "1.5.0",
            "description_tooltip": null,
            "_model_module": "@jupyter-widgets/controls",
            "layout": "IPY_MODEL_0f4e67ee7e6a42ea9bd4cb51d60dda1d"
          }
        },
        "de683a39de3446c7a32711b23cc25b50": {
          "model_module": "@jupyter-widgets/controls",
          "model_name": "FloatProgressModel",
          "model_module_version": "1.5.0",
          "state": {
            "_view_name": "ProgressView",
            "style": "IPY_MODEL_1b1501fe2c0340069077be28ffaf8730",
            "_dom_classes": [],
            "description": "",
            "_model_name": "FloatProgressModel",
            "bar_style": "success",
            "max": 1000,
            "_view_module": "@jupyter-widgets/controls",
            "_model_module_version": "1.5.0",
            "value": 1000,
            "_view_count": null,
            "_view_module_version": "1.5.0",
            "orientation": "horizontal",
            "min": 0,
            "description_tooltip": null,
            "_model_module": "@jupyter-widgets/controls",
            "layout": "IPY_MODEL_d6f6d1c43abf42a9ac1d424509d42b60"
          }
        },
        "e341f0a73c56459297db2e783ade6d75": {
          "model_module": "@jupyter-widgets/controls",
          "model_name": "HTMLModel",
          "model_module_version": "1.5.0",
          "state": {
            "_view_name": "HTMLView",
            "style": "IPY_MODEL_cfd78543afc644bdbeef07f76b734144",
            "_dom_classes": [],
            "description": "",
            "_model_name": "HTMLModel",
            "placeholder": "​",
            "_view_module": "@jupyter-widgets/controls",
            "_model_module_version": "1.5.0",
            "value": " 1000/1000 [00:01&lt;00:00, 546.13it/s]",
            "_view_count": null,
            "_view_module_version": "1.5.0",
            "description_tooltip": null,
            "_model_module": "@jupyter-widgets/controls",
            "layout": "IPY_MODEL_59342a8a5c1b4112b9714ec2f2e446e2"
          }
        },
        "feee3920fbd44086a02bb2db2b9946c3": {
          "model_module": "@jupyter-widgets/controls",
          "model_name": "DescriptionStyleModel",
          "model_module_version": "1.5.0",
          "state": {
            "_view_name": "StyleView",
            "_model_name": "DescriptionStyleModel",
            "description_width": "",
            "_view_module": "@jupyter-widgets/base",
            "_model_module_version": "1.5.0",
            "_view_count": null,
            "_view_module_version": "1.2.0",
            "_model_module": "@jupyter-widgets/controls"
          }
        },
        "0f4e67ee7e6a42ea9bd4cb51d60dda1d": {
          "model_module": "@jupyter-widgets/base",
          "model_name": "LayoutModel",
          "model_module_version": "1.2.0",
          "state": {
            "_view_name": "LayoutView",
            "grid_template_rows": null,
            "right": null,
            "justify_content": null,
            "_view_module": "@jupyter-widgets/base",
            "overflow": null,
            "_model_module_version": "1.2.0",
            "_view_count": null,
            "flex_flow": null,
            "width": null,
            "min_width": null,
            "border": null,
            "align_items": null,
            "bottom": null,
            "_model_module": "@jupyter-widgets/base",
            "top": null,
            "grid_column": null,
            "overflow_y": null,
            "overflow_x": null,
            "grid_auto_flow": null,
            "grid_area": null,
            "grid_template_columns": null,
            "flex": null,
            "_model_name": "LayoutModel",
            "justify_items": null,
            "grid_row": null,
            "max_height": null,
            "align_content": null,
            "visibility": null,
            "align_self": null,
            "height": null,
            "min_height": null,
            "padding": null,
            "grid_auto_rows": null,
            "grid_gap": null,
            "max_width": null,
            "order": null,
            "_view_module_version": "1.2.0",
            "grid_template_areas": null,
            "object_position": null,
            "object_fit": null,
            "grid_auto_columns": null,
            "margin": null,
            "display": null,
            "left": null
          }
        },
        "1b1501fe2c0340069077be28ffaf8730": {
          "model_module": "@jupyter-widgets/controls",
          "model_name": "ProgressStyleModel",
          "model_module_version": "1.5.0",
          "state": {
            "_view_name": "StyleView",
            "_model_name": "ProgressStyleModel",
            "description_width": "",
            "_view_module": "@jupyter-widgets/base",
            "_model_module_version": "1.5.0",
            "_view_count": null,
            "_view_module_version": "1.2.0",
            "bar_color": null,
            "_model_module": "@jupyter-widgets/controls"
          }
        },
        "d6f6d1c43abf42a9ac1d424509d42b60": {
          "model_module": "@jupyter-widgets/base",
          "model_name": "LayoutModel",
          "model_module_version": "1.2.0",
          "state": {
            "_view_name": "LayoutView",
            "grid_template_rows": null,
            "right": null,
            "justify_content": null,
            "_view_module": "@jupyter-widgets/base",
            "overflow": null,
            "_model_module_version": "1.2.0",
            "_view_count": null,
            "flex_flow": null,
            "width": null,
            "min_width": null,
            "border": null,
            "align_items": null,
            "bottom": null,
            "_model_module": "@jupyter-widgets/base",
            "top": null,
            "grid_column": null,
            "overflow_y": null,
            "overflow_x": null,
            "grid_auto_flow": null,
            "grid_area": null,
            "grid_template_columns": null,
            "flex": null,
            "_model_name": "LayoutModel",
            "justify_items": null,
            "grid_row": null,
            "max_height": null,
            "align_content": null,
            "visibility": null,
            "align_self": null,
            "height": null,
            "min_height": null,
            "padding": null,
            "grid_auto_rows": null,
            "grid_gap": null,
            "max_width": null,
            "order": null,
            "_view_module_version": "1.2.0",
            "grid_template_areas": null,
            "object_position": null,
            "object_fit": null,
            "grid_auto_columns": null,
            "margin": null,
            "display": null,
            "left": null
          }
        },
        "cfd78543afc644bdbeef07f76b734144": {
          "model_module": "@jupyter-widgets/controls",
          "model_name": "DescriptionStyleModel",
          "model_module_version": "1.5.0",
          "state": {
            "_view_name": "StyleView",
            "_model_name": "DescriptionStyleModel",
            "description_width": "",
            "_view_module": "@jupyter-widgets/base",
            "_model_module_version": "1.5.0",
            "_view_count": null,
            "_view_module_version": "1.2.0",
            "_model_module": "@jupyter-widgets/controls"
          }
        },
        "59342a8a5c1b4112b9714ec2f2e446e2": {
          "model_module": "@jupyter-widgets/base",
          "model_name": "LayoutModel",
          "model_module_version": "1.2.0",
          "state": {
            "_view_name": "LayoutView",
            "grid_template_rows": null,
            "right": null,
            "justify_content": null,
            "_view_module": "@jupyter-widgets/base",
            "overflow": null,
            "_model_module_version": "1.2.0",
            "_view_count": null,
            "flex_flow": null,
            "width": null,
            "min_width": null,
            "border": null,
            "align_items": null,
            "bottom": null,
            "_model_module": "@jupyter-widgets/base",
            "top": null,
            "grid_column": null,
            "overflow_y": null,
            "overflow_x": null,
            "grid_auto_flow": null,
            "grid_area": null,
            "grid_template_columns": null,
            "flex": null,
            "_model_name": "LayoutModel",
            "justify_items": null,
            "grid_row": null,
            "max_height": null,
            "align_content": null,
            "visibility": null,
            "align_self": null,
            "height": null,
            "min_height": null,
            "padding": null,
            "grid_auto_rows": null,
            "grid_gap": null,
            "max_width": null,
            "order": null,
            "_view_module_version": "1.2.0",
            "grid_template_areas": null,
            "object_position": null,
            "object_fit": null,
            "grid_auto_columns": null,
            "margin": null,
            "display": null,
            "left": null
          }
        },
        "3eb1cfe4353d4498ae1ef62377fdeea0": {
          "model_module": "@jupyter-widgets/controls",
          "model_name": "ProgressStyleModel",
          "model_module_version": "1.5.0",
          "state": {
            "_view_name": "StyleView",
            "_model_name": "ProgressStyleModel",
            "description_width": "",
            "_view_module": "@jupyter-widgets/base",
            "_model_module_version": "1.5.0",
            "_view_count": null,
            "_view_module_version": "1.2.0",
            "bar_color": null,
            "_model_module": "@jupyter-widgets/controls"
          }
        },
        "82189acab539464db46a500b76fbe953": {
          "model_module": "@jupyter-widgets/base",
          "model_name": "LayoutModel",
          "model_module_version": "1.2.0",
          "state": {
            "_view_name": "LayoutView",
            "grid_template_rows": null,
            "right": null,
            "justify_content": null,
            "_view_module": "@jupyter-widgets/base",
            "overflow": null,
            "_model_module_version": "1.2.0",
            "_view_count": null,
            "flex_flow": null,
            "width": null,
            "min_width": null,
            "border": null,
            "align_items": null,
            "bottom": null,
            "_model_module": "@jupyter-widgets/base",
            "top": null,
            "grid_column": null,
            "overflow_y": null,
            "overflow_x": null,
            "grid_auto_flow": null,
            "grid_area": null,
            "grid_template_columns": null,
            "flex": null,
            "_model_name": "LayoutModel",
            "justify_items": null,
            "grid_row": null,
            "max_height": null,
            "align_content": null,
            "visibility": null,
            "align_self": null,
            "height": null,
            "min_height": null,
            "padding": null,
            "grid_auto_rows": null,
            "grid_gap": null,
            "max_width": null,
            "order": null,
            "_view_module_version": "1.2.0",
            "grid_template_areas": null,
            "object_position": null,
            "object_fit": null,
            "grid_auto_columns": null,
            "margin": null,
            "display": null,
            "left": null
          }
        },
        "9152a0e62067421d99d7343f5efafdef": {
          "model_module": "@jupyter-widgets/controls",
          "model_name": "DescriptionStyleModel",
          "model_module_version": "1.5.0",
          "state": {
            "_view_name": "StyleView",
            "_model_name": "DescriptionStyleModel",
            "description_width": "",
            "_view_module": "@jupyter-widgets/base",
            "_model_module_version": "1.5.0",
            "_view_count": null,
            "_view_module_version": "1.2.0",
            "_model_module": "@jupyter-widgets/controls"
          }
        },
        "893f8f13a50648f59748a0c1d723dd08": {
          "model_module": "@jupyter-widgets/base",
          "model_name": "LayoutModel",
          "model_module_version": "1.2.0",
          "state": {
            "_view_name": "LayoutView",
            "grid_template_rows": null,
            "right": null,
            "justify_content": null,
            "_view_module": "@jupyter-widgets/base",
            "overflow": null,
            "_model_module_version": "1.2.0",
            "_view_count": null,
            "flex_flow": null,
            "width": null,
            "min_width": null,
            "border": null,
            "align_items": null,
            "bottom": null,
            "_model_module": "@jupyter-widgets/base",
            "top": null,
            "grid_column": null,
            "overflow_y": null,
            "overflow_x": null,
            "grid_auto_flow": null,
            "grid_area": null,
            "grid_template_columns": null,
            "flex": null,
            "_model_name": "LayoutModel",
            "justify_items": null,
            "grid_row": null,
            "max_height": null,
            "align_content": null,
            "visibility": null,
            "align_self": null,
            "height": null,
            "min_height": null,
            "padding": null,
            "grid_auto_rows": null,
            "grid_gap": null,
            "max_width": null,
            "order": null,
            "_view_module_version": "1.2.0",
            "grid_template_areas": null,
            "object_position": null,
            "object_fit": null,
            "grid_auto_columns": null,
            "margin": null,
            "display": null,
            "left": null
          }
        },
        "1ee8b8858bcb4719a94c1a87f73a7547": {
          "model_module": "@jupyter-widgets/controls",
          "model_name": "DescriptionStyleModel",
          "model_module_version": "1.5.0",
          "state": {
            "_view_name": "StyleView",
            "_model_name": "DescriptionStyleModel",
            "description_width": "",
            "_view_module": "@jupyter-widgets/base",
            "_model_module_version": "1.5.0",
            "_view_count": null,
            "_view_module_version": "1.2.0",
            "_model_module": "@jupyter-widgets/controls"
          }
        },
        "2af5552af1f84ac6b3686db3ff9be038": {
          "model_module": "@jupyter-widgets/base",
          "model_name": "LayoutModel",
          "model_module_version": "1.2.0",
          "state": {
            "_view_name": "LayoutView",
            "grid_template_rows": null,
            "right": null,
            "justify_content": null,
            "_view_module": "@jupyter-widgets/base",
            "overflow": null,
            "_model_module_version": "1.2.0",
            "_view_count": null,
            "flex_flow": null,
            "width": null,
            "min_width": null,
            "border": null,
            "align_items": null,
            "bottom": null,
            "_model_module": "@jupyter-widgets/base",
            "top": null,
            "grid_column": null,
            "overflow_y": null,
            "overflow_x": null,
            "grid_auto_flow": null,
            "grid_area": null,
            "grid_template_columns": null,
            "flex": null,
            "_model_name": "LayoutModel",
            "justify_items": null,
            "grid_row": null,
            "max_height": null,
            "align_content": null,
            "visibility": null,
            "align_self": null,
            "height": null,
            "min_height": null,
            "padding": null,
            "grid_auto_rows": null,
            "grid_gap": null,
            "max_width": null,
            "order": null,
            "_view_module_version": "1.2.0",
            "grid_template_areas": null,
            "object_position": null,
            "object_fit": null,
            "grid_auto_columns": null,
            "margin": null,
            "display": null,
            "left": null
          }
        },
        "6c0fedc8d2644469a09ee31c8863d902": {
          "model_module": "@jupyter-widgets/base",
          "model_name": "LayoutModel",
          "model_module_version": "1.2.0",
          "state": {
            "_view_name": "LayoutView",
            "grid_template_rows": null,
            "right": null,
            "justify_content": null,
            "_view_module": "@jupyter-widgets/base",
            "overflow": null,
            "_model_module_version": "1.2.0",
            "_view_count": null,
            "flex_flow": null,
            "width": null,
            "min_width": null,
            "border": null,
            "align_items": null,
            "bottom": null,
            "_model_module": "@jupyter-widgets/base",
            "top": null,
            "grid_column": null,
            "overflow_y": null,
            "overflow_x": null,
            "grid_auto_flow": null,
            "grid_area": null,
            "grid_template_columns": null,
            "flex": null,
            "_model_name": "LayoutModel",
            "justify_items": null,
            "grid_row": null,
            "max_height": null,
            "align_content": null,
            "visibility": null,
            "align_self": null,
            "height": null,
            "min_height": null,
            "padding": null,
            "grid_auto_rows": null,
            "grid_gap": null,
            "max_width": null,
            "order": null,
            "_view_module_version": "1.2.0",
            "grid_template_areas": null,
            "object_position": null,
            "object_fit": null,
            "grid_auto_columns": null,
            "margin": null,
            "display": null,
            "left": null
          }
        },
        "93a87d86f4a349429414152160027e4b": {
          "model_module": "@jupyter-widgets/controls",
          "model_name": "HTMLModel",
          "model_module_version": "1.5.0",
          "state": {
            "_view_name": "HTMLView",
            "style": "IPY_MODEL_9152a0e62067421d99d7343f5efafdef",
            "_dom_classes": [],
            "description": "",
            "_model_name": "HTMLModel",
            "placeholder": "​",
            "_view_module": "@jupyter-widgets/controls",
            "_model_module_version": "1.5.0",
            "value": "Samples collected: 100%",
            "_view_count": null,
            "_view_module_version": "1.5.0",
            "description_tooltip": null,
            "_model_module": "@jupyter-widgets/controls",
            "layout": "IPY_MODEL_893f8f13a50648f59748a0c1d723dd08"
          }
        },
        "a54bbdf13c944bfc8607b3fa07227db2": {
          "model_module": "@jupyter-widgets/controls",
          "model_name": "FloatProgressModel",
          "model_module_version": "1.5.0",
          "state": {
            "_view_name": "ProgressView",
            "style": "IPY_MODEL_3eb1cfe4353d4498ae1ef62377fdeea0",
            "_dom_classes": [],
            "description": "",
            "_model_name": "FloatProgressModel",
            "bar_style": "success",
            "max": 1000,
            "_view_module": "@jupyter-widgets/controls",
            "_model_module_version": "1.5.0",
            "value": 1000,
            "_view_count": null,
            "_view_module_version": "1.5.0",
            "orientation": "horizontal",
            "min": 0,
            "description_tooltip": null,
            "_model_module": "@jupyter-widgets/controls",
            "layout": "IPY_MODEL_82189acab539464db46a500b76fbe953"
          }
        },
        "7a91eed867f24ec4a81e1474371ccf1a": {
          "model_module": "@jupyter-widgets/controls",
          "model_name": "HTMLModel",
          "model_module_version": "1.5.0",
          "state": {
            "_view_name": "HTMLView",
            "style": "IPY_MODEL_1ee8b8858bcb4719a94c1a87f73a7547",
            "_dom_classes": [],
            "description": "",
            "_model_name": "HTMLModel",
            "placeholder": "​",
            "_view_module": "@jupyter-widgets/controls",
            "_model_module_version": "1.5.0",
            "value": " 1000/1000 [00:01&lt;00:00, 565.16it/s]",
            "_view_count": null,
            "_view_module_version": "1.5.0",
            "description_tooltip": null,
            "_model_module": "@jupyter-widgets/controls",
            "layout": "IPY_MODEL_2af5552af1f84ac6b3686db3ff9be038"
          }
        },
        "cb71ada5a0644bd1a68506c74ede783b": {
          "model_module": "@jupyter-widgets/controls",
          "model_name": "HBoxModel",
          "model_module_version": "1.5.0",
          "state": {
            "_view_name": "HBoxView",
            "_dom_classes": [],
            "_model_name": "HBoxModel",
            "_view_module": "@jupyter-widgets/controls",
            "_model_module_version": "1.5.0",
            "_view_count": null,
            "_view_module_version": "1.5.0",
            "box_style": "",
            "layout": "IPY_MODEL_6c0fedc8d2644469a09ee31c8863d902",
            "_model_module": "@jupyter-widgets/controls",
            "children": [
              "IPY_MODEL_93a87d86f4a349429414152160027e4b",
              "IPY_MODEL_a54bbdf13c944bfc8607b3fa07227db2",
              "IPY_MODEL_7a91eed867f24ec4a81e1474371ccf1a"
            ]
          }
        },
        "5403552ae38c41f8925a3e3fc5e0dbbc": {
          "model_module": "@jupyter-widgets/controls",
          "model_name": "ProgressStyleModel",
          "model_module_version": "1.5.0",
          "state": {
            "_view_name": "StyleView",
            "_model_name": "ProgressStyleModel",
            "description_width": "",
            "_view_module": "@jupyter-widgets/base",
            "_model_module_version": "1.5.0",
            "_view_count": null,
            "_view_module_version": "1.2.0",
            "bar_color": null,
            "_model_module": "@jupyter-widgets/controls"
          }
        },
        "daf3cad8c75544a6b0b2fd1d4a12844f": {
          "model_module": "@jupyter-widgets/base",
          "model_name": "LayoutModel",
          "model_module_version": "1.2.0",
          "state": {
            "_view_name": "LayoutView",
            "grid_template_rows": null,
            "right": null,
            "justify_content": null,
            "_view_module": "@jupyter-widgets/base",
            "overflow": null,
            "_model_module_version": "1.2.0",
            "_view_count": null,
            "flex_flow": null,
            "width": null,
            "min_width": null,
            "border": null,
            "align_items": null,
            "bottom": null,
            "_model_module": "@jupyter-widgets/base",
            "top": null,
            "grid_column": null,
            "overflow_y": null,
            "overflow_x": null,
            "grid_auto_flow": null,
            "grid_area": null,
            "grid_template_columns": null,
            "flex": null,
            "_model_name": "LayoutModel",
            "justify_items": null,
            "grid_row": null,
            "max_height": null,
            "align_content": null,
            "visibility": null,
            "align_self": null,
            "height": null,
            "min_height": null,
            "padding": null,
            "grid_auto_rows": null,
            "grid_gap": null,
            "max_width": null,
            "order": null,
            "_view_module_version": "1.2.0",
            "grid_template_areas": null,
            "object_position": null,
            "object_fit": null,
            "grid_auto_columns": null,
            "margin": null,
            "display": null,
            "left": null
          }
        },
        "57e46a2999f74fa4878f2810e48e70e8": {
          "model_module": "@jupyter-widgets/controls",
          "model_name": "DescriptionStyleModel",
          "model_module_version": "1.5.0",
          "state": {
            "_view_name": "StyleView",
            "_model_name": "DescriptionStyleModel",
            "description_width": "",
            "_view_module": "@jupyter-widgets/base",
            "_model_module_version": "1.5.0",
            "_view_count": null,
            "_view_module_version": "1.2.0",
            "_model_module": "@jupyter-widgets/controls"
          }
        },
        "9c159c3f2f6a4898ba0f4dc47d43fd6b": {
          "model_module": "@jupyter-widgets/base",
          "model_name": "LayoutModel",
          "model_module_version": "1.2.0",
          "state": {
            "_view_name": "LayoutView",
            "grid_template_rows": null,
            "right": null,
            "justify_content": null,
            "_view_module": "@jupyter-widgets/base",
            "overflow": null,
            "_model_module_version": "1.2.0",
            "_view_count": null,
            "flex_flow": null,
            "width": null,
            "min_width": null,
            "border": null,
            "align_items": null,
            "bottom": null,
            "_model_module": "@jupyter-widgets/base",
            "top": null,
            "grid_column": null,
            "overflow_y": null,
            "overflow_x": null,
            "grid_auto_flow": null,
            "grid_area": null,
            "grid_template_columns": null,
            "flex": null,
            "_model_name": "LayoutModel",
            "justify_items": null,
            "grid_row": null,
            "max_height": null,
            "align_content": null,
            "visibility": null,
            "align_self": null,
            "height": null,
            "min_height": null,
            "padding": null,
            "grid_auto_rows": null,
            "grid_gap": null,
            "max_width": null,
            "order": null,
            "_view_module_version": "1.2.0",
            "grid_template_areas": null,
            "object_position": null,
            "object_fit": null,
            "grid_auto_columns": null,
            "margin": null,
            "display": null,
            "left": null
          }
        },
        "0514b539f9684c349ff5fd9ebf2a709b": {
          "model_module": "@jupyter-widgets/controls",
          "model_name": "DescriptionStyleModel",
          "model_module_version": "1.5.0",
          "state": {
            "_view_name": "StyleView",
            "_model_name": "DescriptionStyleModel",
            "description_width": "",
            "_view_module": "@jupyter-widgets/base",
            "_model_module_version": "1.5.0",
            "_view_count": null,
            "_view_module_version": "1.2.0",
            "_model_module": "@jupyter-widgets/controls"
          }
        },
        "bb73be74b54a4329b9b134aba6c7bdbf": {
          "model_module": "@jupyter-widgets/base",
          "model_name": "LayoutModel",
          "model_module_version": "1.2.0",
          "state": {
            "_view_name": "LayoutView",
            "grid_template_rows": null,
            "right": null,
            "justify_content": null,
            "_view_module": "@jupyter-widgets/base",
            "overflow": null,
            "_model_module_version": "1.2.0",
            "_view_count": null,
            "flex_flow": null,
            "width": null,
            "min_width": null,
            "border": null,
            "align_items": null,
            "bottom": null,
            "_model_module": "@jupyter-widgets/base",
            "top": null,
            "grid_column": null,
            "overflow_y": null,
            "overflow_x": null,
            "grid_auto_flow": null,
            "grid_area": null,
            "grid_template_columns": null,
            "flex": null,
            "_model_name": "LayoutModel",
            "justify_items": null,
            "grid_row": null,
            "max_height": null,
            "align_content": null,
            "visibility": null,
            "align_self": null,
            "height": null,
            "min_height": null,
            "padding": null,
            "grid_auto_rows": null,
            "grid_gap": null,
            "max_width": null,
            "order": null,
            "_view_module_version": "1.2.0",
            "grid_template_areas": null,
            "object_position": null,
            "object_fit": null,
            "grid_auto_columns": null,
            "margin": null,
            "display": null,
            "left": null
          }
        },
        "874e3f887f2749fca223fd1f4812f728": {
          "model_module": "@jupyter-widgets/base",
          "model_name": "LayoutModel",
          "model_module_version": "1.2.0",
          "state": {
            "_view_name": "LayoutView",
            "grid_template_rows": null,
            "right": null,
            "justify_content": null,
            "_view_module": "@jupyter-widgets/base",
            "overflow": null,
            "_model_module_version": "1.2.0",
            "_view_count": null,
            "flex_flow": null,
            "width": null,
            "min_width": null,
            "border": null,
            "align_items": null,
            "bottom": null,
            "_model_module": "@jupyter-widgets/base",
            "top": null,
            "grid_column": null,
            "overflow_y": null,
            "overflow_x": null,
            "grid_auto_flow": null,
            "grid_area": null,
            "grid_template_columns": null,
            "flex": null,
            "_model_name": "LayoutModel",
            "justify_items": null,
            "grid_row": null,
            "max_height": null,
            "align_content": null,
            "visibility": null,
            "align_self": null,
            "height": null,
            "min_height": null,
            "padding": null,
            "grid_auto_rows": null,
            "grid_gap": null,
            "max_width": null,
            "order": null,
            "_view_module_version": "1.2.0",
            "grid_template_areas": null,
            "object_position": null,
            "object_fit": null,
            "grid_auto_columns": null,
            "margin": null,
            "display": null,
            "left": null
          }
        },
        "6be98c5ffd2d4bd78198cc82c2420827": {
          "model_module": "@jupyter-widgets/controls",
          "model_name": "HTMLModel",
          "model_module_version": "1.5.0",
          "state": {
            "_view_name": "HTMLView",
            "style": "IPY_MODEL_57e46a2999f74fa4878f2810e48e70e8",
            "_dom_classes": [],
            "description": "",
            "_model_name": "HTMLModel",
            "placeholder": "​",
            "_view_module": "@jupyter-widgets/controls",
            "_model_module_version": "1.5.0",
            "value": "Samples collected: 100%",
            "_view_count": null,
            "_view_module_version": "1.5.0",
            "description_tooltip": null,
            "_model_module": "@jupyter-widgets/controls",
            "layout": "IPY_MODEL_9c159c3f2f6a4898ba0f4dc47d43fd6b"
          }
        },
        "db90dee38528495d977d4d60af01eb23": {
          "model_module": "@jupyter-widgets/controls",
          "model_name": "FloatProgressModel",
          "model_module_version": "1.5.0",
          "state": {
            "_view_name": "ProgressView",
            "style": "IPY_MODEL_5403552ae38c41f8925a3e3fc5e0dbbc",
            "_dom_classes": [],
            "description": "",
            "_model_name": "FloatProgressModel",
            "bar_style": "success",
            "max": 1000,
            "_view_module": "@jupyter-widgets/controls",
            "_model_module_version": "1.5.0",
            "value": 1000,
            "_view_count": null,
            "_view_module_version": "1.5.0",
            "orientation": "horizontal",
            "min": 0,
            "description_tooltip": null,
            "_model_module": "@jupyter-widgets/controls",
            "layout": "IPY_MODEL_daf3cad8c75544a6b0b2fd1d4a12844f"
          }
        },
        "443bd591e08b48fcbf30dc8eb3ec473f": {
          "model_module": "@jupyter-widgets/controls",
          "model_name": "HTMLModel",
          "model_module_version": "1.5.0",
          "state": {
            "_view_name": "HTMLView",
            "style": "IPY_MODEL_0514b539f9684c349ff5fd9ebf2a709b",
            "_dom_classes": [],
            "description": "",
            "_model_name": "HTMLModel",
            "placeholder": "​",
            "_view_module": "@jupyter-widgets/controls",
            "_model_module_version": "1.5.0",
            "value": " 1000/1000 [00:01&lt;00:00, 572.64it/s]",
            "_view_count": null,
            "_view_module_version": "1.5.0",
            "description_tooltip": null,
            "_model_module": "@jupyter-widgets/controls",
            "layout": "IPY_MODEL_bb73be74b54a4329b9b134aba6c7bdbf"
          }
        },
        "e8e979abb30b4f2fa1506b838d58db79": {
          "model_module": "@jupyter-widgets/controls",
          "model_name": "HBoxModel",
          "model_module_version": "1.5.0",
          "state": {
            "_view_name": "HBoxView",
            "_dom_classes": [],
            "_model_name": "HBoxModel",
            "_view_module": "@jupyter-widgets/controls",
            "_model_module_version": "1.5.0",
            "_view_count": null,
            "_view_module_version": "1.5.0",
            "box_style": "",
            "layout": "IPY_MODEL_874e3f887f2749fca223fd1f4812f728",
            "_model_module": "@jupyter-widgets/controls",
            "children": [
              "IPY_MODEL_6be98c5ffd2d4bd78198cc82c2420827",
              "IPY_MODEL_db90dee38528495d977d4d60af01eb23",
              "IPY_MODEL_443bd591e08b48fcbf30dc8eb3ec473f"
            ]
          }
        },
        "1d19268eff2047b8b43964e4b63491fc": {
          "model_module": "@jupyter-widgets/controls",
          "model_name": "ProgressStyleModel",
          "model_module_version": "1.5.0",
          "state": {
            "_view_name": "StyleView",
            "_model_name": "ProgressStyleModel",
            "description_width": "",
            "_view_module": "@jupyter-widgets/base",
            "_model_module_version": "1.5.0",
            "_view_count": null,
            "_view_module_version": "1.2.0",
            "bar_color": null,
            "_model_module": "@jupyter-widgets/controls"
          }
        },
        "ec8a47dc8c8a4cbf9e81230d55abc26e": {
          "model_module": "@jupyter-widgets/base",
          "model_name": "LayoutModel",
          "model_module_version": "1.2.0",
          "state": {
            "_view_name": "LayoutView",
            "grid_template_rows": null,
            "right": null,
            "justify_content": null,
            "_view_module": "@jupyter-widgets/base",
            "overflow": null,
            "_model_module_version": "1.2.0",
            "_view_count": null,
            "flex_flow": null,
            "width": null,
            "min_width": null,
            "border": null,
            "align_items": null,
            "bottom": null,
            "_model_module": "@jupyter-widgets/base",
            "top": null,
            "grid_column": null,
            "overflow_y": null,
            "overflow_x": null,
            "grid_auto_flow": null,
            "grid_area": null,
            "grid_template_columns": null,
            "flex": null,
            "_model_name": "LayoutModel",
            "justify_items": null,
            "grid_row": null,
            "max_height": null,
            "align_content": null,
            "visibility": null,
            "align_self": null,
            "height": null,
            "min_height": null,
            "padding": null,
            "grid_auto_rows": null,
            "grid_gap": null,
            "max_width": null,
            "order": null,
            "_view_module_version": "1.2.0",
            "grid_template_areas": null,
            "object_position": null,
            "object_fit": null,
            "grid_auto_columns": null,
            "margin": null,
            "display": null,
            "left": null
          }
        },
        "1caeb481670f4ace8cec7e7dcc8f9e29": {
          "model_module": "@jupyter-widgets/controls",
          "model_name": "DescriptionStyleModel",
          "model_module_version": "1.5.0",
          "state": {
            "_view_name": "StyleView",
            "_model_name": "DescriptionStyleModel",
            "description_width": "",
            "_view_module": "@jupyter-widgets/base",
            "_model_module_version": "1.5.0",
            "_view_count": null,
            "_view_module_version": "1.2.0",
            "_model_module": "@jupyter-widgets/controls"
          }
        },
        "ef9de54dc29f4636acb1e3d45e3c8acc": {
          "model_module": "@jupyter-widgets/base",
          "model_name": "LayoutModel",
          "model_module_version": "1.2.0",
          "state": {
            "_view_name": "LayoutView",
            "grid_template_rows": null,
            "right": null,
            "justify_content": null,
            "_view_module": "@jupyter-widgets/base",
            "overflow": null,
            "_model_module_version": "1.2.0",
            "_view_count": null,
            "flex_flow": null,
            "width": null,
            "min_width": null,
            "border": null,
            "align_items": null,
            "bottom": null,
            "_model_module": "@jupyter-widgets/base",
            "top": null,
            "grid_column": null,
            "overflow_y": null,
            "overflow_x": null,
            "grid_auto_flow": null,
            "grid_area": null,
            "grid_template_columns": null,
            "flex": null,
            "_model_name": "LayoutModel",
            "justify_items": null,
            "grid_row": null,
            "max_height": null,
            "align_content": null,
            "visibility": null,
            "align_self": null,
            "height": null,
            "min_height": null,
            "padding": null,
            "grid_auto_rows": null,
            "grid_gap": null,
            "max_width": null,
            "order": null,
            "_view_module_version": "1.2.0",
            "grid_template_areas": null,
            "object_position": null,
            "object_fit": null,
            "grid_auto_columns": null,
            "margin": null,
            "display": null,
            "left": null
          }
        },
        "0390bda57d4c4630817ca82a0480fa5f": {
          "model_module": "@jupyter-widgets/controls",
          "model_name": "DescriptionStyleModel",
          "model_module_version": "1.5.0",
          "state": {
            "_view_name": "StyleView",
            "_model_name": "DescriptionStyleModel",
            "description_width": "",
            "_view_module": "@jupyter-widgets/base",
            "_model_module_version": "1.5.0",
            "_view_count": null,
            "_view_module_version": "1.2.0",
            "_model_module": "@jupyter-widgets/controls"
          }
        },
        "84faaafe26eb4d798cdf314acae238f7": {
          "model_module": "@jupyter-widgets/base",
          "model_name": "LayoutModel",
          "model_module_version": "1.2.0",
          "state": {
            "_view_name": "LayoutView",
            "grid_template_rows": null,
            "right": null,
            "justify_content": null,
            "_view_module": "@jupyter-widgets/base",
            "overflow": null,
            "_model_module_version": "1.2.0",
            "_view_count": null,
            "flex_flow": null,
            "width": null,
            "min_width": null,
            "border": null,
            "align_items": null,
            "bottom": null,
            "_model_module": "@jupyter-widgets/base",
            "top": null,
            "grid_column": null,
            "overflow_y": null,
            "overflow_x": null,
            "grid_auto_flow": null,
            "grid_area": null,
            "grid_template_columns": null,
            "flex": null,
            "_model_name": "LayoutModel",
            "justify_items": null,
            "grid_row": null,
            "max_height": null,
            "align_content": null,
            "visibility": null,
            "align_self": null,
            "height": null,
            "min_height": null,
            "padding": null,
            "grid_auto_rows": null,
            "grid_gap": null,
            "max_width": null,
            "order": null,
            "_view_module_version": "1.2.0",
            "grid_template_areas": null,
            "object_position": null,
            "object_fit": null,
            "grid_auto_columns": null,
            "margin": null,
            "display": null,
            "left": null
          }
        },
        "a33caf9f7cda467789d035bb35c67583": {
          "model_module": "@jupyter-widgets/base",
          "model_name": "LayoutModel",
          "model_module_version": "1.2.0",
          "state": {
            "_view_name": "LayoutView",
            "grid_template_rows": null,
            "right": null,
            "justify_content": null,
            "_view_module": "@jupyter-widgets/base",
            "overflow": null,
            "_model_module_version": "1.2.0",
            "_view_count": null,
            "flex_flow": null,
            "width": null,
            "min_width": null,
            "border": null,
            "align_items": null,
            "bottom": null,
            "_model_module": "@jupyter-widgets/base",
            "top": null,
            "grid_column": null,
            "overflow_y": null,
            "overflow_x": null,
            "grid_auto_flow": null,
            "grid_area": null,
            "grid_template_columns": null,
            "flex": null,
            "_model_name": "LayoutModel",
            "justify_items": null,
            "grid_row": null,
            "max_height": null,
            "align_content": null,
            "visibility": null,
            "align_self": null,
            "height": null,
            "min_height": null,
            "padding": null,
            "grid_auto_rows": null,
            "grid_gap": null,
            "max_width": null,
            "order": null,
            "_view_module_version": "1.2.0",
            "grid_template_areas": null,
            "object_position": null,
            "object_fit": null,
            "grid_auto_columns": null,
            "margin": null,
            "display": null,
            "left": null
          }
        },
        "0d0f28f11b2041599068a001bca67d48": {
          "model_module": "@jupyter-widgets/controls",
          "model_name": "HTMLModel",
          "model_module_version": "1.5.0",
          "state": {
            "_view_name": "HTMLView",
            "style": "IPY_MODEL_1caeb481670f4ace8cec7e7dcc8f9e29",
            "_dom_classes": [],
            "description": "",
            "_model_name": "HTMLModel",
            "placeholder": "​",
            "_view_module": "@jupyter-widgets/controls",
            "_model_module_version": "1.5.0",
            "value": "Samples collected: 100%",
            "_view_count": null,
            "_view_module_version": "1.5.0",
            "description_tooltip": null,
            "_model_module": "@jupyter-widgets/controls",
            "layout": "IPY_MODEL_ef9de54dc29f4636acb1e3d45e3c8acc"
          }
        },
        "fe8430a3a7c94413b8a2e23999cfa75b": {
          "model_module": "@jupyter-widgets/controls",
          "model_name": "FloatProgressModel",
          "model_module_version": "1.5.0",
          "state": {
            "_view_name": "ProgressView",
            "style": "IPY_MODEL_1d19268eff2047b8b43964e4b63491fc",
            "_dom_classes": [],
            "description": "",
            "_model_name": "FloatProgressModel",
            "bar_style": "success",
            "max": 1000,
            "_view_module": "@jupyter-widgets/controls",
            "_model_module_version": "1.5.0",
            "value": 1000,
            "_view_count": null,
            "_view_module_version": "1.5.0",
            "orientation": "horizontal",
            "min": 0,
            "description_tooltip": null,
            "_model_module": "@jupyter-widgets/controls",
            "layout": "IPY_MODEL_ec8a47dc8c8a4cbf9e81230d55abc26e"
          }
        },
        "ff61196cf3a44feda8f33071ee1c9f95": {
          "model_module": "@jupyter-widgets/controls",
          "model_name": "HTMLModel",
          "model_module_version": "1.5.0",
          "state": {
            "_view_name": "HTMLView",
            "style": "IPY_MODEL_0390bda57d4c4630817ca82a0480fa5f",
            "_dom_classes": [],
            "description": "",
            "_model_name": "HTMLModel",
            "placeholder": "​",
            "_view_module": "@jupyter-widgets/controls",
            "_model_module_version": "1.5.0",
            "value": " 1000/1000 [00:01&lt;00:00, 569.89it/s]",
            "_view_count": null,
            "_view_module_version": "1.5.0",
            "description_tooltip": null,
            "_model_module": "@jupyter-widgets/controls",
            "layout": "IPY_MODEL_84faaafe26eb4d798cdf314acae238f7"
          }
        },
        "6ad037498237440c81cbb737a7a69b18": {
          "model_module": "@jupyter-widgets/controls",
          "model_name": "HBoxModel",
          "model_module_version": "1.5.0",
          "state": {
            "_view_name": "HBoxView",
            "_dom_classes": [],
            "_model_name": "HBoxModel",
            "_view_module": "@jupyter-widgets/controls",
            "_model_module_version": "1.5.0",
            "_view_count": null,
            "_view_module_version": "1.5.0",
            "box_style": "",
            "layout": "IPY_MODEL_a33caf9f7cda467789d035bb35c67583",
            "_model_module": "@jupyter-widgets/controls",
            "children": [
              "IPY_MODEL_0d0f28f11b2041599068a001bca67d48",
              "IPY_MODEL_fe8430a3a7c94413b8a2e23999cfa75b",
              "IPY_MODEL_ff61196cf3a44feda8f33071ee1c9f95"
            ]
          }
        },
        "1a3ac62594784145bfd941a90500f6d5": {
          "model_module": "@jupyter-widgets/controls",
          "model_name": "HBoxModel",
          "model_module_version": "1.5.0",
          "state": {
            "_view_name": "HBoxView",
            "_dom_classes": [],
            "_model_name": "HBoxModel",
            "_view_module": "@jupyter-widgets/controls",
            "_model_module_version": "1.5.0",
            "_view_count": null,
            "_view_module_version": "1.5.0",
            "box_style": "",
            "layout": "IPY_MODEL_75070a70b6654cd98dd9b8119f33fff7",
            "_model_module": "@jupyter-widgets/controls",
            "children": [
              "IPY_MODEL_6f6b6a36d5b34460a102d62d7bc3a16f",
              "IPY_MODEL_65ff709a74a649ca9964109ac598a295",
              "IPY_MODEL_1afc7bf15c024057a6b35e95dd4876fa"
            ]
          }
        },
        "75070a70b6654cd98dd9b8119f33fff7": {
          "model_module": "@jupyter-widgets/base",
          "model_name": "LayoutModel",
          "model_module_version": "1.2.0",
          "state": {
            "_view_name": "LayoutView",
            "grid_template_rows": null,
            "right": null,
            "justify_content": null,
            "_view_module": "@jupyter-widgets/base",
            "overflow": null,
            "_model_module_version": "1.2.0",
            "_view_count": null,
            "flex_flow": null,
            "width": null,
            "min_width": null,
            "border": null,
            "align_items": null,
            "bottom": null,
            "_model_module": "@jupyter-widgets/base",
            "top": null,
            "grid_column": null,
            "overflow_y": null,
            "overflow_x": null,
            "grid_auto_flow": null,
            "grid_area": null,
            "grid_template_columns": null,
            "flex": null,
            "_model_name": "LayoutModel",
            "justify_items": null,
            "grid_row": null,
            "max_height": null,
            "align_content": null,
            "visibility": null,
            "align_self": null,
            "height": null,
            "min_height": null,
            "padding": null,
            "grid_auto_rows": null,
            "grid_gap": null,
            "max_width": null,
            "order": null,
            "_view_module_version": "1.2.0",
            "grid_template_areas": null,
            "object_position": null,
            "object_fit": null,
            "grid_auto_columns": null,
            "margin": null,
            "display": null,
            "left": null
          }
        },
        "6f6b6a36d5b34460a102d62d7bc3a16f": {
          "model_module": "@jupyter-widgets/controls",
          "model_name": "HTMLModel",
          "model_module_version": "1.5.0",
          "state": {
            "_view_name": "HTMLView",
            "style": "IPY_MODEL_3ee9447f67e542828c83baaaf215890d",
            "_dom_classes": [],
            "description": "",
            "_model_name": "HTMLModel",
            "placeholder": "​",
            "_view_module": "@jupyter-widgets/controls",
            "_model_module_version": "1.5.0",
            "value": "Samples collected: 100%",
            "_view_count": null,
            "_view_module_version": "1.5.0",
            "description_tooltip": null,
            "_model_module": "@jupyter-widgets/controls",
            "layout": "IPY_MODEL_fdcd403544ea4b43b72be1174b364370"
          }
        },
        "65ff709a74a649ca9964109ac598a295": {
          "model_module": "@jupyter-widgets/controls",
          "model_name": "FloatProgressModel",
          "model_module_version": "1.5.0",
          "state": {
            "_view_name": "ProgressView",
            "style": "IPY_MODEL_4ef9b035284e400091bcb2f9bdfa21c4",
            "_dom_classes": [],
            "description": "",
            "_model_name": "FloatProgressModel",
            "bar_style": "success",
            "max": 1000,
            "_view_module": "@jupyter-widgets/controls",
            "_model_module_version": "1.5.0",
            "value": 1000,
            "_view_count": null,
            "_view_module_version": "1.5.0",
            "orientation": "horizontal",
            "min": 0,
            "description_tooltip": null,
            "_model_module": "@jupyter-widgets/controls",
            "layout": "IPY_MODEL_8ec8adc850ac48659c81b897ee00b5e8"
          }
        },
        "1afc7bf15c024057a6b35e95dd4876fa": {
          "model_module": "@jupyter-widgets/controls",
          "model_name": "HTMLModel",
          "model_module_version": "1.5.0",
          "state": {
            "_view_name": "HTMLView",
            "style": "IPY_MODEL_febcce37d45f412295fb58aa7987f293",
            "_dom_classes": [],
            "description": "",
            "_model_name": "HTMLModel",
            "placeholder": "​",
            "_view_module": "@jupyter-widgets/controls",
            "_model_module_version": "1.5.0",
            "value": " 1000/1000 [00:04&lt;00:00, 340.55it/s]",
            "_view_count": null,
            "_view_module_version": "1.5.0",
            "description_tooltip": null,
            "_model_module": "@jupyter-widgets/controls",
            "layout": "IPY_MODEL_5d5832a1a3bd470583b90440ffc791a6"
          }
        },
        "3ee9447f67e542828c83baaaf215890d": {
          "model_module": "@jupyter-widgets/controls",
          "model_name": "DescriptionStyleModel",
          "model_module_version": "1.5.0",
          "state": {
            "_view_name": "StyleView",
            "_model_name": "DescriptionStyleModel",
            "description_width": "",
            "_view_module": "@jupyter-widgets/base",
            "_model_module_version": "1.5.0",
            "_view_count": null,
            "_view_module_version": "1.2.0",
            "_model_module": "@jupyter-widgets/controls"
          }
        },
        "fdcd403544ea4b43b72be1174b364370": {
          "model_module": "@jupyter-widgets/base",
          "model_name": "LayoutModel",
          "model_module_version": "1.2.0",
          "state": {
            "_view_name": "LayoutView",
            "grid_template_rows": null,
            "right": null,
            "justify_content": null,
            "_view_module": "@jupyter-widgets/base",
            "overflow": null,
            "_model_module_version": "1.2.0",
            "_view_count": null,
            "flex_flow": null,
            "width": null,
            "min_width": null,
            "border": null,
            "align_items": null,
            "bottom": null,
            "_model_module": "@jupyter-widgets/base",
            "top": null,
            "grid_column": null,
            "overflow_y": null,
            "overflow_x": null,
            "grid_auto_flow": null,
            "grid_area": null,
            "grid_template_columns": null,
            "flex": null,
            "_model_name": "LayoutModel",
            "justify_items": null,
            "grid_row": null,
            "max_height": null,
            "align_content": null,
            "visibility": null,
            "align_self": null,
            "height": null,
            "min_height": null,
            "padding": null,
            "grid_auto_rows": null,
            "grid_gap": null,
            "max_width": null,
            "order": null,
            "_view_module_version": "1.2.0",
            "grid_template_areas": null,
            "object_position": null,
            "object_fit": null,
            "grid_auto_columns": null,
            "margin": null,
            "display": null,
            "left": null
          }
        },
        "4ef9b035284e400091bcb2f9bdfa21c4": {
          "model_module": "@jupyter-widgets/controls",
          "model_name": "ProgressStyleModel",
          "model_module_version": "1.5.0",
          "state": {
            "_view_name": "StyleView",
            "_model_name": "ProgressStyleModel",
            "description_width": "",
            "_view_module": "@jupyter-widgets/base",
            "_model_module_version": "1.5.0",
            "_view_count": null,
            "_view_module_version": "1.2.0",
            "bar_color": null,
            "_model_module": "@jupyter-widgets/controls"
          }
        },
        "8ec8adc850ac48659c81b897ee00b5e8": {
          "model_module": "@jupyter-widgets/base",
          "model_name": "LayoutModel",
          "model_module_version": "1.2.0",
          "state": {
            "_view_name": "LayoutView",
            "grid_template_rows": null,
            "right": null,
            "justify_content": null,
            "_view_module": "@jupyter-widgets/base",
            "overflow": null,
            "_model_module_version": "1.2.0",
            "_view_count": null,
            "flex_flow": null,
            "width": null,
            "min_width": null,
            "border": null,
            "align_items": null,
            "bottom": null,
            "_model_module": "@jupyter-widgets/base",
            "top": null,
            "grid_column": null,
            "overflow_y": null,
            "overflow_x": null,
            "grid_auto_flow": null,
            "grid_area": null,
            "grid_template_columns": null,
            "flex": null,
            "_model_name": "LayoutModel",
            "justify_items": null,
            "grid_row": null,
            "max_height": null,
            "align_content": null,
            "visibility": null,
            "align_self": null,
            "height": null,
            "min_height": null,
            "padding": null,
            "grid_auto_rows": null,
            "grid_gap": null,
            "max_width": null,
            "order": null,
            "_view_module_version": "1.2.0",
            "grid_template_areas": null,
            "object_position": null,
            "object_fit": null,
            "grid_auto_columns": null,
            "margin": null,
            "display": null,
            "left": null
          }
        },
        "febcce37d45f412295fb58aa7987f293": {
          "model_module": "@jupyter-widgets/controls",
          "model_name": "DescriptionStyleModel",
          "model_module_version": "1.5.0",
          "state": {
            "_view_name": "StyleView",
            "_model_name": "DescriptionStyleModel",
            "description_width": "",
            "_view_module": "@jupyter-widgets/base",
            "_model_module_version": "1.5.0",
            "_view_count": null,
            "_view_module_version": "1.2.0",
            "_model_module": "@jupyter-widgets/controls"
          }
        },
        "5d5832a1a3bd470583b90440ffc791a6": {
          "model_module": "@jupyter-widgets/base",
          "model_name": "LayoutModel",
          "model_module_version": "1.2.0",
          "state": {
            "_view_name": "LayoutView",
            "grid_template_rows": null,
            "right": null,
            "justify_content": null,
            "_view_module": "@jupyter-widgets/base",
            "overflow": null,
            "_model_module_version": "1.2.0",
            "_view_count": null,
            "flex_flow": null,
            "width": null,
            "min_width": null,
            "border": null,
            "align_items": null,
            "bottom": null,
            "_model_module": "@jupyter-widgets/base",
            "top": null,
            "grid_column": null,
            "overflow_y": null,
            "overflow_x": null,
            "grid_auto_flow": null,
            "grid_area": null,
            "grid_template_columns": null,
            "flex": null,
            "_model_name": "LayoutModel",
            "justify_items": null,
            "grid_row": null,
            "max_height": null,
            "align_content": null,
            "visibility": null,
            "align_self": null,
            "height": null,
            "min_height": null,
            "padding": null,
            "grid_auto_rows": null,
            "grid_gap": null,
            "max_width": null,
            "order": null,
            "_view_module_version": "1.2.0",
            "grid_template_areas": null,
            "object_position": null,
            "object_fit": null,
            "grid_auto_columns": null,
            "margin": null,
            "display": null,
            "left": null
          }
        },
        "ec0e41fde0be4a28bea177955e51b8bb": {
          "model_module": "@jupyter-widgets/controls",
          "model_name": "ProgressStyleModel",
          "model_module_version": "1.5.0",
          "state": {
            "_view_name": "StyleView",
            "_model_name": "ProgressStyleModel",
            "description_width": "",
            "_view_module": "@jupyter-widgets/base",
            "_model_module_version": "1.5.0",
            "_view_count": null,
            "_view_module_version": "1.2.0",
            "bar_color": null,
            "_model_module": "@jupyter-widgets/controls"
          }
        },
        "be47f1a38f4044c2904653d9a27d882d": {
          "model_module": "@jupyter-widgets/base",
          "model_name": "LayoutModel",
          "model_module_version": "1.2.0",
          "state": {
            "_view_name": "LayoutView",
            "grid_template_rows": null,
            "right": null,
            "justify_content": null,
            "_view_module": "@jupyter-widgets/base",
            "overflow": null,
            "_model_module_version": "1.2.0",
            "_view_count": null,
            "flex_flow": null,
            "width": null,
            "min_width": null,
            "border": null,
            "align_items": null,
            "bottom": null,
            "_model_module": "@jupyter-widgets/base",
            "top": null,
            "grid_column": null,
            "overflow_y": null,
            "overflow_x": null,
            "grid_auto_flow": null,
            "grid_area": null,
            "grid_template_columns": null,
            "flex": null,
            "_model_name": "LayoutModel",
            "justify_items": null,
            "grid_row": null,
            "max_height": null,
            "align_content": null,
            "visibility": null,
            "align_self": null,
            "height": null,
            "min_height": null,
            "padding": null,
            "grid_auto_rows": null,
            "grid_gap": null,
            "max_width": null,
            "order": null,
            "_view_module_version": "1.2.0",
            "grid_template_areas": null,
            "object_position": null,
            "object_fit": null,
            "grid_auto_columns": null,
            "margin": null,
            "display": null,
            "left": null
          }
        },
        "028a1aaee49142e5aa5f46f46156db4b": {
          "model_module": "@jupyter-widgets/controls",
          "model_name": "DescriptionStyleModel",
          "model_module_version": "1.5.0",
          "state": {
            "_view_name": "StyleView",
            "_model_name": "DescriptionStyleModel",
            "description_width": "",
            "_view_module": "@jupyter-widgets/base",
            "_model_module_version": "1.5.0",
            "_view_count": null,
            "_view_module_version": "1.2.0",
            "_model_module": "@jupyter-widgets/controls"
          }
        },
        "08f05c2aa5bc4ee9b80e6410a6dda598": {
          "model_module": "@jupyter-widgets/base",
          "model_name": "LayoutModel",
          "model_module_version": "1.2.0",
          "state": {
            "_view_name": "LayoutView",
            "grid_template_rows": null,
            "right": null,
            "justify_content": null,
            "_view_module": "@jupyter-widgets/base",
            "overflow": null,
            "_model_module_version": "1.2.0",
            "_view_count": null,
            "flex_flow": null,
            "width": null,
            "min_width": null,
            "border": null,
            "align_items": null,
            "bottom": null,
            "_model_module": "@jupyter-widgets/base",
            "top": null,
            "grid_column": null,
            "overflow_y": null,
            "overflow_x": null,
            "grid_auto_flow": null,
            "grid_area": null,
            "grid_template_columns": null,
            "flex": null,
            "_model_name": "LayoutModel",
            "justify_items": null,
            "grid_row": null,
            "max_height": null,
            "align_content": null,
            "visibility": null,
            "align_self": null,
            "height": null,
            "min_height": null,
            "padding": null,
            "grid_auto_rows": null,
            "grid_gap": null,
            "max_width": null,
            "order": null,
            "_view_module_version": "1.2.0",
            "grid_template_areas": null,
            "object_position": null,
            "object_fit": null,
            "grid_auto_columns": null,
            "margin": null,
            "display": null,
            "left": null
          }
        },
        "527ef3aaa6ad42e4ab1a41d1914b7d32": {
          "model_module": "@jupyter-widgets/controls",
          "model_name": "DescriptionStyleModel",
          "model_module_version": "1.5.0",
          "state": {
            "_view_name": "StyleView",
            "_model_name": "DescriptionStyleModel",
            "description_width": "",
            "_view_module": "@jupyter-widgets/base",
            "_model_module_version": "1.5.0",
            "_view_count": null,
            "_view_module_version": "1.2.0",
            "_model_module": "@jupyter-widgets/controls"
          }
        },
        "b95f152962454d92be841c9dc927feec": {
          "model_module": "@jupyter-widgets/base",
          "model_name": "LayoutModel",
          "model_module_version": "1.2.0",
          "state": {
            "_view_name": "LayoutView",
            "grid_template_rows": null,
            "right": null,
            "justify_content": null,
            "_view_module": "@jupyter-widgets/base",
            "overflow": null,
            "_model_module_version": "1.2.0",
            "_view_count": null,
            "flex_flow": null,
            "width": null,
            "min_width": null,
            "border": null,
            "align_items": null,
            "bottom": null,
            "_model_module": "@jupyter-widgets/base",
            "top": null,
            "grid_column": null,
            "overflow_y": null,
            "overflow_x": null,
            "grid_auto_flow": null,
            "grid_area": null,
            "grid_template_columns": null,
            "flex": null,
            "_model_name": "LayoutModel",
            "justify_items": null,
            "grid_row": null,
            "max_height": null,
            "align_content": null,
            "visibility": null,
            "align_self": null,
            "height": null,
            "min_height": null,
            "padding": null,
            "grid_auto_rows": null,
            "grid_gap": null,
            "max_width": null,
            "order": null,
            "_view_module_version": "1.2.0",
            "grid_template_areas": null,
            "object_position": null,
            "object_fit": null,
            "grid_auto_columns": null,
            "margin": null,
            "display": null,
            "left": null
          }
        },
        "63381a6734ac4802b5dd44d0132c7c83": {
          "model_module": "@jupyter-widgets/base",
          "model_name": "LayoutModel",
          "model_module_version": "1.2.0",
          "state": {
            "_view_name": "LayoutView",
            "grid_template_rows": null,
            "right": null,
            "justify_content": null,
            "_view_module": "@jupyter-widgets/base",
            "overflow": null,
            "_model_module_version": "1.2.0",
            "_view_count": null,
            "flex_flow": null,
            "width": null,
            "min_width": null,
            "border": null,
            "align_items": null,
            "bottom": null,
            "_model_module": "@jupyter-widgets/base",
            "top": null,
            "grid_column": null,
            "overflow_y": null,
            "overflow_x": null,
            "grid_auto_flow": null,
            "grid_area": null,
            "grid_template_columns": null,
            "flex": null,
            "_model_name": "LayoutModel",
            "justify_items": null,
            "grid_row": null,
            "max_height": null,
            "align_content": null,
            "visibility": null,
            "align_self": null,
            "height": null,
            "min_height": null,
            "padding": null,
            "grid_auto_rows": null,
            "grid_gap": null,
            "max_width": null,
            "order": null,
            "_view_module_version": "1.2.0",
            "grid_template_areas": null,
            "object_position": null,
            "object_fit": null,
            "grid_auto_columns": null,
            "margin": null,
            "display": null,
            "left": null
          }
        },
        "3b9bd729602a469a9e7585e097901577": {
          "model_module": "@jupyter-widgets/controls",
          "model_name": "HTMLModel",
          "model_module_version": "1.5.0",
          "state": {
            "_view_name": "HTMLView",
            "style": "IPY_MODEL_028a1aaee49142e5aa5f46f46156db4b",
            "_dom_classes": [],
            "description": "",
            "_model_name": "HTMLModel",
            "placeholder": "​",
            "_view_module": "@jupyter-widgets/controls",
            "_model_module_version": "1.5.0",
            "value": "Samples collected: 100%",
            "_view_count": null,
            "_view_module_version": "1.5.0",
            "description_tooltip": null,
            "_model_module": "@jupyter-widgets/controls",
            "layout": "IPY_MODEL_08f05c2aa5bc4ee9b80e6410a6dda598"
          }
        },
        "94db9bff4e7c44a2925e814fac0ccad0": {
          "model_module": "@jupyter-widgets/controls",
          "model_name": "FloatProgressModel",
          "model_module_version": "1.5.0",
          "state": {
            "_view_name": "ProgressView",
            "style": "IPY_MODEL_ec0e41fde0be4a28bea177955e51b8bb",
            "_dom_classes": [],
            "description": "",
            "_model_name": "FloatProgressModel",
            "bar_style": "success",
            "max": 1000,
            "_view_module": "@jupyter-widgets/controls",
            "_model_module_version": "1.5.0",
            "value": 1000,
            "_view_count": null,
            "_view_module_version": "1.5.0",
            "orientation": "horizontal",
            "min": 0,
            "description_tooltip": null,
            "_model_module": "@jupyter-widgets/controls",
            "layout": "IPY_MODEL_be47f1a38f4044c2904653d9a27d882d"
          }
        },
        "84c8989bd1f34aaf86426bddb99b8213": {
          "model_module": "@jupyter-widgets/controls",
          "model_name": "HTMLModel",
          "model_module_version": "1.5.0",
          "state": {
            "_view_name": "HTMLView",
            "style": "IPY_MODEL_527ef3aaa6ad42e4ab1a41d1914b7d32",
            "_dom_classes": [],
            "description": "",
            "_model_name": "HTMLModel",
            "placeholder": "​",
            "_view_module": "@jupyter-widgets/controls",
            "_model_module_version": "1.5.0",
            "value": " 1000/1000 [00:01&lt;00:00, 524.74it/s]",
            "_view_count": null,
            "_view_module_version": "1.5.0",
            "description_tooltip": null,
            "_model_module": "@jupyter-widgets/controls",
            "layout": "IPY_MODEL_b95f152962454d92be841c9dc927feec"
          }
        },
        "0d80b11fe0b44e8c9dba31118b4aac41": {
          "model_module": "@jupyter-widgets/controls",
          "model_name": "HBoxModel",
          "model_module_version": "1.5.0",
          "state": {
            "_view_name": "HBoxView",
            "_dom_classes": [],
            "_model_name": "HBoxModel",
            "_view_module": "@jupyter-widgets/controls",
            "_model_module_version": "1.5.0",
            "_view_count": null,
            "_view_module_version": "1.5.0",
            "box_style": "",
            "layout": "IPY_MODEL_63381a6734ac4802b5dd44d0132c7c83",
            "_model_module": "@jupyter-widgets/controls",
            "children": [
              "IPY_MODEL_3b9bd729602a469a9e7585e097901577",
              "IPY_MODEL_94db9bff4e7c44a2925e814fac0ccad0",
              "IPY_MODEL_84c8989bd1f34aaf86426bddb99b8213"
            ]
          }
        },
        "99d91f2646d64ebfaf9fe4c0eef22432": {
          "model_module": "@jupyter-widgets/controls",
          "model_name": "ProgressStyleModel",
          "model_module_version": "1.5.0",
          "state": {
            "_view_name": "StyleView",
            "_model_name": "ProgressStyleModel",
            "description_width": "",
            "_view_module": "@jupyter-widgets/base",
            "_model_module_version": "1.5.0",
            "_view_count": null,
            "_view_module_version": "1.2.0",
            "bar_color": null,
            "_model_module": "@jupyter-widgets/controls"
          }
        },
        "a5d50b0285d94ff281a4ad3bcfd60d83": {
          "model_module": "@jupyter-widgets/base",
          "model_name": "LayoutModel",
          "model_module_version": "1.2.0",
          "state": {
            "_view_name": "LayoutView",
            "grid_template_rows": null,
            "right": null,
            "justify_content": null,
            "_view_module": "@jupyter-widgets/base",
            "overflow": null,
            "_model_module_version": "1.2.0",
            "_view_count": null,
            "flex_flow": null,
            "width": null,
            "min_width": null,
            "border": null,
            "align_items": null,
            "bottom": null,
            "_model_module": "@jupyter-widgets/base",
            "top": null,
            "grid_column": null,
            "overflow_y": null,
            "overflow_x": null,
            "grid_auto_flow": null,
            "grid_area": null,
            "grid_template_columns": null,
            "flex": null,
            "_model_name": "LayoutModel",
            "justify_items": null,
            "grid_row": null,
            "max_height": null,
            "align_content": null,
            "visibility": null,
            "align_self": null,
            "height": null,
            "min_height": null,
            "padding": null,
            "grid_auto_rows": null,
            "grid_gap": null,
            "max_width": null,
            "order": null,
            "_view_module_version": "1.2.0",
            "grid_template_areas": null,
            "object_position": null,
            "object_fit": null,
            "grid_auto_columns": null,
            "margin": null,
            "display": null,
            "left": null
          }
        },
        "997a6082eb56406cbe0ecd756f4c365c": {
          "model_module": "@jupyter-widgets/controls",
          "model_name": "DescriptionStyleModel",
          "model_module_version": "1.5.0",
          "state": {
            "_view_name": "StyleView",
            "_model_name": "DescriptionStyleModel",
            "description_width": "",
            "_view_module": "@jupyter-widgets/base",
            "_model_module_version": "1.5.0",
            "_view_count": null,
            "_view_module_version": "1.2.0",
            "_model_module": "@jupyter-widgets/controls"
          }
        },
        "7a58f5c4cc5d418f842a674c2c38dddb": {
          "model_module": "@jupyter-widgets/base",
          "model_name": "LayoutModel",
          "model_module_version": "1.2.0",
          "state": {
            "_view_name": "LayoutView",
            "grid_template_rows": null,
            "right": null,
            "justify_content": null,
            "_view_module": "@jupyter-widgets/base",
            "overflow": null,
            "_model_module_version": "1.2.0",
            "_view_count": null,
            "flex_flow": null,
            "width": null,
            "min_width": null,
            "border": null,
            "align_items": null,
            "bottom": null,
            "_model_module": "@jupyter-widgets/base",
            "top": null,
            "grid_column": null,
            "overflow_y": null,
            "overflow_x": null,
            "grid_auto_flow": null,
            "grid_area": null,
            "grid_template_columns": null,
            "flex": null,
            "_model_name": "LayoutModel",
            "justify_items": null,
            "grid_row": null,
            "max_height": null,
            "align_content": null,
            "visibility": null,
            "align_self": null,
            "height": null,
            "min_height": null,
            "padding": null,
            "grid_auto_rows": null,
            "grid_gap": null,
            "max_width": null,
            "order": null,
            "_view_module_version": "1.2.0",
            "grid_template_areas": null,
            "object_position": null,
            "object_fit": null,
            "grid_auto_columns": null,
            "margin": null,
            "display": null,
            "left": null
          }
        },
        "86c3667ba79e49e08316bfbcab5f0792": {
          "model_module": "@jupyter-widgets/controls",
          "model_name": "DescriptionStyleModel",
          "model_module_version": "1.5.0",
          "state": {
            "_view_name": "StyleView",
            "_model_name": "DescriptionStyleModel",
            "description_width": "",
            "_view_module": "@jupyter-widgets/base",
            "_model_module_version": "1.5.0",
            "_view_count": null,
            "_view_module_version": "1.2.0",
            "_model_module": "@jupyter-widgets/controls"
          }
        },
        "fe8a9529447342e2835e0eabe62ce977": {
          "model_module": "@jupyter-widgets/base",
          "model_name": "LayoutModel",
          "model_module_version": "1.2.0",
          "state": {
            "_view_name": "LayoutView",
            "grid_template_rows": null,
            "right": null,
            "justify_content": null,
            "_view_module": "@jupyter-widgets/base",
            "overflow": null,
            "_model_module_version": "1.2.0",
            "_view_count": null,
            "flex_flow": null,
            "width": null,
            "min_width": null,
            "border": null,
            "align_items": null,
            "bottom": null,
            "_model_module": "@jupyter-widgets/base",
            "top": null,
            "grid_column": null,
            "overflow_y": null,
            "overflow_x": null,
            "grid_auto_flow": null,
            "grid_area": null,
            "grid_template_columns": null,
            "flex": null,
            "_model_name": "LayoutModel",
            "justify_items": null,
            "grid_row": null,
            "max_height": null,
            "align_content": null,
            "visibility": null,
            "align_self": null,
            "height": null,
            "min_height": null,
            "padding": null,
            "grid_auto_rows": null,
            "grid_gap": null,
            "max_width": null,
            "order": null,
            "_view_module_version": "1.2.0",
            "grid_template_areas": null,
            "object_position": null,
            "object_fit": null,
            "grid_auto_columns": null,
            "margin": null,
            "display": null,
            "left": null
          }
        },
        "cf65118ad00d404a87b23e859d96e907": {
          "model_module": "@jupyter-widgets/base",
          "model_name": "LayoutModel",
          "model_module_version": "1.2.0",
          "state": {
            "_view_name": "LayoutView",
            "grid_template_rows": null,
            "right": null,
            "justify_content": null,
            "_view_module": "@jupyter-widgets/base",
            "overflow": null,
            "_model_module_version": "1.2.0",
            "_view_count": null,
            "flex_flow": null,
            "width": null,
            "min_width": null,
            "border": null,
            "align_items": null,
            "bottom": null,
            "_model_module": "@jupyter-widgets/base",
            "top": null,
            "grid_column": null,
            "overflow_y": null,
            "overflow_x": null,
            "grid_auto_flow": null,
            "grid_area": null,
            "grid_template_columns": null,
            "flex": null,
            "_model_name": "LayoutModel",
            "justify_items": null,
            "grid_row": null,
            "max_height": null,
            "align_content": null,
            "visibility": null,
            "align_self": null,
            "height": null,
            "min_height": null,
            "padding": null,
            "grid_auto_rows": null,
            "grid_gap": null,
            "max_width": null,
            "order": null,
            "_view_module_version": "1.2.0",
            "grid_template_areas": null,
            "object_position": null,
            "object_fit": null,
            "grid_auto_columns": null,
            "margin": null,
            "display": null,
            "left": null
          }
        },
        "87e1fe217d1f453eb281587506da51ae": {
          "model_module": "@jupyter-widgets/controls",
          "model_name": "HTMLModel",
          "model_module_version": "1.5.0",
          "state": {
            "_view_name": "HTMLView",
            "style": "IPY_MODEL_997a6082eb56406cbe0ecd756f4c365c",
            "_dom_classes": [],
            "description": "",
            "_model_name": "HTMLModel",
            "placeholder": "​",
            "_view_module": "@jupyter-widgets/controls",
            "_model_module_version": "1.5.0",
            "value": "Samples collected: 100%",
            "_view_count": null,
            "_view_module_version": "1.5.0",
            "description_tooltip": null,
            "_model_module": "@jupyter-widgets/controls",
            "layout": "IPY_MODEL_7a58f5c4cc5d418f842a674c2c38dddb"
          }
        },
        "49eef199b8b5484c920bc3fbcf1aecc0": {
          "model_module": "@jupyter-widgets/controls",
          "model_name": "FloatProgressModel",
          "model_module_version": "1.5.0",
          "state": {
            "_view_name": "ProgressView",
            "style": "IPY_MODEL_99d91f2646d64ebfaf9fe4c0eef22432",
            "_dom_classes": [],
            "description": "",
            "_model_name": "FloatProgressModel",
            "bar_style": "success",
            "max": 1000,
            "_view_module": "@jupyter-widgets/controls",
            "_model_module_version": "1.5.0",
            "value": 1000,
            "_view_count": null,
            "_view_module_version": "1.5.0",
            "orientation": "horizontal",
            "min": 0,
            "description_tooltip": null,
            "_model_module": "@jupyter-widgets/controls",
            "layout": "IPY_MODEL_a5d50b0285d94ff281a4ad3bcfd60d83"
          }
        },
        "665d9246e63d42ffb940ded377377b80": {
          "model_module": "@jupyter-widgets/controls",
          "model_name": "HTMLModel",
          "model_module_version": "1.5.0",
          "state": {
            "_view_name": "HTMLView",
            "style": "IPY_MODEL_86c3667ba79e49e08316bfbcab5f0792",
            "_dom_classes": [],
            "description": "",
            "_model_name": "HTMLModel",
            "placeholder": "​",
            "_view_module": "@jupyter-widgets/controls",
            "_model_module_version": "1.5.0",
            "value": " 1000/1000 [00:01&lt;00:00, 521.22it/s]",
            "_view_count": null,
            "_view_module_version": "1.5.0",
            "description_tooltip": null,
            "_model_module": "@jupyter-widgets/controls",
            "layout": "IPY_MODEL_fe8a9529447342e2835e0eabe62ce977"
          }
        },
        "87dee3a7f2f84b948e584ff6a9afc226": {
          "model_module": "@jupyter-widgets/controls",
          "model_name": "HBoxModel",
          "model_module_version": "1.5.0",
          "state": {
            "_view_name": "HBoxView",
            "_dom_classes": [],
            "_model_name": "HBoxModel",
            "_view_module": "@jupyter-widgets/controls",
            "_model_module_version": "1.5.0",
            "_view_count": null,
            "_view_module_version": "1.5.0",
            "box_style": "",
            "layout": "IPY_MODEL_cf65118ad00d404a87b23e859d96e907",
            "_model_module": "@jupyter-widgets/controls",
            "children": [
              "IPY_MODEL_87e1fe217d1f453eb281587506da51ae",
              "IPY_MODEL_49eef199b8b5484c920bc3fbcf1aecc0",
              "IPY_MODEL_665d9246e63d42ffb940ded377377b80"
            ]
          }
        },
        "97dff74615894f2e8e4cfa57d6338b84": {
          "model_module": "@jupyter-widgets/controls",
          "model_name": "ProgressStyleModel",
          "model_module_version": "1.5.0",
          "state": {
            "_view_name": "StyleView",
            "_model_name": "ProgressStyleModel",
            "description_width": "",
            "_view_module": "@jupyter-widgets/base",
            "_model_module_version": "1.5.0",
            "_view_count": null,
            "_view_module_version": "1.2.0",
            "bar_color": null,
            "_model_module": "@jupyter-widgets/controls"
          }
        },
        "bcea07b3bad54ee4b08b08efbf9d63a0": {
          "model_module": "@jupyter-widgets/base",
          "model_name": "LayoutModel",
          "model_module_version": "1.2.0",
          "state": {
            "_view_name": "LayoutView",
            "grid_template_rows": null,
            "right": null,
            "justify_content": null,
            "_view_module": "@jupyter-widgets/base",
            "overflow": null,
            "_model_module_version": "1.2.0",
            "_view_count": null,
            "flex_flow": null,
            "width": null,
            "min_width": null,
            "border": null,
            "align_items": null,
            "bottom": null,
            "_model_module": "@jupyter-widgets/base",
            "top": null,
            "grid_column": null,
            "overflow_y": null,
            "overflow_x": null,
            "grid_auto_flow": null,
            "grid_area": null,
            "grid_template_columns": null,
            "flex": null,
            "_model_name": "LayoutModel",
            "justify_items": null,
            "grid_row": null,
            "max_height": null,
            "align_content": null,
            "visibility": null,
            "align_self": null,
            "height": null,
            "min_height": null,
            "padding": null,
            "grid_auto_rows": null,
            "grid_gap": null,
            "max_width": null,
            "order": null,
            "_view_module_version": "1.2.0",
            "grid_template_areas": null,
            "object_position": null,
            "object_fit": null,
            "grid_auto_columns": null,
            "margin": null,
            "display": null,
            "left": null
          }
        },
        "ed6cb232f5924e45bc80cb31e1e5b0ba": {
          "model_module": "@jupyter-widgets/controls",
          "model_name": "DescriptionStyleModel",
          "model_module_version": "1.5.0",
          "state": {
            "_view_name": "StyleView",
            "_model_name": "DescriptionStyleModel",
            "description_width": "",
            "_view_module": "@jupyter-widgets/base",
            "_model_module_version": "1.5.0",
            "_view_count": null,
            "_view_module_version": "1.2.0",
            "_model_module": "@jupyter-widgets/controls"
          }
        },
        "81249418f6504d08a8e1cf86d325581b": {
          "model_module": "@jupyter-widgets/base",
          "model_name": "LayoutModel",
          "model_module_version": "1.2.0",
          "state": {
            "_view_name": "LayoutView",
            "grid_template_rows": null,
            "right": null,
            "justify_content": null,
            "_view_module": "@jupyter-widgets/base",
            "overflow": null,
            "_model_module_version": "1.2.0",
            "_view_count": null,
            "flex_flow": null,
            "width": null,
            "min_width": null,
            "border": null,
            "align_items": null,
            "bottom": null,
            "_model_module": "@jupyter-widgets/base",
            "top": null,
            "grid_column": null,
            "overflow_y": null,
            "overflow_x": null,
            "grid_auto_flow": null,
            "grid_area": null,
            "grid_template_columns": null,
            "flex": null,
            "_model_name": "LayoutModel",
            "justify_items": null,
            "grid_row": null,
            "max_height": null,
            "align_content": null,
            "visibility": null,
            "align_self": null,
            "height": null,
            "min_height": null,
            "padding": null,
            "grid_auto_rows": null,
            "grid_gap": null,
            "max_width": null,
            "order": null,
            "_view_module_version": "1.2.0",
            "grid_template_areas": null,
            "object_position": null,
            "object_fit": null,
            "grid_auto_columns": null,
            "margin": null,
            "display": null,
            "left": null
          }
        },
        "2ede327f96af4b33937b8e655f177669": {
          "model_module": "@jupyter-widgets/controls",
          "model_name": "DescriptionStyleModel",
          "model_module_version": "1.5.0",
          "state": {
            "_view_name": "StyleView",
            "_model_name": "DescriptionStyleModel",
            "description_width": "",
            "_view_module": "@jupyter-widgets/base",
            "_model_module_version": "1.5.0",
            "_view_count": null,
            "_view_module_version": "1.2.0",
            "_model_module": "@jupyter-widgets/controls"
          }
        },
        "1a1f30df0509418c8157d62ff2bae0e1": {
          "model_module": "@jupyter-widgets/base",
          "model_name": "LayoutModel",
          "model_module_version": "1.2.0",
          "state": {
            "_view_name": "LayoutView",
            "grid_template_rows": null,
            "right": null,
            "justify_content": null,
            "_view_module": "@jupyter-widgets/base",
            "overflow": null,
            "_model_module_version": "1.2.0",
            "_view_count": null,
            "flex_flow": null,
            "width": null,
            "min_width": null,
            "border": null,
            "align_items": null,
            "bottom": null,
            "_model_module": "@jupyter-widgets/base",
            "top": null,
            "grid_column": null,
            "overflow_y": null,
            "overflow_x": null,
            "grid_auto_flow": null,
            "grid_area": null,
            "grid_template_columns": null,
            "flex": null,
            "_model_name": "LayoutModel",
            "justify_items": null,
            "grid_row": null,
            "max_height": null,
            "align_content": null,
            "visibility": null,
            "align_self": null,
            "height": null,
            "min_height": null,
            "padding": null,
            "grid_auto_rows": null,
            "grid_gap": null,
            "max_width": null,
            "order": null,
            "_view_module_version": "1.2.0",
            "grid_template_areas": null,
            "object_position": null,
            "object_fit": null,
            "grid_auto_columns": null,
            "margin": null,
            "display": null,
            "left": null
          }
        },
        "f518852ebbc648838f9ac36a016484da": {
          "model_module": "@jupyter-widgets/base",
          "model_name": "LayoutModel",
          "model_module_version": "1.2.0",
          "state": {
            "_view_name": "LayoutView",
            "grid_template_rows": null,
            "right": null,
            "justify_content": null,
            "_view_module": "@jupyter-widgets/base",
            "overflow": null,
            "_model_module_version": "1.2.0",
            "_view_count": null,
            "flex_flow": null,
            "width": null,
            "min_width": null,
            "border": null,
            "align_items": null,
            "bottom": null,
            "_model_module": "@jupyter-widgets/base",
            "top": null,
            "grid_column": null,
            "overflow_y": null,
            "overflow_x": null,
            "grid_auto_flow": null,
            "grid_area": null,
            "grid_template_columns": null,
            "flex": null,
            "_model_name": "LayoutModel",
            "justify_items": null,
            "grid_row": null,
            "max_height": null,
            "align_content": null,
            "visibility": null,
            "align_self": null,
            "height": null,
            "min_height": null,
            "padding": null,
            "grid_auto_rows": null,
            "grid_gap": null,
            "max_width": null,
            "order": null,
            "_view_module_version": "1.2.0",
            "grid_template_areas": null,
            "object_position": null,
            "object_fit": null,
            "grid_auto_columns": null,
            "margin": null,
            "display": null,
            "left": null
          }
        },
        "d8f375a0fe24409ebfeccb5ff9de0702": {
          "model_module": "@jupyter-widgets/controls",
          "model_name": "HTMLModel",
          "model_module_version": "1.5.0",
          "state": {
            "_view_name": "HTMLView",
            "style": "IPY_MODEL_ed6cb232f5924e45bc80cb31e1e5b0ba",
            "_dom_classes": [],
            "description": "",
            "_model_name": "HTMLModel",
            "placeholder": "​",
            "_view_module": "@jupyter-widgets/controls",
            "_model_module_version": "1.5.0",
            "value": "Samples collected: 100%",
            "_view_count": null,
            "_view_module_version": "1.5.0",
            "description_tooltip": null,
            "_model_module": "@jupyter-widgets/controls",
            "layout": "IPY_MODEL_81249418f6504d08a8e1cf86d325581b"
          }
        },
        "f9ee364d143848e990d4dc131a9357a3": {
          "model_module": "@jupyter-widgets/controls",
          "model_name": "FloatProgressModel",
          "model_module_version": "1.5.0",
          "state": {
            "_view_name": "ProgressView",
            "style": "IPY_MODEL_97dff74615894f2e8e4cfa57d6338b84",
            "_dom_classes": [],
            "description": "",
            "_model_name": "FloatProgressModel",
            "bar_style": "success",
            "max": 1000,
            "_view_module": "@jupyter-widgets/controls",
            "_model_module_version": "1.5.0",
            "value": 1000,
            "_view_count": null,
            "_view_module_version": "1.5.0",
            "orientation": "horizontal",
            "min": 0,
            "description_tooltip": null,
            "_model_module": "@jupyter-widgets/controls",
            "layout": "IPY_MODEL_bcea07b3bad54ee4b08b08efbf9d63a0"
          }
        },
        "35333d04abec41eb84071971317bfa3c": {
          "model_module": "@jupyter-widgets/controls",
          "model_name": "HTMLModel",
          "model_module_version": "1.5.0",
          "state": {
            "_view_name": "HTMLView",
            "style": "IPY_MODEL_2ede327f96af4b33937b8e655f177669",
            "_dom_classes": [],
            "description": "",
            "_model_name": "HTMLModel",
            "placeholder": "​",
            "_view_module": "@jupyter-widgets/controls",
            "_model_module_version": "1.5.0",
            "value": " 1000/1000 [00:02&lt;00:00, 497.26it/s]",
            "_view_count": null,
            "_view_module_version": "1.5.0",
            "description_tooltip": null,
            "_model_module": "@jupyter-widgets/controls",
            "layout": "IPY_MODEL_1a1f30df0509418c8157d62ff2bae0e1"
          }
        },
        "3200c4026b8f44c9ba5dcc3406d983d9": {
          "model_module": "@jupyter-widgets/controls",
          "model_name": "HBoxModel",
          "model_module_version": "1.5.0",
          "state": {
            "_view_name": "HBoxView",
            "_dom_classes": [],
            "_model_name": "HBoxModel",
            "_view_module": "@jupyter-widgets/controls",
            "_model_module_version": "1.5.0",
            "_view_count": null,
            "_view_module_version": "1.5.0",
            "box_style": "",
            "layout": "IPY_MODEL_f518852ebbc648838f9ac36a016484da",
            "_model_module": "@jupyter-widgets/controls",
            "children": [
              "IPY_MODEL_d8f375a0fe24409ebfeccb5ff9de0702",
              "IPY_MODEL_f9ee364d143848e990d4dc131a9357a3",
              "IPY_MODEL_35333d04abec41eb84071971317bfa3c"
            ]
          }
        }
      }
    }
  },
  "nbformat": 4,
  "nbformat_minor": 0
}