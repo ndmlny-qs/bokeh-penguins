{
 "cells": [
  {
   "cell_type": "code",
   "execution_count": null,
   "id": "107177c1-5d81-4920-bb4c-301625c2ea99",
   "metadata": {},
   "outputs": [],
   "source": [
    "import pandas as pd\n",
    "from bokeh.io import output_notebook, show\n",
    "from bokeh.layouts import column, row\n",
    "from bokeh.models import ColumnDataSource, HoverTool\n",
    "from bokeh.plotting import figure\n",
    "\n",
    "\n",
    "output_notebook()"
   ]
  },
  {
   "cell_type": "code",
   "execution_count": null,
   "id": "9c04e25c-0cd5-42dc-836a-50f886e60267",
   "metadata": {},
   "outputs": [],
   "source": [
    "url = \"https://github.com/allisonhorst/palmerpenguins/raw/master/inst/extdata/penguins_raw.csv\"\n",
    "df = pd.read_csv(url).dropna().reset_index(drop=True).copy()"
   ]
  },
  {
   "cell_type": "code",
   "execution_count": null,
   "id": "170ae765-216d-4fa8-890b-4812bd5aca97",
   "metadata": {},
   "outputs": [],
   "source": [
    "# Create the figure\n",
    "p = figure(\n",
    "    plot_width=800,\n",
    "    plot_height=400,\n",
    "    outline_line_color=\"black\",\n",
    "    x_axis_label=\"Body mass (g)\",\n",
    "    y_axis_label=\"Flipper length (mm)\",\n",
    "    title=\"Penguins\",\n",
    ")\n",
    "\n",
    "# Bind data to the figure\n",
    "colors = [\"steelblue\", \"magenta\", \"brown\"]\n",
    "unique_species = sorted(df[\"Species\"].unique())\n",
    "species_colors = [\n",
    "    colors[unique_species.index(species)]\n",
    "    for item_index, species in df[\"Species\"].iteritems()\n",
    "]\n",
    "cds = ColumnDataSource(\n",
    "    {\n",
    "        \"x\": df[\"Body Mass (g)\"].astype(int).tolist(),\n",
    "        \"y\": df[\"Flipper Length (mm)\"].astype(int).tolist(),\n",
    "        \"color\": species_colors,\n",
    "        \"species\": df[\"Species\"].tolist(),\n",
    "        \"island\": df[\"Island\"].tolist(),\n",
    "    }\n",
    ")\n",
    "glyph = p.circle(\n",
    "    x=\"x\",\n",
    "    y=\"y\",\n",
    "    source=cds,\n",
    "    size=10,\n",
    "    fill_color=\"color\",\n",
    "    line_color=\"white\",\n",
    "    fill_alpha=0.6,\n",
    "    line_alpha=0.6,\n",
    "    hover_fill_color=\"orange\",\n",
    "    hover_line_color=\"black\",\n",
    "    hover_fill_alpha=1,\n",
    "    hover_line_alpha=1,\n",
    "    legend_group=\"species\",\n",
    ")\n",
    "tips = HoverTool(\n",
    "    renderers=[glyph],\n",
    "    tooltips=[\n",
    "        (\"Flipper\", \"@y{0,}mm\"),\n",
    "        (\"Mass\", \"@x{0,}g\"),\n",
    "        (\"Species\", \"@species\"),\n",
    "        (\"Island\", \"@island\"),\n",
    "    ],\n",
    ")\n",
    "p.add_tools(tips)\n",
    "\n",
    "# Style the figure\n",
    "p.grid.grid_line_alpha = 0.2\n",
    "p.grid.grid_line_color = \"grey\"\n",
    "p.grid.grid_line_width = 0.3\n",
    "p.legend.location = \"top_left\"\n",
    "p.legend.title = \"Species\"\n",
    "\n",
    "# Show the figure\n",
    "show(p)"
   ]
  }
 ],
 "metadata": {
  "language_info": {
   "name": "python"
  }
 },
 "nbformat": 4,
 "nbformat_minor": 5
}
